{
 "cells": [
  {
   "cell_type": "markdown",
   "id": "8f0ddb6b",
   "metadata": {},
   "source": [
    "## Teste de hipótese para problemas de negócio.\n",
    "\n",
    "Área: Telecon."
   ]
  },
  {
   "cell_type": "code",
   "execution_count": 31,
   "id": "ec1068f3",
   "metadata": {},
   "outputs": [],
   "source": [
    "# Preparação do ambiente\n",
    "import pandas as pd\n",
    "import numpy as np\n",
    "from scipy.stats import stats\n",
    "from scipy.stats import chi2_contingency\n",
    "from platform import python_version\n",
    "import warnings\n",
    "warnings.filterwarnings('ignore')"
   ]
  },
  {
   "cell_type": "code",
   "execution_count": 2,
   "id": "d63b848f",
   "metadata": {},
   "outputs": [
    {
     "name": "stdout",
     "output_type": "stream",
     "text": [
      "Author: Fagner F. Farias\n",
      "\n",
      "scipy : 1.10.1\n",
      "numpy : 1.24.3\n",
      "pandas: 1.5.3\n",
      "\n",
      "Versão Python:3.11.3\n"
     ]
    }
   ],
   "source": [
    "# Versão da interpretador e pacotes utilizados\n",
    "#!pip install -q -U watermark\n",
    "%load_ext watermark\n",
    "%watermark -a \"Fagner F. Farias\" --iv\n",
    "print(f\"Versão Python:{python_version()}\")"
   ]
  },
  {
   "cell_type": "code",
   "execution_count": 3,
   "id": "aeb6b753",
   "metadata": {},
   "outputs": [],
   "source": [
    "# Carga dos dados \n",
    "dados = pd.read_csv(\"dataset.csv\")"
   ]
  },
  {
   "cell_type": "code",
   "execution_count": 4,
   "id": "a82be4b8",
   "metadata": {},
   "outputs": [
    {
     "data": {
      "text/html": [
       "<div>\n",
       "<style scoped>\n",
       "    .dataframe tbody tr th:only-of-type {\n",
       "        vertical-align: middle;\n",
       "    }\n",
       "\n",
       "    .dataframe tbody tr th {\n",
       "        vertical-align: top;\n",
       "    }\n",
       "\n",
       "    .dataframe thead th {\n",
       "        text-align: right;\n",
       "    }\n",
       "</style>\n",
       "<table border=\"1\" class=\"dataframe\">\n",
       "  <thead>\n",
       "    <tr style=\"text-align: right;\">\n",
       "      <th></th>\n",
       "      <th>id_cliente</th>\n",
       "      <th>genero</th>\n",
       "      <th>canal_atendimento</th>\n",
       "      <th>regiao</th>\n",
       "      <th>estado_civil</th>\n",
       "      <th>segmento</th>\n",
       "      <th>consumo_medio_mensal_antes_upgrade</th>\n",
       "      <th>consumo_medio_mes_anterior_ao_upgrade</th>\n",
       "      <th>consumo_medio_primeiro_mes_apos_upgrade</th>\n",
       "      <th>consumo_medio_segundo_mes_apos_upgrade</th>\n",
       "    </tr>\n",
       "  </thead>\n",
       "  <tbody>\n",
       "    <tr>\n",
       "      <th>0</th>\n",
       "      <td>70</td>\n",
       "      <td>0</td>\n",
       "      <td>4</td>\n",
       "      <td>1</td>\n",
       "      <td>1</td>\n",
       "      <td>1</td>\n",
       "      <td>57</td>\n",
       "      <td>49.2</td>\n",
       "      <td>52</td>\n",
       "      <td>57.2</td>\n",
       "    </tr>\n",
       "    <tr>\n",
       "      <th>1</th>\n",
       "      <td>121</td>\n",
       "      <td>1</td>\n",
       "      <td>4</td>\n",
       "      <td>2</td>\n",
       "      <td>1</td>\n",
       "      <td>3</td>\n",
       "      <td>68</td>\n",
       "      <td>63.6</td>\n",
       "      <td>59</td>\n",
       "      <td>64.9</td>\n",
       "    </tr>\n",
       "    <tr>\n",
       "      <th>2</th>\n",
       "      <td>86</td>\n",
       "      <td>0</td>\n",
       "      <td>4</td>\n",
       "      <td>3</td>\n",
       "      <td>1</td>\n",
       "      <td>1</td>\n",
       "      <td>44</td>\n",
       "      <td>64.8</td>\n",
       "      <td>33</td>\n",
       "      <td>36.3</td>\n",
       "    </tr>\n",
       "    <tr>\n",
       "      <th>3</th>\n",
       "      <td>141</td>\n",
       "      <td>0</td>\n",
       "      <td>4</td>\n",
       "      <td>3</td>\n",
       "      <td>1</td>\n",
       "      <td>3</td>\n",
       "      <td>63</td>\n",
       "      <td>56.4</td>\n",
       "      <td>44</td>\n",
       "      <td>48.4</td>\n",
       "    </tr>\n",
       "    <tr>\n",
       "      <th>4</th>\n",
       "      <td>172</td>\n",
       "      <td>0</td>\n",
       "      <td>4</td>\n",
       "      <td>2</td>\n",
       "      <td>1</td>\n",
       "      <td>2</td>\n",
       "      <td>47</td>\n",
       "      <td>68.4</td>\n",
       "      <td>52</td>\n",
       "      <td>57.2</td>\n",
       "    </tr>\n",
       "  </tbody>\n",
       "</table>\n",
       "</div>"
      ],
      "text/plain": [
       "   id_cliente  genero  canal_atendimento  regiao  estado_civil  segmento  \\\n",
       "0          70       0                  4       1             1         1   \n",
       "1         121       1                  4       2             1         3   \n",
       "2          86       0                  4       3             1         1   \n",
       "3         141       0                  4       3             1         3   \n",
       "4         172       0                  4       2             1         2   \n",
       "\n",
       "   consumo_medio_mensal_antes_upgrade  consumo_medio_mes_anterior_ao_upgrade  \\\n",
       "0                                  57                                   49.2   \n",
       "1                                  68                                   63.6   \n",
       "2                                  44                                   64.8   \n",
       "3                                  63                                   56.4   \n",
       "4                                  47                                   68.4   \n",
       "\n",
       "   consumo_medio_primeiro_mes_apos_upgrade  \\\n",
       "0                                       52   \n",
       "1                                       59   \n",
       "2                                       33   \n",
       "3                                       44   \n",
       "4                                       52   \n",
       "\n",
       "   consumo_medio_segundo_mes_apos_upgrade  \n",
       "0                                    57.2  \n",
       "1                                    64.9  \n",
       "2                                    36.3  \n",
       "3                                    48.4  \n",
       "4                                    57.2  "
      ]
     },
     "execution_count": 4,
     "metadata": {},
     "output_type": "execute_result"
    }
   ],
   "source": [
    "# Visualizando\n",
    "dados.head()"
   ]
  },
  {
   "cell_type": "code",
   "execution_count": 15,
   "id": "34d2ead5",
   "metadata": {},
   "outputs": [
    {
     "name": "stdout",
     "output_type": "stream",
     "text": [
      "<class 'pandas.core.frame.DataFrame'>\n",
      "RangeIndex: 200 entries, 0 to 199\n",
      "Data columns (total 10 columns):\n",
      " #   Column                                   Non-Null Count  Dtype  \n",
      "---  ------                                   --------------  -----  \n",
      " 0   id_cliente                               200 non-null    int64  \n",
      " 1   genero                                   200 non-null    int64  \n",
      " 2   canal_atendimento                        200 non-null    int64  \n",
      " 3   regiao                                   200 non-null    int64  \n",
      " 4   estado_civil                             200 non-null    int64  \n",
      " 5   segmento                                 200 non-null    int64  \n",
      " 6   consumo_medio_mensal_antes_upgrade       200 non-null    int64  \n",
      " 7   consumo_medio_mes_anterior_ao_upgrade    200 non-null    float64\n",
      " 8   consumo_medio_primeiro_mes_apos_upgrade  200 non-null    int64  \n",
      " 9   consumo_medio_segundo_mes_apos_upgrade   200 non-null    float64\n",
      "dtypes: float64(2), int64(8)\n",
      "memory usage: 15.8 KB\n"
     ]
    }
   ],
   "source": [
    "# Metadados\n",
    "dados.info()"
   ]
  },
  {
   "cell_type": "markdown",
   "id": "4812e419",
   "metadata": {},
   "source": [
    "O objetivo desta análise é demostrar a aplicação do testes de hipóteses estatísticos para resolver problemas de negócio. Portanto, não se dará atenção às demais atividades envolvendo um projetos de dados, como DataWrangling, Pré-processamento, etc.\n",
    "\n",
    "Assim, verificando que nãoh há dados nulos, passamos aos teste de hipóteses."
   ]
  },
  {
   "cell_type": "markdown",
   "id": "b1bdef60",
   "metadata": {},
   "source": [
    "#### **Problemas de negócio**"
   ]
  },
  {
   "cell_type": "markdown",
   "id": "8ff3c91c",
   "metadata": {},
   "source": [
    "**1 - O consumo médio de largura de banda do mês anterior do upgrade, foi maior que 50?**"
   ]
  },
  {
   "cell_type": "markdown",
   "id": "7b024f21",
   "metadata": {},
   "source": [
    "**Modelagem do teste de hipótese**\n",
    "\n",
    "Teste: test-t de 1 amostra (de calda superior)\n",
    "\n",
    ">H0: O consumo de banda larga no mês anterior foi ou menor que 50.\n",
    "\n",
    ">Ha: O consumo de banda larga no mês atenrior foi maior de 50.\n"
   ]
  },
  {
   "cell_type": "code",
   "execution_count": 13,
   "id": "eb9b6123",
   "metadata": {},
   "outputs": [
    {
     "name": "stdout",
     "output_type": "stream",
     "text": [
      "O retorno foi p-value de: 0.0011969244515674076. \n",
      "Portanto, rejeita-se a H0, concluindo-se que há evidências estatísticamente relevantes \n",
      "de que o consumo foi maior que 50.\n"
     ]
    }
   ],
   "source": [
    "# Aplicando teste\n",
    "statistic, pvalue = stats.ttest_1samp(a = dados.consumo_medio_mensal_antes_upgrade,\n",
    "                           popmean = 50,\n",
    "                           alternative = 'greater')\n",
    "\n",
    "print(f'O retorno foi p-value de: {pvalue}. \\nPortanto, rejeita-se a H0, concluindo-se que há evidências estatísticamente relevantes \\nde que o consumo foi maior que 50.')"
   ]
  },
  {
   "cell_type": "markdown",
   "id": "e5e2e141",
   "metadata": {},
   "source": [
    "**2 - Houve diferença no consumo de largura de banda antes e depois do pugrade, considerando o primeiro mês, após o upgrande?**"
   ]
  },
  {
   "cell_type": "markdown",
   "id": "352ca0d0",
   "metadata": {},
   "source": [
    "**Modelagem do teste de hipótese**\n",
    "\n",
    "Teste: test-t de 2 amostras relacionadas.\n",
    "\n",
    ">H0: O consumo de banda larga foi igual antes do upgrade, e no mês seguinte à implementação.\n",
    "\n",
    ">Ha: O consumo de banda larga não foi igual antes do upgrade, e no mês seguinte à implementação.\n"
   ]
  },
  {
   "cell_type": "code",
   "execution_count": 15,
   "id": "a1c58008",
   "metadata": {},
   "outputs": [
    {
     "name": "stdout",
     "output_type": "stream",
     "text": [
      "O pvalor foi de 0.3868186820914985. \n",
      "Portanto, não há evidências estatísticas para rejeitar a H0.\n",
      "Assim, tem-se que o consumo foi igual, antes e depois do upgrade.\n"
     ]
    }
   ],
   "source": [
    "# Aplicando teste\n",
    "statistic, pvalue = stats.ttest_rel(a = dados.consumo_medio_mensal_antes_upgrade,\n",
    "                                   b = dados.consumo_medio_primeiro_mes_apos_upgrade)\n",
    "\n",
    "print(f'O pvalor foi de {pvalue}. \\nPortanto, não há evidências estatísticas para rejeitar a H0.\\nAssim, tem-se que o consumo foi igual, antes e depois do upgrade.')"
   ]
  },
  {
   "cell_type": "markdown",
   "id": "33b1b3ca",
   "metadata": {},
   "source": [
    "**3 - O gênero do cliente influenciou o consumo de banda, após o upgrade?**"
   ]
  },
  {
   "cell_type": "markdown",
   "id": "dc30c8cf",
   "metadata": {},
   "source": [
    "**Modelagem do teste de hipótese**\n",
    "\n",
    "Teste: test-t de 2 amostras independentes.\n",
    "\n",
    ">H0: O consumo de banda larga não foi igual entre os sexos feminino e masculino.\n",
    "\n",
    ">Ha: O consumo de banda larga foi igual entre os sexos feminino e masculino.\n"
   ]
  },
  {
   "cell_type": "code",
   "execution_count": 21,
   "id": "cfd59e00",
   "metadata": {},
   "outputs": [],
   "source": [
    "# Extração das amostras\n",
    "masculino = dados.consumo_medio_primeiro_mes_apos_upgrade[dados.genero == 0]\n",
    "feminino = dados.consumo_medio_primeiro_mes_apos_upgrade[dados.genero == 1]"
   ]
  },
  {
   "cell_type": "code",
   "execution_count": 26,
   "id": "bc8525d7",
   "metadata": {},
   "outputs": [
    {
     "name": "stdout",
     "output_type": "stream",
     "text": [
      "O pvalue é de 0.0002462546120354903, portanto, há evidências estatísticas para rejeitar a H0. \n",
      "Concluin-se que as amostras tem variâncias diferestes.\n"
     ]
    }
   ],
   "source": [
    "# Avaliando suposição - igualdade de variância\n",
    "    #H0 - as amostas possuem a mesma variância\n",
    "    #Ha - as amostras tem variância diferentes\n",
    "\n",
    "statistics, pvalue = stats.f_oneway(masculino,\n",
    "                                    feminino)\n",
    "\n",
    "print(f'O pvalue é de {pvalue}, portanto, há evidências estatísticas para rejeitar a H0. \\nConcluin-se que as amostras tem variâncias diferestes.')"
   ]
  },
  {
   "cell_type": "code",
   "execution_count": 29,
   "id": "67934501",
   "metadata": {},
   "outputs": [
    {
     "name": "stdout",
     "output_type": "stream",
     "text": [
      "O pvalue foi de 0.000340884935942662.\n",
      "Portanto, há evidências estatísticas para rejeitar a H0, assumindo-se que o consumo foi igual para ambos os sexos.\n"
     ]
    }
   ],
   "source": [
    "# Aplicando teste\n",
    "statistic, pvalue = stats.ttest_ind(a = masculino,\n",
    "                                   b = feminino,\n",
    "                                   equal_var= False) #informando que as variâncias são diferentes\n",
    "\n",
    "print(f'O pvalue foi de {pvalue}.\\nPortanto, há evidências estatísticas para rejeitar a H0, assumindo-se que o consumo foi igual para ambos os sexos.')"
   ]
  },
  {
   "cell_type": "markdown",
   "id": "0be89f70",
   "metadata": {},
   "source": [
    "**3 - Há relação entre região e segmento do cliente?**"
   ]
  },
  {
   "cell_type": "markdown",
   "id": "27115b8c",
   "metadata": {},
   "source": [
    "**Modelagem do teste de hipótese**\n",
    "\n",
    "Teste: test-t chi-quadrado (para variáveis categóricas).\n",
    "\n",
    ">H0: Não há relacionamento entre as região e segmento do cliente.\n",
    "\n",
    ">Ha: Há relacionamento entre as região e segmento do cliente.\n"
   ]
  },
  {
   "cell_type": "code",
   "execution_count": 30,
   "id": "44e7d6dd",
   "metadata": {},
   "outputs": [
    {
     "data": {
      "text/html": [
       "<div>\n",
       "<style scoped>\n",
       "    .dataframe tbody tr th:only-of-type {\n",
       "        vertical-align: middle;\n",
       "    }\n",
       "\n",
       "    .dataframe tbody tr th {\n",
       "        vertical-align: top;\n",
       "    }\n",
       "\n",
       "    .dataframe thead th {\n",
       "        text-align: right;\n",
       "    }\n",
       "</style>\n",
       "<table border=\"1\" class=\"dataframe\">\n",
       "  <thead>\n",
       "    <tr style=\"text-align: right;\">\n",
       "      <th>segmento</th>\n",
       "      <th>1</th>\n",
       "      <th>2</th>\n",
       "      <th>3</th>\n",
       "      <th>All</th>\n",
       "    </tr>\n",
       "    <tr>\n",
       "      <th>regiao</th>\n",
       "      <th></th>\n",
       "      <th></th>\n",
       "      <th></th>\n",
       "      <th></th>\n",
       "    </tr>\n",
       "  </thead>\n",
       "  <tbody>\n",
       "    <tr>\n",
       "      <th>1</th>\n",
       "      <td>16</td>\n",
       "      <td>19</td>\n",
       "      <td>12</td>\n",
       "      <td>47</td>\n",
       "    </tr>\n",
       "    <tr>\n",
       "      <th>2</th>\n",
       "      <td>20</td>\n",
       "      <td>44</td>\n",
       "      <td>31</td>\n",
       "      <td>95</td>\n",
       "    </tr>\n",
       "    <tr>\n",
       "      <th>3</th>\n",
       "      <td>9</td>\n",
       "      <td>42</td>\n",
       "      <td>7</td>\n",
       "      <td>58</td>\n",
       "    </tr>\n",
       "    <tr>\n",
       "      <th>All</th>\n",
       "      <td>45</td>\n",
       "      <td>105</td>\n",
       "      <td>50</td>\n",
       "      <td>200</td>\n",
       "    </tr>\n",
       "  </tbody>\n",
       "</table>\n",
       "</div>"
      ],
      "text/plain": [
       "segmento   1    2   3  All\n",
       "regiao                    \n",
       "1         16   19  12   47\n",
       "2         20   44  31   95\n",
       "3          9   42   7   58\n",
       "All       45  105  50  200"
      ]
     },
     "execution_count": 30,
     "metadata": {},
     "output_type": "execute_result"
    }
   ],
   "source": [
    "# Confeccionando tabela de contingência\n",
    "\n",
    "tabelaContingencia = pd.crosstab(dados.regiao,\n",
    "                                dados.segmento,\n",
    "                                margins=True)\n",
    "\n",
    "tabelaContingencia"
   ]
  },
  {
   "cell_type": "code",
   "execution_count": 34,
   "id": "ee36c830",
   "metadata": {},
   "outputs": [
    {
     "name": "stdout",
     "output_type": "stream",
     "text": [
      "O pvalue foi de 0.055282939487992254.\n",
      "Neste caso, as duas hipóteses merecem ser analisadas mais de perto, haja vis que, \n",
      " o pvalue ficou pouco acima do nível de significância desejado.\n"
     ]
    }
   ],
   "source": [
    "# Aplicando teste\n",
    "\n",
    "chi, p, dof, ex = chi2_contingency(observed = tabelaContingencia)\n",
    "\n",
    "print(f'O pvalue foi de {p}.\\nNeste caso, as duas hipóteses merecem ser analisadas mais de perto, haja vis que, \\n o pvalue ficou pouco acima do nível de significância desejado.')"
   ]
  },
  {
   "cell_type": "markdown",
   "id": "f17c64f6",
   "metadata": {},
   "source": [
    "As questões acima são exemplos de quetões que podem surgir no dia-a-dia, e, decididas de forma objetiva com base em dados."
   ]
  },
  {
   "cell_type": "code",
   "execution_count": null,
   "id": "68467537",
   "metadata": {},
   "outputs": [],
   "source": []
  }
 ],
 "metadata": {
  "kernelspec": {
   "display_name": "Python 3 (ipykernel)",
   "language": "python",
   "name": "python3"
  },
  "language_info": {
   "codemirror_mode": {
    "name": "ipython",
    "version": 3
   },
   "file_extension": ".py",
   "mimetype": "text/x-python",
   "name": "python",
   "nbconvert_exporter": "python",
   "pygments_lexer": "ipython3",
   "version": "3.11.3"
  }
 },
 "nbformat": 4,
 "nbformat_minor": 5
}
