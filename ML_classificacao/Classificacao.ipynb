{
 "cells": [
  {
   "cell_type": "code",
   "execution_count": 16,
   "metadata": {},
   "outputs": [],
   "source": [
    "#warnings\n",
    "import warnings\n",
    "warnings.filterwarnings('ignore')"
   ]
  },
  {
   "cell_type": "markdown",
   "metadata": {
    "id": "VyEkoSDTLXFd"
   },
   "source": [
    "# Título do projeto: Previsão de doenças epáticas."
   ]
  },
  {
   "cell_type": "markdown",
   "metadata": {
    "id": "u6KSlOpXLjLG"
   },
   "source": [
    "# Introdução"
   ]
  },
  {
   "cell_type": "markdown",
   "metadata": {
    "id": "VKviWkPgLnaW"
   },
   "source": [
    "## Sobre o cojunto de dados."
   ]
  },
  {
   "cell_type": "markdown",
   "metadata": {
    "id": "10gJPyISLtz8"
   },
   "source": [
    "- Fonte: [clique aqui](https://archive.ics.uci.edu/dataset/225/ilpd+indian+liver+patient+dataset)\n",
    "\n",
    "\n",
    "- Descrição: \n",
    "\n",
    "Este conjunto de dados contém 416 registros de pacientes hepáticos e 167 registros de pacientes não hepáticos. O conjunto de dados foi coletado no nordeste de Andhra Pradesh, Índia. Seletor é um rótulo de classe usado para dividir em grupos (paciente com fígado ou não). Este conjunto de dados contém 441 registros de pacientes do sexo masculino e 142 registros de pacientes do sexo feminino. Qualquer paciente com idade superior a 89 anos é listado como tendo “90 anos”. [Fonte](https://archive.ics.uci.edu/dataset/225/ilpd+indian+liver+patient+dataset)\n",
    "\n",
    "Autores do dataset: Bendi Ramana, N. Venkateswarlu."
   ]
  },
  {
   "cell_type": "markdown",
   "metadata": {
    "id": "ajuathqkLx21"
   },
   "source": [
    "## Motivação\n",
    "\n",
    "Este projeto foi desenvolvido como parte da do curso 2 (Big Data Real-Time Analytics com Python e Spark) da trilha de formação **Cientista de Dados** da [Data Science Academy](https://www.datascienceacademy.com.br/bundle/formacao-cientista-de-dados).\n",
    "\n"
   ]
  },
  {
   "cell_type": "markdown",
   "metadata": {
    "id": "ARkjsPsPL7um"
   },
   "source": [
    "## Dicionário de dados"
   ]
  },
  {
   "cell_type": "markdown",
   "metadata": {},
   "source": [
    "|Label|Descrição|Tipo|\n",
    "|------|-------|-----|\n",
    "|Age   |Idade|numérico|\n",
    "|Gender|Genero|string|\n",
    "|Total_Bilirubin|Exame Clínico|numérico|\n",
    "|Direct_Bilirubin|Exame Clínico|numérico|\n",
    "|Alkaline_Phosphotase|Exame Clínico|numérico|\n",
    "|Alamine_Aminotransferase|Exame Clínico|numérico|\n",
    "|Aspartate_Aminotransferase|Exame Clínico|numérico|\n",
    "|Total_Protiens|Exame Clínico|numérico|\n",
    "|Albumin|Exame Clínico|numérico|\n",
    "|Albumin_and_Globulin_Ratio|Exame Clínico|numérico|\n",
    "|Dataset|Diagnóstico|numérico|"
   ]
  },
  {
   "cell_type": "markdown",
   "metadata": {
    "id": "bZi-GPlKL-et"
   },
   "source": [
    "# Projeto"
   ]
  },
  {
   "cell_type": "markdown",
   "metadata": {
    "id": "uiAotlyRMW6V"
   },
   "source": [
    "## **Definição do problema**"
   ]
  },
  {
   "cell_type": "markdown",
   "metadata": {
    "id": "FKT7GkilMcOG"
   },
   "source": [
    "**O projeto visa a construção de um modelo de ML para previsão de doenças epáticas. Conforme definido pela área técnica da empresa, é necessário que o algoritmo apresente uma capacidade preditiva de, no mínimo, 75%.**\n",
    "\n",
    "\n",
    "Temos dados disponibilizados on-line, da base dados UCI. São estão disponíveis opções para obter mais dados. Podem ser acessados pelo site disponibilizado acima (fonte).\n",
    "\n",
    "\n",
    "- **Dados disponíveis:**\n",
    "\n",
    "    * Idade (4 - 90 anos)\n",
    "    * Gênero (feminino - masculino)\n",
    "    * Diagnóstico (2-1)\n",
    "    * Dados clínicos (avaliam a saúde do fígado e alguns aspectos do metabolismo):\n",
    "        * Total_Bilirubin e Direct_Bilirubin: medem os nível de bilirubina no corpo. A bilirubina é responsável pelo pegmento amarelo.\n",
    "        * Alkaline_Phosphotase: Enzima presente principalmente no fígado e ossos.\n",
    "        * Alamine_Aminotransferase (ALT) e Aspartate_Aminotransferase (AST): São enzimas liberadas quando as células do fígado estão danificadas.\n",
    "        * Total_Protiens: Mede as proteínas totais no sangue, incluindo albumina e globulina.\n",
    "        * Albumin: Avalia os níveis da proteína albumina no sangue.\n",
    "        * Albumin_and_Globulin_Ratio: É a relação entre os níveis de albumina e globulina no sangue.\n",
    "\n",
    "\n",
    "\n",
    "- **Dados que poderiam ser investigados (de acordo com informações de sites especializados), mas não estão disponíveis:**\n",
    "    - Histórico de doenças crônicas\n",
    "    - Histórico de consumo de alcool\n",
    "    - Histórico da doença na família\n",
    "    - Hábitos de vida\n",
    "    - Consumo de medicamentos\n",
    "    - Demais exames clínicos: gama-glutamiltransferase (GGT) e a proteína C reativa (PCR).\n",
    "\n",
    "\n",
    "- **Quais dados não serão necessários:**\n",
    "\n",
    "Iniciaremos a análise exploratória com todos os dados disponíveis, e avaliaremos o impacto quando às relacionarmos."
   ]
  },
  {
   "cell_type": "markdown",
   "metadata": {
    "id": "AeenwxYCMDiG"
   },
   "source": [
    "## Bibliotecas"
   ]
  },
  {
   "cell_type": "code",
   "execution_count": 19,
   "metadata": {
    "id": "ZnmUfnUmLTMa"
   },
   "outputs": [],
   "source": [
    "# imports\n",
    "\n",
    "    # pystack\n",
    "import pandas as pd\n",
    "import numpy as np\n",
    "import matplotlib.pyplot as plt\n",
    "import seaborn as sns\n",
    "import sklearn\n",
    "\n",
    "    # computação científica e análise estatística\n",
    "import scipy\n",
    "from scipy import stats\n",
    "\n",
    "    # Machine Learning\n",
    "from sklearn.model_selection import train_test_split #split treino e teste\n",
    "from sklearn.model_selection import GridSearchCV # ajuste de hiperpâmetros\n",
    "from sklearn.model_selection import RandomizedSearchCV # ajuste de hiperpâmetros\n",
    "from sklearn.model_selection import cross_val_score # aplicação de validação cruzada\n",
    "from sklearn.preprocessing import StandardScaler # feature scalling\n",
    "from sklearn.preprocessing import LabelEncoder # codificação de variáveis\n",
    "from sklearn.linear_model import LogisticRegression # Regressão Logística\n",
    "from sklearn.ensemble import RandomForestClassifier # Floresta Aleatória\n",
    "from sklearn.tree import DecisionTreeClassifier # Árvores de decisão\n",
    "from sklearn.neighbors import KNeighborsClassifier # kNN Classifier\n",
    "from sklearn.svm import SVC # Support Vector Classifier\n",
    "\n",
    "#balanceamento\n",
    "from imblearn.over_sampling import SMOTE\n",
    "\n",
    "#imputação de nan\n",
    "from sklearn.impute import KNNImputer\n",
    "\n",
    "#feature scaling\n",
    "from sklearn.preprocessing import MinMaxScaler, StandardScaler\n",
    "\n",
    "#métricas\n",
    "from sklearn.metrics import roc_auc_score, roc_curve, auc, accuracy_score, confusion_matrix\n",
    "    \n",
    "\n",
    "    \n",
    "#persistir dados\n",
    "import pickle\n",
    "import joblib\n",
    "    "
   ]
  },
  {
   "cell_type": "code",
   "execution_count": 20,
   "metadata": {},
   "outputs": [
    {
     "name": "stdout",
     "output_type": "stream",
     "text": [
      "Versão python: 3.11.4\n",
      "Author: Fagner F. Farias (fagner.ffarias3@gmail.com/47 9 9737 6438)\n",
      "\n",
      "joblib    : 1.2.0\n",
      "sklearn   : 1.3.0\n",
      "scipy     : 1.10.1\n",
      "pandas    : 1.5.3\n",
      "seaborn   : 0.12.2\n",
      "matplotlib: 3.7.1\n",
      "numpy     : 1.24.3\n",
      "\n"
     ]
    }
   ],
   "source": [
    "# configuração de ambiente\n",
    "\n",
    "from platform import python_version\n",
    "import warnings\n",
    "%load_ext watermark\n",
    "print(f'Versão python: {python_version()}')\n",
    "%watermark -a \"Fagner F. Farias (fagner.ffarias3@gmail.com/47 9 9737 6438)\" --iv\n",
    "warnings.filterwarnings('ignore')\n"
   ]
  },
  {
   "cell_type": "code",
   "execution_count": 21,
   "metadata": {},
   "outputs": [],
   "source": [
    "from matplotlib import rcParams\n",
    "\n",
    "# Ajuste das configurações de estilo\n",
    "rcParams['figure.figsize'] = (15,10)\n",
    "rcParams['lines.linewidth'] = 2\n",
    "rcParams['axes.titlesize'] = 10\n",
    "rcParams['axes.labelsize'] = 10\n",
    "rcParams['lines.markersize'] = 10  # Correção aqui, removendo espaço em excesso\n",
    "rcParams['xtick.labelsize'] = 10\n",
    "rcParams['ytick.labelsize'] = 10"
   ]
  },
  {
   "cell_type": "markdown",
   "metadata": {
    "id": "Pj_F3nE9MFgE"
   },
   "source": [
    "## Funções"
   ]
  },
  {
   "cell_type": "code",
   "execution_count": 22,
   "metadata": {},
   "outputs": [],
   "source": [
    "# Função para instânciar dados e fazer cópia\n",
    "class dados():\n",
    "    \n",
    "    def __init__(self, path = None, y = None, x = None):\n",
    "        \n",
    "        self._y = None\n",
    "        self._x = None\n",
    "        self._dados = None\n",
    "        \n",
    "        print(\"Entre com o path do .csv\")\n",
    "        \n",
    "        \n",
    "    #retorna o valor de um objeto protegido\n",
    "    @property\n",
    "    def dataframe(self):\n",
    "        return self._dados\n",
    "    \n",
    "    \n",
    "    #seta o valor de um objeto protegido\n",
    "    @dataframe.setter\n",
    "    def  dataframe(self, dados):\n",
    "        \n",
    "        try:\n",
    "            \n",
    "            if isinstance(dados, str):\n",
    "                \n",
    "                self._dados = pd.read_csv(dados)\n",
    "                \n",
    "                print('Dados instanciados com sucesso!')\n",
    "                \n",
    "            elif isinstance(dados, pd.DataFrame):\n",
    "                \n",
    "                self._dados = dados\n",
    "                \n",
    "                print('Dados instanciados com sucesso!')\n",
    "                \n",
    "        except FileNotFoundError as exc:\n",
    "            print(\"Erro. o path correto deve ser informado.\")\n",
    "    \n",
    "    #retorna o valor de um objeto protegido\n",
    "    @property\n",
    "    def target(self):\n",
    "        return self._y\n",
    "    \n",
    "    \n",
    "    #seta o valor de um objeto protegido\n",
    "    @target.setter\n",
    "    def  target(self, y):\n",
    "        \n",
    "        try:\n",
    "            \n",
    "            if isinstance(y, pd.DataFrame):\n",
    "                \n",
    "                self._y = y\n",
    "                \n",
    "                print('target instanciado com sucesso!')\n",
    "                \n",
    "            else:\n",
    "                print(\"Erro. A variável target deve ser um pd.DataFrame.\")\n",
    "                \n",
    "        except Exception as exc:\n",
    "            print(\"Erro. A variável target deve ser um pd.DataFrame.\")\n",
    "            \n",
    "    @property\n",
    "    def preditoras(self):\n",
    "            return self._x\n",
    "        \n",
    "        \n",
    "    @preditoras.setter\n",
    "    def preditoras(self, x):\n",
    "        \n",
    "        try:\n",
    "            if isinstance(x, pd.DataFrame):\n",
    "                \n",
    "                self._x = x\n",
    "                \n",
    "                print(\"Variáveis preditoras armazenadas com sucesso!\")\n",
    "                \n",
    "            else:\n",
    "                print(\"As variáveis preditoras devem ser um pd.DataFrame\")\n",
    "        \n",
    "        except Exception:\n",
    "            \n",
    "            print(\"As variáveis preditoras devem ser um pd.DataFrame\")"
   ]
  },
  {
   "cell_type": "code",
   "execution_count": 33,
   "metadata": {
    "id": "F3R-3PK4MGsO"
   },
   "outputs": [],
   "source": [
    "# Classe lata wrangling\n",
    "class Medidas(dados):\n",
    "    \n",
    "    def __init__(self):\n",
    "        \n",
    "        pass    \n",
    "       \n",
    "    def duplicated(self, remove = False):\n",
    "        if remove:\n",
    "            \n",
    "            self.dataframe.drop_duplicates(inplace = True)\n",
    "        else:\n",
    "            return self.dataframe[self.dataframe.duplicated(keep = False)]\n",
    "    \n",
    "    \n",
    "    def nums(self, drop: list =  None):\n",
    "        \n",
    "        if drop:\n",
    "            \n",
    "            return self.dataframe.select_dtypes(include = ['int', 'float']).columns.drop(drop)\n",
    "\n",
    "        else:\n",
    "            \n",
    "            return self.dataframe.select_dtypes(include = ['int', 'float']).columns\n",
    "        \n",
    "    def tendenciaCentral(self):\n",
    "        \n",
    "        descricao = self.dataframe[self.nums()].describe().T.drop(['std'], axis = 1)\n",
    "        \n",
    "        descricao['moda'] = self.dataframe[self.nums()].mode().iloc[0]\n",
    "        \n",
    "        descricao['range'] = self.dataframe[self.nums()].max() - self.dataframe[self.nums()].max()\n",
    "        \n",
    "        descricao = descricao[['count', 'mean', 'moda', '50%',  '25%', '75%', 'min','max', 'range']]\n",
    "        \n",
    "        return(descricao)\n",
    "    \n",
    "    \n",
    "   \n",
    "    def dispersao(self):\n",
    "        \n",
    "        std = self.dataframe[self.nums()].std()\n",
    "        \n",
    "        coefVariacao = self.dataframe[self.nums()].mean() / self.dataframe[self.nums()].std()\n",
    "    \n",
    "        medidas_dispersao = pd.DataFrame([std, coefVariacao], index=['std', 'coefVariacao']).T\n",
    "        \n",
    "        return(medidas_dispersao)\n",
    "    \n",
    "    \n",
    "    def distribuicao(self):\n",
    "        \n",
    "        skewness = [stats.skew(self.dataframe[col]) for col in self.nums()]\n",
    "        \n",
    "        kurtosis = [stats.skew(self.dataframe[col]) for col in self.nums()]\n",
    "        \n",
    "        medidas_distribuicao = pd.DataFrame([skewness, kurtosis], index = ['skewness', 'kurtosis'], columns=self.nums())\n",
    "        \n",
    "        return medidas_distribuicao\n",
    "    \n",
    "    \n",
    "    def histogramas(self):\n",
    "        dimensoes = len(self.nums())\n",
    "        for i, col in enumerate(self.nums()):\n",
    "            plt.subplot(int (dimensoes/2), int(dimensoes/2), i + 1)\n",
    "            sns.histplot(self.dataframe[col], color = 'green', kde=True)\n",
    "            plt.tight_layout()\n",
    "\n",
    "        # definir parametros\n",
    "        plt.text(\n",
    "            x=0.5,  \n",
    "            y=1.05,  \n",
    "            s='Distribuição de Frequências',  \n",
    "            fontsize=20,  \n",
    "            ha='center',  \n",
    "            va='center',\n",
    "            alpha = 0.85,\n",
    "            fontweight = 'bold',\n",
    "            transform=plt.gcf().transFigure \n",
    "        )\n",
    "\n",
    "        plt.text(\n",
    "            s = 'Histrograma',\n",
    "            x = 0.5,\n",
    "            y = 1.01,\n",
    "            ha = 'center',\n",
    "            va = 'center',\n",
    "            fontsize = 15,\n",
    "            alpha = 0.6,\n",
    "            transform = plt.gcf().transFigure\n",
    "        )\n",
    "\n",
    "\n",
    "# Boxplot\n",
    "\n",
    "    def boxplots(self):\n",
    "        dimensoes = len(self.nums())\n",
    "        for i, col in enumerate(self.nums()):\n",
    "            plt.subplot(int (dimensoes/2), int(dimensoes/2), i + 1)\n",
    "            sns.boxplot(y = self.dataframe[col])\n",
    "            plt.tight_layout()\n",
    "\n",
    "        # definir parametros\n",
    "        plt.text(\n",
    "            x=0.5,  \n",
    "            y=1.05,  \n",
    "            s='Distribuição de Frequências',  \n",
    "            fontsize=20,  \n",
    "            ha='center',  \n",
    "            va='center',\n",
    "            alpha = 0.85,\n",
    "            fontweight = 'bold',\n",
    "            transform=plt.gcf().transFigure \n",
    "        )\n",
    "\n",
    "        plt.text(\n",
    "            s = 'Boxplot',\n",
    "            x = 0.5,\n",
    "            y = 1.01,\n",
    "            ha = 'center',\n",
    "            va = 'center',\n",
    "            fontsize = 15,\n",
    "            alpha = 0.6,\n",
    "            transform = plt.gcf().transFigure\n",
    "        )\n",
    "\n",
    " \n",
    "    # avaliar correlação das variáveis, primeiro, somente com a variável target\n",
    "    def correlacaoTarget(self, target: str):\n",
    "        #calcular correlacao\n",
    "        plt.figure(figsize=(5,5))\n",
    "        correlacao = self.dataframe.corr()[[target]]\n",
    "        \n",
    "        #plotando\n",
    "        sns.heatmap(data = correlacao,\n",
    "                   vmin= -1,\n",
    "                   vmax= 1,\n",
    "                   annot=True,\n",
    "                   cmap='Purples',\n",
    "                   xticklabels=False);\n",
    "\n",
    "        plt.yticks(size = 8)\n",
    "        plt.text(\n",
    "            s = 'Correlação',\n",
    "            x = 0.32,\n",
    "            y = 0.95,\n",
    "            fontsize = 20,\n",
    "            alpha = 0.85,\n",
    "            transform = plt.gcf().transFigure\n",
    "        )\n",
    "        plt.text(\n",
    "            s = f'Preditoras x Predita({target})',\n",
    "            x = 0.27,\n",
    "            y = 0.90,\n",
    "            fontsize = 10,\n",
    "            alpha = 0.6,\n",
    "            transform = plt.gcf().transFigure\n",
    "        )\n",
    "        return correlacao\n",
    "    \n",
    "# avaliar multicolineatidade entre as variáveis bem correlacionadas\n",
    "    def correlacao_multico(self, coefMin: float, coefMax = float, target = str, correlacaoTarget = pd.DataFrame):\n",
    "        \n",
    "        correlacao = correlacaoTarget\n",
    "        \n",
    "        varCorrelaoes = correlacao[(correlacao.values < coefMin) | (correlacao.values >  coefMax)].index\n",
    "               \n",
    "        novas_correlacoes = medidas.dataframe[varCorrelaoes].corr()\n",
    "        \n",
    "        multiCor = novas_correlacoes[((novas_correlacoes.values < -0.8) & (novas_correlacoes.values > - 0.99)) | ((novas_correlacoes.values >  0.8) & (novas_correlacoes.values <  0.99))].index\n",
    "        \n",
    "        multiCor = multiCor.drop_duplicates()\n",
    "        \n",
    "        np.fill_diagonal(novas_correlacoes.values, 0)\n",
    "        \n",
    "        #plotando\n",
    "        grafico = sns.heatmap(data = novas_correlacoes,\n",
    "                       vmin= -1,\n",
    "                       vmax= 1,\n",
    "                       annot=True,\n",
    "                       cmap='Purples');\n",
    "\n",
    "        plt.yticks(size = 8)\n",
    "        plt.text(\n",
    "                    s = 'Correlação',\n",
    "                    x = 0.38,\n",
    "                    y = 0.91,\n",
    "                    fontsize = 20,\n",
    "                    alpha = 0.85,\n",
    "                    transform = plt.gcf().transFigure\n",
    "                )\n",
    "        plt.text(\n",
    "                    s = f'Avaliando multicolinearidade entre as correlações',\n",
    "                    x = 0.33,\n",
    "                    y = 0.89,\n",
    "                    fontsize = 10,\n",
    "                    alpha = 0.6,\n",
    "                    transform = plt.gcf().transFigure\n",
    "                )\n",
    "            \n",
    "        return grafico, multiCor, varCorrelaoes\n",
    "    \n",
    "    def pairPlot(self, variaveis: list = str):\n",
    "        \n",
    "        sns.pairplot(self.dataframe[variaveis],\n",
    "                     plot_kws = {\"s\": 20},\n",
    "                     corner = True,\n",
    "                     height=3)\n",
    "\n",
    "        plt.text(s = 'Correlação entre variáveis com coeficiente alto.',\n",
    "                x = 0.3,\n",
    "                y = .95,\n",
    "                fontsize = 20,\n",
    "                alpha = 0.85,\n",
    "                transform = plt.gcf().transFigure);"
   ]
  },
  {
   "cell_type": "code",
   "execution_count": 34,
   "metadata": {},
   "outputs": [],
   "source": [
    "# classe para feature engering\n",
    "\n",
    "class featureEngenerring(Medidas):\n",
    "    \n",
    "    def __init__(self):\n",
    "        \n",
    "        pass\n",
    "    \n",
    "    # printa a frequência de valores, para valores considerados outliers\n",
    "    def frequencyCalculate(self):\n",
    "        \n",
    "        for col in self.nums():\n",
    "            \n",
    "            sns.boxplot(data=self.dataframe[col])\n",
    "\n",
    "            # objetos de linha que representam os limites do boxplot\n",
    "            boxplot = plt.gca().lines\n",
    "\n",
    "            # limites\n",
    "            lower_whisker = boxplot[0].get_ydata()[1]  # Limite inferior\n",
    "            upper_whisker = boxplot[1].get_ydata()[1]  # Limite superior\n",
    "            plt.close()\n",
    "            # Filtre os outliers com base nos limites do boxplot\n",
    "            \n",
    "            print(\"-\" * 50)\n",
    "            \n",
    "            print(self.dataframe[col][(self.dataframe[col] > upper_whisker) | (self.dataframe[col] < lower_whisker)].value_counts().sort_index().tail(10))\n",
    "            \n",
    "            # no número 10, retornar se o valor estiver contino no conjunto de valores outliers\n",
    "    \n",
    "    #retorna array de outliers para serem excluídos do dataset\n",
    "    def outliersCalculate(self):\n",
    "        \n",
    "        #incluir possibilidade de escolher o método de exclusão dos outliers\n",
    "        \n",
    "        outliers = np.array([True] * len(self.dataframe[self.nums()]))\n",
    "        \n",
    "        for col in self.nums():\n",
    "            \n",
    "            sns.boxplot(data=self.dataframe[col])\n",
    "\n",
    "            \n",
    "            boxplot = plt.gca().lines\n",
    "\n",
    "            \n",
    "            lower_whisker = boxplot[0].get_ydata()[1]  # Limite inferior\n",
    "            upper_whisker = boxplot[1].get_ydata()[1]  # Limite superior\n",
    "\n",
    "            \n",
    "            plt.close()\n",
    "            \n",
    "            \n",
    "            coluna_outliers = ~((self.dataframe[col] > upper_whisker) | (self.dataframe[col] < lower_whisker))\n",
    "            outliers = outliers & coluna_outliers\n",
    "        \n",
    "        print(f'São {np.count_nonzero(outliers)} que não são outliers, e {len(outliers) - np.count_nonzero(outliers)}')\n",
    "        return outliers\n",
    "        \n",
    "    # método para remover outliers\n",
    "    def drop_outliers(self, outliers: np.array):\n",
    "        \n",
    "        self.dataframe = self.dataframe[outliers]\n",
    "    \n",
    "    \n",
    "    # método para remover variáveis que não seguirão\n",
    "    def drop_columns(self, colums: list = None):\n",
    "        if colums is not None:\n",
    "            \n",
    "            self.dataframe.drop(colums, axis = 1, inplace = True)\n",
    "    \n",
    "    # método para dividir predita de preditoras\n",
    "    def x_y(self, target: str):\n",
    "        \n",
    "        self.target = self.dataframe[[target]]\n",
    "        \n",
    "        self.preditoras = self.dataframe.drop(target, axis = 1)\n",
    "\n",
    "    \n",
    "    \n",
    "\n",
    "    \n",
    "    \n",
    "    \n"
   ]
  },
  {
   "cell_type": "code",
   "execution_count": 35,
   "metadata": {},
   "outputs": [],
   "source": [
    "# classe para split e limpeza da base\n",
    "\n",
    "class splitClean():\n",
    "    \n",
    "    def __init__(self, preditoras: pd.DataFrame, target: pd.DataFrame):\n",
    "        if preditoras.shape[0] == target.shape[0]:\n",
    "            self.preditoras = preditoras\n",
    "            self.target = target\n",
    "\n",
    "        else:\n",
    "            print(\"Classe não instanciada. Verifique as dimensões dos objetos\")\n",
    "            \n",
    "            \n",
    "    def split(self, tamanho_teste = .25):\n",
    "        x = self.preditoras\n",
    "        y = self.target\n",
    "\n",
    "        # divisão das bases\n",
    "        X_train, X_test, y_train, y_test = train_test_split(x,\n",
    "                                                            y,\n",
    "                                                            test_size = tamanho_teste,\n",
    "                                                            random_state = 1245,\n",
    "                                                            stratify = y\n",
    "                                                            )\n",
    "        setattr(self, \"X_train\", X_train)\n",
    "        setattr(self, \"X_test\", X_test)\n",
    "        setattr(self, \"y_train\", y_train)\n",
    "        setattr(self, \"y_test\", y_test)\n",
    "    \n",
    "    \n",
    "    def __imputer_fit(self):\n",
    "            # Instanciando algoritmo e treinando com preditores de treinamento\n",
    "        imputer = KNNImputer(n_neighbors=5)\n",
    "        imputer_fit = imputer.fit(self.X_train)\n",
    "        return imputer_fit\n",
    "    \n",
    "    def imputer_data_train(self):\n",
    "                    # aplicando imputação aos dados de treinamento\n",
    "        imputed_data_train = self.__imputer_fit().transform(self.X_train)\n",
    "        self.X_train = pd.DataFrame(imputed_data_train, columns= self.X_train.columns)\n",
    "    \n",
    "    def imputer_data_test(self):\n",
    "          # aplicando imputação aos dados de treinamento\n",
    "        imputed_data_test = self.__imputer_fit().transform(self.X_test)\n",
    "        self.X_test = pd.DataFrame(imputed_data_test, columns= self.X_test.columns)\n",
    "  \n",
    "    #balanceamento de classes\n",
    "    # gráfico para visualizar classes\n",
    "\n",
    "    def countPlot(self, variavel = str):\n",
    "        plt.figure(figsize=(4,4))\n",
    "        ax = sns.countplot(data = self.y_train,\n",
    "                     x = f'{variavel}')\n",
    "\n",
    "        ax.legend(title = 'Categoria',\n",
    "                  title_fontsize = 10,\n",
    "                  handles = ax.patches,\n",
    "                  labels = ['0', '1'],\n",
    "                  edgecolor = 'black',\n",
    "                  borderpad = 0.5)\n",
    "\n",
    "\n",
    "        #eixo x\n",
    "        plt.xlabel(f'{variavel}',\n",
    "                  fontweight = 'bold')\n",
    "        #eixo y\n",
    "        plt.ylabel('Frequência')\n",
    "        plt.yticks(size = 8);\n",
    "\n",
    "\n",
    "        #Título\n",
    "        plt.text(s = 'Frequência absoluta',\n",
    "                 fontsize = 15,\n",
    "                y = 0.93,\n",
    "                x = 0.50,\n",
    "                ha = 'center',\n",
    "                va = 'center',\n",
    "                transform = plt.gcf().transFigure);\n",
    "\n",
    "    #instanciando algoritmo\n",
    "    def oversampling(self):\n",
    "        oversampler = SMOTE(k_neighbors = 8)\n",
    "        self.X_train, self.y_train = oversampler.fit_resample(self.X_train, self.y_train)\n",
    "\n",
    "    def return_all(self):\n",
    "        return self.X_train, self.X_test, self.y_train, self.y_test"
   ]
  },
  {
   "cell_type": "code",
   "execution_count": 36,
   "metadata": {},
   "outputs": [],
   "source": [
    "# classe para transformação\n",
    "class transform():\n",
    "    \n",
    "    def __init__(self, X_train, X_test, y_train, y_test):\n",
    "        self.X_train =  X_train.reset_index(drop=True)\n",
    "        self.X_test = X_test.reset_index(drop=True)\n",
    "        self.y_train = y_train.reset_index(drop=True)\n",
    "        self.y_test = y_test.reset_index(drop=True)\n",
    "        \n",
    "        \n",
    "    \n",
    "    # métodos para calcular a cardinalidade\n",
    "    def cardinalidade(self, limiar = 0.50):\n",
    "        try:\n",
    "            shape = self.X_train.shape[0]\n",
    "\n",
    "            variavel = []\n",
    "            for col in self.X_train.columns:\n",
    "\n",
    "                calculo_razao = len(self.X_train[col].value_counts()) / shape\n",
    "\n",
    "                if calculo_razao > limiar:\n",
    "\n",
    "                    variavel.append(col)\n",
    "            return variavel\n",
    "        except TypeError:\n",
    "            print(\"Insira o um float no parâmetro 'limiar'\")\n",
    "        \n",
    "    \n",
    "    def __parametrosDiscretizacao(self):\n",
    "        \n",
    "        n = self.X_train.shape[0]\n",
    "        k = int(np.sqrt(n))\n",
    "        list_labels = list(range(1, k+1))\n",
    "        return list_labels, k\n",
    "        \n",
    "    \n",
    "    \n",
    "    #Discretização .fit()\n",
    "    def discretizacao_treinamento(self, labels: list = str):\n",
    "        \n",
    "        list_labels, k = self.__parametrosDiscretizacao()\n",
    "        \n",
    "        for label in labels:\n",
    "            # calcular intervalor com o método de sturges\n",
    "            newLabel = label + '_' + \"Intervalo\"\n",
    "            intervalos = pd.cut(self.X_train[label], bins = k, precision = 2, labels=list_labels)\n",
    "            self.X_train[newLabel] = intervalos\n",
    "        \n",
    "        #exclui do dataset as variáveis originárias\n",
    "        self.X_train.drop(labels, axis = 1, inplace=True)\n",
    "            \n",
    "    # discretização transform\n",
    "    def discretizacao_teste(self, labels: list = str):\n",
    "        \n",
    "        list_labels, k = self.__parametrosDiscretizacao()\n",
    "        \n",
    "        for label in labels:\n",
    "            newLabel = label + \"_\" + \"Intervalo\"\n",
    "            intervalos = pd.cut(self.X_test[label], bins = k, precision = 2, labels = list_labels)\n",
    "            self.X_test[newLabel] = intervalos\n",
    "\n",
    "\n",
    "    #escalonamento - MinMaxScaler()\n",
    "    def MinMaxScaler_train(self, variaveis: list = str):\n",
    "        #MinmaxScaler() - aconselhável quando as variáveis possuem distribuição normal\n",
    "        #instanciando minmax\n",
    "        scalers = {}\n",
    "        for col in variaveis:\n",
    "            scaler = MinMaxScaler()\n",
    "            scaler.fit(self.X_train[[col]])\n",
    "            scalers[col] = scaler\n",
    "        setattr(self, 'scalers', scalers)\n",
    "\n",
    "    #observar que retorna um df, que deve ser concatenado com os dados\n",
    "    def MinMaxScaler_apply(self, variaveis: list = str, teste = False):\n",
    "        #aplicando\n",
    "        scalers = self.scalers\n",
    "        retorno = pd.DataFrame()\n",
    "        for col in escalonar:\n",
    "            if teste:\n",
    "                self.X_test[col + \"_\" + \"scalled\"] = pd.Series(scalers[col].transform(self.X_test[col].to_numpy().reshape(-1,1)).flatten())\n",
    "            else:\n",
    "                self.X_train[col + \"_\" + \"scalled\"] = pd.Series(scalers[col].transform(self.X_train[col].to_numpy().reshape(-1,1)).flatten())\n",
    "        \n",
    "    \n",
    "    #escalonamento com StandardScaler()\n",
    "    \n",
    "    \n",
    "    \n"
   ]
  },
  {
   "cell_type": "code",
   "execution_count": null,
   "metadata": {},
   "outputs": [],
   "source": []
  },
  {
   "cell_type": "markdown",
   "metadata": {
    "id": "b2tiD3J_MG_H"
   },
   "source": [
    "## Dicionário de funções"
   ]
  },
  {
   "cell_type": "markdown",
   "metadata": {
    "id": "bdhPToYxMOFl"
   },
   "source": [
    "|Classe| Funcionalidade|\n",
    "|------|---------------|\n",
    "|dados|Carga dos dados|\n",
    "|Medidas|Possui atributos e métodos para datawrangling|\n",
    "|featureEngenerring|Possui atributos e métodos para engenharia de atributos|\n",
    "|splitClean|Possui atributos e métodos para split e limpeza da base da dados|\n",
    "|transform|Possui atributos e métodos para pré-processamento|"
   ]
  },
  {
   "cell_type": "markdown",
   "metadata": {
    "id": "1Zn-PPo8MPGm"
   },
   "source": [
    "## Carga dos dados\n",
    "\n",
    "- Testando classe que irá instanciar os dados"
   ]
  },
  {
   "cell_type": "code",
   "execution_count": 37,
   "metadata": {},
   "outputs": [
    {
     "name": "stdout",
     "output_type": "stream",
     "text": [
      "Entre com o path do .csv\n"
     ]
    }
   ],
   "source": [
    "fase_1 = dados()"
   ]
  },
  {
   "cell_type": "code",
   "execution_count": 38,
   "metadata": {},
   "outputs": [
    {
     "name": "stdout",
     "output_type": "stream",
     "text": [
      "Dados instanciados com sucesso!\n"
     ]
    }
   ],
   "source": [
    "fase_1.dataframe = 'dataset.csv'"
   ]
  },
  {
   "cell_type": "markdown",
   "metadata": {
    "id": "hlxUTRhyWF3k"
   },
   "source": [
    "## Data Wrangling"
   ]
  },
  {
   "cell_type": "code",
   "execution_count": null,
   "metadata": {},
   "outputs": [],
   "source": []
  },
  {
   "cell_type": "markdown",
   "metadata": {
    "id": "xXXCrCdTWKEL"
   },
   "source": [
    "### Análise exploratória"
   ]
  },
  {
   "cell_type": "markdown",
   "metadata": {
    "id": "CUkcIs4ZWKBi"
   },
   "source": [
    "#### Estatística"
   ]
  },
  {
   "cell_type": "markdown",
   "metadata": {
    "id": "WkCqhaZWcKb8"
   },
   "source": [
    "##### Dados numéricos"
   ]
  },
  {
   "cell_type": "markdown",
   "metadata": {
    "id": "JMR-8I_CcKRU"
   },
   "source": [
    "###### Análise univariada (estatísticas)"
   ]
  },
  {
   "cell_type": "markdown",
   "metadata": {
    "id": "WxLcMxoccJ1t"
   },
   "source": [
    "- Medidas de tendência central"
   ]
  },
  {
   "cell_type": "code",
   "execution_count": 39,
   "metadata": {
    "id": "iyd4KOMPWHZE"
   },
   "outputs": [],
   "source": [
    "medidas = Medidas()"
   ]
  },
  {
   "cell_type": "code",
   "execution_count": 40,
   "metadata": {},
   "outputs": [
    {
     "name": "stdout",
     "output_type": "stream",
     "text": [
      "Dados instanciados com sucesso!\n"
     ]
    }
   ],
   "source": [
    "medidas.dataframe = 'dataset.csv'"
   ]
  },
  {
   "cell_type": "code",
   "execution_count": 41,
   "metadata": {},
   "outputs": [
    {
     "name": "stdout",
     "output_type": "stream",
     "text": [
      "<class 'pandas.core.frame.DataFrame'>\n",
      "RangeIndex: 583 entries, 0 to 582\n",
      "Data columns (total 11 columns):\n",
      " #   Column                      Non-Null Count  Dtype  \n",
      "---  ------                      --------------  -----  \n",
      " 0   Age                         583 non-null    int64  \n",
      " 1   Gender                      583 non-null    object \n",
      " 2   Total_Bilirubin             583 non-null    float64\n",
      " 3   Direct_Bilirubin            583 non-null    float64\n",
      " 4   Alkaline_Phosphotase        583 non-null    int64  \n",
      " 5   Alamine_Aminotransferase    583 non-null    int64  \n",
      " 6   Aspartate_Aminotransferase  583 non-null    int64  \n",
      " 7   Total_Protiens              583 non-null    float64\n",
      " 8   Albumin                     583 non-null    float64\n",
      " 9   Albumin_and_Globulin_Ratio  579 non-null    float64\n",
      " 10  Dataset                     583 non-null    int64  \n",
      "dtypes: float64(5), int64(5), object(1)\n",
      "memory usage: 50.2+ KB\n"
     ]
    }
   ],
   "source": [
    "medidas.dataframe.info()"
   ]
  },
  {
   "cell_type": "code",
   "execution_count": 43,
   "metadata": {
    "scrolled": true
   },
   "outputs": [
    {
     "data": {
      "text/html": [
       "<div>\n",
       "<style scoped>\n",
       "    .dataframe tbody tr th:only-of-type {\n",
       "        vertical-align: middle;\n",
       "    }\n",
       "\n",
       "    .dataframe tbody tr th {\n",
       "        vertical-align: top;\n",
       "    }\n",
       "\n",
       "    .dataframe thead th {\n",
       "        text-align: right;\n",
       "    }\n",
       "</style>\n",
       "<table border=\"1\" class=\"dataframe\">\n",
       "  <thead>\n",
       "    <tr style=\"text-align: right;\">\n",
       "      <th></th>\n",
       "      <th>Age</th>\n",
       "      <th>Gender</th>\n",
       "      <th>Total_Bilirubin</th>\n",
       "      <th>Direct_Bilirubin</th>\n",
       "      <th>Alkaline_Phosphotase</th>\n",
       "      <th>Alamine_Aminotransferase</th>\n",
       "      <th>Aspartate_Aminotransferase</th>\n",
       "      <th>Total_Protiens</th>\n",
       "      <th>Albumin</th>\n",
       "      <th>Albumin_and_Globulin_Ratio</th>\n",
       "      <th>Dataset</th>\n",
       "    </tr>\n",
       "  </thead>\n",
       "  <tbody>\n",
       "    <tr>\n",
       "      <th>18</th>\n",
       "      <td>40</td>\n",
       "      <td>Female</td>\n",
       "      <td>0.9</td>\n",
       "      <td>0.3</td>\n",
       "      <td>293</td>\n",
       "      <td>232</td>\n",
       "      <td>245</td>\n",
       "      <td>6.8</td>\n",
       "      <td>3.1</td>\n",
       "      <td>0.80</td>\n",
       "      <td>1</td>\n",
       "    </tr>\n",
       "    <tr>\n",
       "      <th>19</th>\n",
       "      <td>40</td>\n",
       "      <td>Female</td>\n",
       "      <td>0.9</td>\n",
       "      <td>0.3</td>\n",
       "      <td>293</td>\n",
       "      <td>232</td>\n",
       "      <td>245</td>\n",
       "      <td>6.8</td>\n",
       "      <td>3.1</td>\n",
       "      <td>0.80</td>\n",
       "      <td>1</td>\n",
       "    </tr>\n",
       "    <tr>\n",
       "      <th>25</th>\n",
       "      <td>34</td>\n",
       "      <td>Male</td>\n",
       "      <td>4.1</td>\n",
       "      <td>2.0</td>\n",
       "      <td>289</td>\n",
       "      <td>875</td>\n",
       "      <td>731</td>\n",
       "      <td>5.0</td>\n",
       "      <td>2.7</td>\n",
       "      <td>1.10</td>\n",
       "      <td>1</td>\n",
       "    </tr>\n",
       "    <tr>\n",
       "      <th>26</th>\n",
       "      <td>34</td>\n",
       "      <td>Male</td>\n",
       "      <td>4.1</td>\n",
       "      <td>2.0</td>\n",
       "      <td>289</td>\n",
       "      <td>875</td>\n",
       "      <td>731</td>\n",
       "      <td>5.0</td>\n",
       "      <td>2.7</td>\n",
       "      <td>1.10</td>\n",
       "      <td>1</td>\n",
       "    </tr>\n",
       "    <tr>\n",
       "      <th>33</th>\n",
       "      <td>38</td>\n",
       "      <td>Female</td>\n",
       "      <td>2.6</td>\n",
       "      <td>1.2</td>\n",
       "      <td>410</td>\n",
       "      <td>59</td>\n",
       "      <td>57</td>\n",
       "      <td>5.6</td>\n",
       "      <td>3.0</td>\n",
       "      <td>0.80</td>\n",
       "      <td>2</td>\n",
       "    </tr>\n",
       "    <tr>\n",
       "      <th>34</th>\n",
       "      <td>38</td>\n",
       "      <td>Female</td>\n",
       "      <td>2.6</td>\n",
       "      <td>1.2</td>\n",
       "      <td>410</td>\n",
       "      <td>59</td>\n",
       "      <td>57</td>\n",
       "      <td>5.6</td>\n",
       "      <td>3.0</td>\n",
       "      <td>0.80</td>\n",
       "      <td>2</td>\n",
       "    </tr>\n",
       "    <tr>\n",
       "      <th>54</th>\n",
       "      <td>42</td>\n",
       "      <td>Male</td>\n",
       "      <td>8.9</td>\n",
       "      <td>4.5</td>\n",
       "      <td>272</td>\n",
       "      <td>31</td>\n",
       "      <td>61</td>\n",
       "      <td>5.8</td>\n",
       "      <td>2.0</td>\n",
       "      <td>0.50</td>\n",
       "      <td>1</td>\n",
       "    </tr>\n",
       "    <tr>\n",
       "      <th>55</th>\n",
       "      <td>42</td>\n",
       "      <td>Male</td>\n",
       "      <td>8.9</td>\n",
       "      <td>4.5</td>\n",
       "      <td>272</td>\n",
       "      <td>31</td>\n",
       "      <td>61</td>\n",
       "      <td>5.8</td>\n",
       "      <td>2.0</td>\n",
       "      <td>0.50</td>\n",
       "      <td>1</td>\n",
       "    </tr>\n",
       "    <tr>\n",
       "      <th>61</th>\n",
       "      <td>58</td>\n",
       "      <td>Male</td>\n",
       "      <td>1.0</td>\n",
       "      <td>0.5</td>\n",
       "      <td>158</td>\n",
       "      <td>37</td>\n",
       "      <td>43</td>\n",
       "      <td>7.2</td>\n",
       "      <td>3.6</td>\n",
       "      <td>1.00</td>\n",
       "      <td>1</td>\n",
       "    </tr>\n",
       "    <tr>\n",
       "      <th>62</th>\n",
       "      <td>58</td>\n",
       "      <td>Male</td>\n",
       "      <td>1.0</td>\n",
       "      <td>0.5</td>\n",
       "      <td>158</td>\n",
       "      <td>37</td>\n",
       "      <td>43</td>\n",
       "      <td>7.2</td>\n",
       "      <td>3.6</td>\n",
       "      <td>1.00</td>\n",
       "      <td>1</td>\n",
       "    </tr>\n",
       "    <tr>\n",
       "      <th>105</th>\n",
       "      <td>36</td>\n",
       "      <td>Male</td>\n",
       "      <td>5.3</td>\n",
       "      <td>2.3</td>\n",
       "      <td>145</td>\n",
       "      <td>32</td>\n",
       "      <td>92</td>\n",
       "      <td>5.1</td>\n",
       "      <td>2.6</td>\n",
       "      <td>1.00</td>\n",
       "      <td>2</td>\n",
       "    </tr>\n",
       "    <tr>\n",
       "      <th>106</th>\n",
       "      <td>36</td>\n",
       "      <td>Male</td>\n",
       "      <td>5.3</td>\n",
       "      <td>2.3</td>\n",
       "      <td>145</td>\n",
       "      <td>32</td>\n",
       "      <td>92</td>\n",
       "      <td>5.1</td>\n",
       "      <td>2.6</td>\n",
       "      <td>1.00</td>\n",
       "      <td>2</td>\n",
       "    </tr>\n",
       "    <tr>\n",
       "      <th>107</th>\n",
       "      <td>36</td>\n",
       "      <td>Male</td>\n",
       "      <td>0.8</td>\n",
       "      <td>0.2</td>\n",
       "      <td>158</td>\n",
       "      <td>29</td>\n",
       "      <td>39</td>\n",
       "      <td>6.0</td>\n",
       "      <td>2.2</td>\n",
       "      <td>0.50</td>\n",
       "      <td>2</td>\n",
       "    </tr>\n",
       "    <tr>\n",
       "      <th>108</th>\n",
       "      <td>36</td>\n",
       "      <td>Male</td>\n",
       "      <td>0.8</td>\n",
       "      <td>0.2</td>\n",
       "      <td>158</td>\n",
       "      <td>29</td>\n",
       "      <td>39</td>\n",
       "      <td>6.0</td>\n",
       "      <td>2.2</td>\n",
       "      <td>0.50</td>\n",
       "      <td>2</td>\n",
       "    </tr>\n",
       "    <tr>\n",
       "      <th>137</th>\n",
       "      <td>18</td>\n",
       "      <td>Male</td>\n",
       "      <td>0.8</td>\n",
       "      <td>0.2</td>\n",
       "      <td>282</td>\n",
       "      <td>72</td>\n",
       "      <td>140</td>\n",
       "      <td>5.5</td>\n",
       "      <td>2.5</td>\n",
       "      <td>0.80</td>\n",
       "      <td>1</td>\n",
       "    </tr>\n",
       "    <tr>\n",
       "      <th>138</th>\n",
       "      <td>18</td>\n",
       "      <td>Male</td>\n",
       "      <td>0.8</td>\n",
       "      <td>0.2</td>\n",
       "      <td>282</td>\n",
       "      <td>72</td>\n",
       "      <td>140</td>\n",
       "      <td>5.5</td>\n",
       "      <td>2.5</td>\n",
       "      <td>0.80</td>\n",
       "      <td>1</td>\n",
       "    </tr>\n",
       "    <tr>\n",
       "      <th>142</th>\n",
       "      <td>30</td>\n",
       "      <td>Male</td>\n",
       "      <td>1.6</td>\n",
       "      <td>0.4</td>\n",
       "      <td>332</td>\n",
       "      <td>84</td>\n",
       "      <td>139</td>\n",
       "      <td>5.6</td>\n",
       "      <td>2.7</td>\n",
       "      <td>0.90</td>\n",
       "      <td>1</td>\n",
       "    </tr>\n",
       "    <tr>\n",
       "      <th>143</th>\n",
       "      <td>30</td>\n",
       "      <td>Male</td>\n",
       "      <td>1.6</td>\n",
       "      <td>0.4</td>\n",
       "      <td>332</td>\n",
       "      <td>84</td>\n",
       "      <td>139</td>\n",
       "      <td>5.6</td>\n",
       "      <td>2.7</td>\n",
       "      <td>0.90</td>\n",
       "      <td>1</td>\n",
       "    </tr>\n",
       "    <tr>\n",
       "      <th>157</th>\n",
       "      <td>72</td>\n",
       "      <td>Male</td>\n",
       "      <td>0.7</td>\n",
       "      <td>0.1</td>\n",
       "      <td>196</td>\n",
       "      <td>20</td>\n",
       "      <td>35</td>\n",
       "      <td>5.8</td>\n",
       "      <td>2.0</td>\n",
       "      <td>0.50</td>\n",
       "      <td>1</td>\n",
       "    </tr>\n",
       "    <tr>\n",
       "      <th>158</th>\n",
       "      <td>72</td>\n",
       "      <td>Male</td>\n",
       "      <td>0.7</td>\n",
       "      <td>0.1</td>\n",
       "      <td>196</td>\n",
       "      <td>20</td>\n",
       "      <td>35</td>\n",
       "      <td>5.8</td>\n",
       "      <td>2.0</td>\n",
       "      <td>0.50</td>\n",
       "      <td>1</td>\n",
       "    </tr>\n",
       "    <tr>\n",
       "      <th>163</th>\n",
       "      <td>39</td>\n",
       "      <td>Male</td>\n",
       "      <td>1.9</td>\n",
       "      <td>0.9</td>\n",
       "      <td>180</td>\n",
       "      <td>42</td>\n",
       "      <td>62</td>\n",
       "      <td>7.4</td>\n",
       "      <td>4.3</td>\n",
       "      <td>1.38</td>\n",
       "      <td>1</td>\n",
       "    </tr>\n",
       "    <tr>\n",
       "      <th>164</th>\n",
       "      <td>39</td>\n",
       "      <td>Male</td>\n",
       "      <td>1.9</td>\n",
       "      <td>0.9</td>\n",
       "      <td>180</td>\n",
       "      <td>42</td>\n",
       "      <td>62</td>\n",
       "      <td>7.4</td>\n",
       "      <td>4.3</td>\n",
       "      <td>1.38</td>\n",
       "      <td>1</td>\n",
       "    </tr>\n",
       "    <tr>\n",
       "      <th>173</th>\n",
       "      <td>31</td>\n",
       "      <td>Male</td>\n",
       "      <td>0.6</td>\n",
       "      <td>0.1</td>\n",
       "      <td>175</td>\n",
       "      <td>48</td>\n",
       "      <td>34</td>\n",
       "      <td>6.0</td>\n",
       "      <td>3.7</td>\n",
       "      <td>1.60</td>\n",
       "      <td>1</td>\n",
       "    </tr>\n",
       "    <tr>\n",
       "      <th>174</th>\n",
       "      <td>31</td>\n",
       "      <td>Male</td>\n",
       "      <td>0.6</td>\n",
       "      <td>0.1</td>\n",
       "      <td>175</td>\n",
       "      <td>48</td>\n",
       "      <td>34</td>\n",
       "      <td>6.0</td>\n",
       "      <td>3.7</td>\n",
       "      <td>1.60</td>\n",
       "      <td>1</td>\n",
       "    </tr>\n",
       "    <tr>\n",
       "      <th>200</th>\n",
       "      <td>49</td>\n",
       "      <td>Male</td>\n",
       "      <td>0.6</td>\n",
       "      <td>0.1</td>\n",
       "      <td>218</td>\n",
       "      <td>50</td>\n",
       "      <td>53</td>\n",
       "      <td>5.0</td>\n",
       "      <td>2.4</td>\n",
       "      <td>0.90</td>\n",
       "      <td>1</td>\n",
       "    </tr>\n",
       "    <tr>\n",
       "      <th>201</th>\n",
       "      <td>49</td>\n",
       "      <td>Male</td>\n",
       "      <td>0.6</td>\n",
       "      <td>0.1</td>\n",
       "      <td>218</td>\n",
       "      <td>50</td>\n",
       "      <td>53</td>\n",
       "      <td>5.0</td>\n",
       "      <td>2.4</td>\n",
       "      <td>0.90</td>\n",
       "      <td>1</td>\n",
       "    </tr>\n",
       "  </tbody>\n",
       "</table>\n",
       "</div>"
      ],
      "text/plain": [
       "     Age  Gender  Total_Bilirubin  Direct_Bilirubin  Alkaline_Phosphotase  \\\n",
       "18    40  Female              0.9               0.3                   293   \n",
       "19    40  Female              0.9               0.3                   293   \n",
       "25    34    Male              4.1               2.0                   289   \n",
       "26    34    Male              4.1               2.0                   289   \n",
       "33    38  Female              2.6               1.2                   410   \n",
       "34    38  Female              2.6               1.2                   410   \n",
       "54    42    Male              8.9               4.5                   272   \n",
       "55    42    Male              8.9               4.5                   272   \n",
       "61    58    Male              1.0               0.5                   158   \n",
       "62    58    Male              1.0               0.5                   158   \n",
       "105   36    Male              5.3               2.3                   145   \n",
       "106   36    Male              5.3               2.3                   145   \n",
       "107   36    Male              0.8               0.2                   158   \n",
       "108   36    Male              0.8               0.2                   158   \n",
       "137   18    Male              0.8               0.2                   282   \n",
       "138   18    Male              0.8               0.2                   282   \n",
       "142   30    Male              1.6               0.4                   332   \n",
       "143   30    Male              1.6               0.4                   332   \n",
       "157   72    Male              0.7               0.1                   196   \n",
       "158   72    Male              0.7               0.1                   196   \n",
       "163   39    Male              1.9               0.9                   180   \n",
       "164   39    Male              1.9               0.9                   180   \n",
       "173   31    Male              0.6               0.1                   175   \n",
       "174   31    Male              0.6               0.1                   175   \n",
       "200   49    Male              0.6               0.1                   218   \n",
       "201   49    Male              0.6               0.1                   218   \n",
       "\n",
       "     Alamine_Aminotransferase  Aspartate_Aminotransferase  Total_Protiens  \\\n",
       "18                        232                         245             6.8   \n",
       "19                        232                         245             6.8   \n",
       "25                        875                         731             5.0   \n",
       "26                        875                         731             5.0   \n",
       "33                         59                          57             5.6   \n",
       "34                         59                          57             5.6   \n",
       "54                         31                          61             5.8   \n",
       "55                         31                          61             5.8   \n",
       "61                         37                          43             7.2   \n",
       "62                         37                          43             7.2   \n",
       "105                        32                          92             5.1   \n",
       "106                        32                          92             5.1   \n",
       "107                        29                          39             6.0   \n",
       "108                        29                          39             6.0   \n",
       "137                        72                         140             5.5   \n",
       "138                        72                         140             5.5   \n",
       "142                        84                         139             5.6   \n",
       "143                        84                         139             5.6   \n",
       "157                        20                          35             5.8   \n",
       "158                        20                          35             5.8   \n",
       "163                        42                          62             7.4   \n",
       "164                        42                          62             7.4   \n",
       "173                        48                          34             6.0   \n",
       "174                        48                          34             6.0   \n",
       "200                        50                          53             5.0   \n",
       "201                        50                          53             5.0   \n",
       "\n",
       "     Albumin  Albumin_and_Globulin_Ratio  Dataset  \n",
       "18       3.1                        0.80        1  \n",
       "19       3.1                        0.80        1  \n",
       "25       2.7                        1.10        1  \n",
       "26       2.7                        1.10        1  \n",
       "33       3.0                        0.80        2  \n",
       "34       3.0                        0.80        2  \n",
       "54       2.0                        0.50        1  \n",
       "55       2.0                        0.50        1  \n",
       "61       3.6                        1.00        1  \n",
       "62       3.6                        1.00        1  \n",
       "105      2.6                        1.00        2  \n",
       "106      2.6                        1.00        2  \n",
       "107      2.2                        0.50        2  \n",
       "108      2.2                        0.50        2  \n",
       "137      2.5                        0.80        1  \n",
       "138      2.5                        0.80        1  \n",
       "142      2.7                        0.90        1  \n",
       "143      2.7                        0.90        1  \n",
       "157      2.0                        0.50        1  \n",
       "158      2.0                        0.50        1  \n",
       "163      4.3                        1.38        1  \n",
       "164      4.3                        1.38        1  \n",
       "173      3.7                        1.60        1  \n",
       "174      3.7                        1.60        1  \n",
       "200      2.4                        0.90        1  \n",
       "201      2.4                        0.90        1  "
      ]
     },
     "execution_count": 43,
     "metadata": {},
     "output_type": "execute_result"
    }
   ],
   "source": [
    "# dados duplicados\n",
    "duplicados = medidas.duplicated()\n",
    "duplicados"
   ]
  },
  {
   "cell_type": "code",
   "execution_count": 44,
   "metadata": {},
   "outputs": [],
   "source": [
    "#Eliminando dados duplicados\n",
    "medidas.duplicated(remove=True)"
   ]
  },
  {
   "cell_type": "code",
   "execution_count": 45,
   "metadata": {},
   "outputs": [
    {
     "data": {
      "text/html": [
       "<div>\n",
       "<style scoped>\n",
       "    .dataframe tbody tr th:only-of-type {\n",
       "        vertical-align: middle;\n",
       "    }\n",
       "\n",
       "    .dataframe tbody tr th {\n",
       "        vertical-align: top;\n",
       "    }\n",
       "\n",
       "    .dataframe thead th {\n",
       "        text-align: right;\n",
       "    }\n",
       "</style>\n",
       "<table border=\"1\" class=\"dataframe\">\n",
       "  <thead>\n",
       "    <tr style=\"text-align: right;\">\n",
       "      <th></th>\n",
       "      <th>Age</th>\n",
       "      <th>Gender</th>\n",
       "      <th>Total_Bilirubin</th>\n",
       "      <th>Direct_Bilirubin</th>\n",
       "      <th>Alkaline_Phosphotase</th>\n",
       "      <th>Alamine_Aminotransferase</th>\n",
       "      <th>Aspartate_Aminotransferase</th>\n",
       "      <th>Total_Protiens</th>\n",
       "      <th>Albumin</th>\n",
       "      <th>Albumin_and_Globulin_Ratio</th>\n",
       "      <th>Dataset</th>\n",
       "    </tr>\n",
       "  </thead>\n",
       "  <tbody>\n",
       "  </tbody>\n",
       "</table>\n",
       "</div>"
      ],
      "text/plain": [
       "Empty DataFrame\n",
       "Columns: [Age, Gender, Total_Bilirubin, Direct_Bilirubin, Alkaline_Phosphotase, Alamine_Aminotransferase, Aspartate_Aminotransferase, Total_Protiens, Albumin, Albumin_and_Globulin_Ratio, Dataset]\n",
       "Index: []"
      ]
     },
     "execution_count": 45,
     "metadata": {},
     "output_type": "execute_result"
    }
   ],
   "source": [
    "# dados duplicados\n",
    "duplicados = medidas.duplicated()\n",
    "duplicados"
   ]
  },
  {
   "cell_type": "code",
   "execution_count": 526,
   "metadata": {},
   "outputs": [
    {
     "data": {
      "text/html": [
       "<div>\n",
       "<style scoped>\n",
       "    .dataframe tbody tr th:only-of-type {\n",
       "        vertical-align: middle;\n",
       "    }\n",
       "\n",
       "    .dataframe tbody tr th {\n",
       "        vertical-align: top;\n",
       "    }\n",
       "\n",
       "    .dataframe thead th {\n",
       "        text-align: right;\n",
       "    }\n",
       "</style>\n",
       "<table border=\"1\" class=\"dataframe\">\n",
       "  <thead>\n",
       "    <tr style=\"text-align: right;\">\n",
       "      <th></th>\n",
       "      <th>count</th>\n",
       "      <th>mean</th>\n",
       "      <th>moda</th>\n",
       "      <th>50%</th>\n",
       "      <th>25%</th>\n",
       "      <th>75%</th>\n",
       "      <th>min</th>\n",
       "      <th>max</th>\n",
       "      <th>range</th>\n",
       "    </tr>\n",
       "  </thead>\n",
       "  <tbody>\n",
       "    <tr>\n",
       "      <th>Age</th>\n",
       "      <td>570.0</td>\n",
       "      <td>44.849123</td>\n",
       "      <td>60.0</td>\n",
       "      <td>45.00</td>\n",
       "      <td>33.0</td>\n",
       "      <td>58.00</td>\n",
       "      <td>4.0</td>\n",
       "      <td>90.0</td>\n",
       "      <td>0.0</td>\n",
       "    </tr>\n",
       "    <tr>\n",
       "      <th>Total_Bilirubin</th>\n",
       "      <td>570.0</td>\n",
       "      <td>3.321754</td>\n",
       "      <td>0.8</td>\n",
       "      <td>1.00</td>\n",
       "      <td>0.8</td>\n",
       "      <td>2.60</td>\n",
       "      <td>0.4</td>\n",
       "      <td>75.0</td>\n",
       "      <td>0.0</td>\n",
       "    </tr>\n",
       "    <tr>\n",
       "      <th>Direct_Bilirubin</th>\n",
       "      <td>570.0</td>\n",
       "      <td>1.497544</td>\n",
       "      <td>0.2</td>\n",
       "      <td>0.30</td>\n",
       "      <td>0.2</td>\n",
       "      <td>1.30</td>\n",
       "      <td>0.1</td>\n",
       "      <td>19.7</td>\n",
       "      <td>0.0</td>\n",
       "    </tr>\n",
       "    <tr>\n",
       "      <th>Alkaline_Phosphotase</th>\n",
       "      <td>570.0</td>\n",
       "      <td>291.750877</td>\n",
       "      <td>198.0</td>\n",
       "      <td>208.00</td>\n",
       "      <td>176.0</td>\n",
       "      <td>298.00</td>\n",
       "      <td>63.0</td>\n",
       "      <td>2110.0</td>\n",
       "      <td>0.0</td>\n",
       "    </tr>\n",
       "    <tr>\n",
       "      <th>Alamine_Aminotransferase</th>\n",
       "      <td>570.0</td>\n",
       "      <td>79.728070</td>\n",
       "      <td>25.0</td>\n",
       "      <td>35.00</td>\n",
       "      <td>23.0</td>\n",
       "      <td>60.00</td>\n",
       "      <td>10.0</td>\n",
       "      <td>2000.0</td>\n",
       "      <td>0.0</td>\n",
       "    </tr>\n",
       "    <tr>\n",
       "      <th>Aspartate_Aminotransferase</th>\n",
       "      <td>570.0</td>\n",
       "      <td>109.380702</td>\n",
       "      <td>23.0</td>\n",
       "      <td>41.00</td>\n",
       "      <td>25.0</td>\n",
       "      <td>86.75</td>\n",
       "      <td>10.0</td>\n",
       "      <td>4929.0</td>\n",
       "      <td>0.0</td>\n",
       "    </tr>\n",
       "    <tr>\n",
       "      <th>Total_Protiens</th>\n",
       "      <td>570.0</td>\n",
       "      <td>6.496316</td>\n",
       "      <td>7.0</td>\n",
       "      <td>6.60</td>\n",
       "      <td>5.8</td>\n",
       "      <td>7.20</td>\n",
       "      <td>2.7</td>\n",
       "      <td>9.6</td>\n",
       "      <td>0.0</td>\n",
       "    </tr>\n",
       "    <tr>\n",
       "      <th>Albumin</th>\n",
       "      <td>570.0</td>\n",
       "      <td>3.148947</td>\n",
       "      <td>3.0</td>\n",
       "      <td>3.10</td>\n",
       "      <td>2.6</td>\n",
       "      <td>3.80</td>\n",
       "      <td>0.9</td>\n",
       "      <td>5.5</td>\n",
       "      <td>0.0</td>\n",
       "    </tr>\n",
       "    <tr>\n",
       "      <th>Albumin_and_Globulin_Ratio</th>\n",
       "      <td>566.0</td>\n",
       "      <td>0.948004</td>\n",
       "      <td>1.0</td>\n",
       "      <td>0.95</td>\n",
       "      <td>0.7</td>\n",
       "      <td>1.10</td>\n",
       "      <td>0.3</td>\n",
       "      <td>2.8</td>\n",
       "      <td>0.0</td>\n",
       "    </tr>\n",
       "    <tr>\n",
       "      <th>Dataset</th>\n",
       "      <td>570.0</td>\n",
       "      <td>1.287719</td>\n",
       "      <td>1.0</td>\n",
       "      <td>1.00</td>\n",
       "      <td>1.0</td>\n",
       "      <td>2.00</td>\n",
       "      <td>1.0</td>\n",
       "      <td>2.0</td>\n",
       "      <td>0.0</td>\n",
       "    </tr>\n",
       "  </tbody>\n",
       "</table>\n",
       "</div>"
      ],
      "text/plain": [
       "                            count        mean   moda     50%    25%     75%  \\\n",
       "Age                         570.0   44.849123   60.0   45.00   33.0   58.00   \n",
       "Total_Bilirubin             570.0    3.321754    0.8    1.00    0.8    2.60   \n",
       "Direct_Bilirubin            570.0    1.497544    0.2    0.30    0.2    1.30   \n",
       "Alkaline_Phosphotase        570.0  291.750877  198.0  208.00  176.0  298.00   \n",
       "Alamine_Aminotransferase    570.0   79.728070   25.0   35.00   23.0   60.00   \n",
       "Aspartate_Aminotransferase  570.0  109.380702   23.0   41.00   25.0   86.75   \n",
       "Total_Protiens              570.0    6.496316    7.0    6.60    5.8    7.20   \n",
       "Albumin                     570.0    3.148947    3.0    3.10    2.6    3.80   \n",
       "Albumin_and_Globulin_Ratio  566.0    0.948004    1.0    0.95    0.7    1.10   \n",
       "Dataset                     570.0    1.287719    1.0    1.00    1.0    2.00   \n",
       "\n",
       "                             min     max  range  \n",
       "Age                          4.0    90.0    0.0  \n",
       "Total_Bilirubin              0.4    75.0    0.0  \n",
       "Direct_Bilirubin             0.1    19.7    0.0  \n",
       "Alkaline_Phosphotase        63.0  2110.0    0.0  \n",
       "Alamine_Aminotransferase    10.0  2000.0    0.0  \n",
       "Aspartate_Aminotransferase  10.0  4929.0    0.0  \n",
       "Total_Protiens               2.7     9.6    0.0  \n",
       "Albumin                      0.9     5.5    0.0  \n",
       "Albumin_and_Globulin_Ratio   0.3     2.8    0.0  \n",
       "Dataset                      1.0     2.0    0.0  "
      ]
     },
     "execution_count": 526,
     "metadata": {},
     "output_type": "execute_result"
    }
   ],
   "source": [
    "medidas.tendenciaCentral()"
   ]
  },
  {
   "cell_type": "markdown",
   "metadata": {
    "id": "PbeA8Rzueefp"
   },
   "source": [
    "- Medidas de dispersão"
   ]
  },
  {
   "cell_type": "code",
   "execution_count": 527,
   "metadata": {
    "id": "4SA9ciV1egq_"
   },
   "outputs": [
    {
     "data": {
      "text/html": [
       "<div>\n",
       "<style scoped>\n",
       "    .dataframe tbody tr th:only-of-type {\n",
       "        vertical-align: middle;\n",
       "    }\n",
       "\n",
       "    .dataframe tbody tr th {\n",
       "        vertical-align: top;\n",
       "    }\n",
       "\n",
       "    .dataframe thead th {\n",
       "        text-align: right;\n",
       "    }\n",
       "</style>\n",
       "<table border=\"1\" class=\"dataframe\">\n",
       "  <thead>\n",
       "    <tr style=\"text-align: right;\">\n",
       "      <th></th>\n",
       "      <th>std</th>\n",
       "      <th>coefVariacao</th>\n",
       "    </tr>\n",
       "  </thead>\n",
       "  <tbody>\n",
       "    <tr>\n",
       "      <th>Age</th>\n",
       "      <td>16.242182</td>\n",
       "      <td>2.761274</td>\n",
       "    </tr>\n",
       "    <tr>\n",
       "      <th>Total_Bilirubin</th>\n",
       "      <td>6.267941</td>\n",
       "      <td>0.529959</td>\n",
       "    </tr>\n",
       "    <tr>\n",
       "      <th>Direct_Bilirubin</th>\n",
       "      <td>2.833231</td>\n",
       "      <td>0.528564</td>\n",
       "    </tr>\n",
       "    <tr>\n",
       "      <th>Alkaline_Phosphotase</th>\n",
       "      <td>245.291859</td>\n",
       "      <td>1.189403</td>\n",
       "    </tr>\n",
       "    <tr>\n",
       "      <th>Alamine_Aminotransferase</th>\n",
       "      <td>181.471697</td>\n",
       "      <td>0.439342</td>\n",
       "    </tr>\n",
       "    <tr>\n",
       "      <th>Aspartate_Aminotransferase</th>\n",
       "      <td>290.880671</td>\n",
       "      <td>0.376033</td>\n",
       "    </tr>\n",
       "    <tr>\n",
       "      <th>Total_Protiens</th>\n",
       "      <td>1.088300</td>\n",
       "      <td>5.969231</td>\n",
       "    </tr>\n",
       "    <tr>\n",
       "      <th>Albumin</th>\n",
       "      <td>0.796813</td>\n",
       "      <td>3.951928</td>\n",
       "    </tr>\n",
       "    <tr>\n",
       "      <th>Albumin_and_Globulin_Ratio</th>\n",
       "      <td>0.319635</td>\n",
       "      <td>2.965890</td>\n",
       "    </tr>\n",
       "    <tr>\n",
       "      <th>Dataset</th>\n",
       "      <td>0.453097</td>\n",
       "      <td>2.842038</td>\n",
       "    </tr>\n",
       "  </tbody>\n",
       "</table>\n",
       "</div>"
      ],
      "text/plain": [
       "                                   std  coefVariacao\n",
       "Age                          16.242182      2.761274\n",
       "Total_Bilirubin               6.267941      0.529959\n",
       "Direct_Bilirubin              2.833231      0.528564\n",
       "Alkaline_Phosphotase        245.291859      1.189403\n",
       "Alamine_Aminotransferase    181.471697      0.439342\n",
       "Aspartate_Aminotransferase  290.880671      0.376033\n",
       "Total_Protiens                1.088300      5.969231\n",
       "Albumin                       0.796813      3.951928\n",
       "Albumin_and_Globulin_Ratio    0.319635      2.965890\n",
       "Dataset                       0.453097      2.842038"
      ]
     },
     "execution_count": 527,
     "metadata": {},
     "output_type": "execute_result"
    }
   ],
   "source": [
    "medidas.dispersao()"
   ]
  },
  {
   "cell_type": "markdown",
   "metadata": {},
   "source": [
    "**Interpretação**:\n",
    "\n",
    "\n",
    "- fazer\n"
   ]
  },
  {
   "cell_type": "markdown",
   "metadata": {},
   "source": [
    "- Medidas de distribuição"
   ]
  },
  {
   "cell_type": "code",
   "execution_count": 528,
   "metadata": {},
   "outputs": [
    {
     "data": {
      "text/html": [
       "<div>\n",
       "<style scoped>\n",
       "    .dataframe tbody tr th:only-of-type {\n",
       "        vertical-align: middle;\n",
       "    }\n",
       "\n",
       "    .dataframe tbody tr th {\n",
       "        vertical-align: top;\n",
       "    }\n",
       "\n",
       "    .dataframe thead th {\n",
       "        text-align: right;\n",
       "    }\n",
       "</style>\n",
       "<table border=\"1\" class=\"dataframe\">\n",
       "  <thead>\n",
       "    <tr style=\"text-align: right;\">\n",
       "      <th></th>\n",
       "      <th>Age</th>\n",
       "      <th>Total_Bilirubin</th>\n",
       "      <th>Direct_Bilirubin</th>\n",
       "      <th>Alkaline_Phosphotase</th>\n",
       "      <th>Alamine_Aminotransferase</th>\n",
       "      <th>Aspartate_Aminotransferase</th>\n",
       "      <th>Total_Protiens</th>\n",
       "      <th>Albumin</th>\n",
       "      <th>Albumin_and_Globulin_Ratio</th>\n",
       "      <th>Dataset</th>\n",
       "    </tr>\n",
       "  </thead>\n",
       "  <tbody>\n",
       "    <tr>\n",
       "      <th>skewness</th>\n",
       "      <td>-0.046475</td>\n",
       "      <td>4.856635</td>\n",
       "      <td>3.17929</td>\n",
       "      <td>3.718587</td>\n",
       "      <td>6.677423</td>\n",
       "      <td>10.53161</td>\n",
       "      <td>-0.31011</td>\n",
       "      <td>-0.060668</td>\n",
       "      <td>NaN</td>\n",
       "      <td>0.937844</td>\n",
       "    </tr>\n",
       "    <tr>\n",
       "      <th>kurtosis</th>\n",
       "      <td>-0.046475</td>\n",
       "      <td>4.856635</td>\n",
       "      <td>3.17929</td>\n",
       "      <td>3.718587</td>\n",
       "      <td>6.677423</td>\n",
       "      <td>10.53161</td>\n",
       "      <td>-0.31011</td>\n",
       "      <td>-0.060668</td>\n",
       "      <td>NaN</td>\n",
       "      <td>0.937844</td>\n",
       "    </tr>\n",
       "  </tbody>\n",
       "</table>\n",
       "</div>"
      ],
      "text/plain": [
       "               Age  Total_Bilirubin  Direct_Bilirubin  Alkaline_Phosphotase  \\\n",
       "skewness -0.046475         4.856635           3.17929              3.718587   \n",
       "kurtosis -0.046475         4.856635           3.17929              3.718587   \n",
       "\n",
       "          Alamine_Aminotransferase  Aspartate_Aminotransferase  \\\n",
       "skewness                  6.677423                    10.53161   \n",
       "kurtosis                  6.677423                    10.53161   \n",
       "\n",
       "          Total_Protiens   Albumin  Albumin_and_Globulin_Ratio   Dataset  \n",
       "skewness        -0.31011 -0.060668                         NaN  0.937844  \n",
       "kurtosis        -0.31011 -0.060668                         NaN  0.937844  "
      ]
     },
     "execution_count": 528,
     "metadata": {},
     "output_type": "execute_result"
    }
   ],
   "source": [
    "medidas.distribuicao()"
   ]
  },
  {
   "cell_type": "markdown",
   "metadata": {},
   "source": [
    "**Interpretação**:\n",
    "\n",
    "\n",
    "- fazer"
   ]
  },
  {
   "cell_type": "markdown",
   "metadata": {
    "id": "A_uGj2z8enfm"
   },
   "source": [
    "###### Análise uniivariada (gráficos)"
   ]
  },
  {
   "cell_type": "markdown",
   "metadata": {
    "id": "wEB1gt1DeraW"
   },
   "source": [
    "- Distribuição"
   ]
  },
  {
   "cell_type": "code",
   "execution_count": 529,
   "metadata": {
    "id": "lxnAqaS2emqw"
   },
   "outputs": [
    {
     "data": {
      "image/png": "[encoded data removed]",
      "text/plain": [
       "<Figure size 1500x1000 with 10 Axes>"
      ]
     },
     "metadata": {},
     "output_type": "display_data"
    }
   ],
   "source": [
    "# Histograma\n",
    "medidas.histogramas()"
   ]
  },
  {
   "cell_type": "code",
   "execution_count": 530,
   "metadata": {
    "id": "PAzNeocZewRB"
   },
   "outputs": [
    {
     "data": {
      "image/png": "[encoded data removed]",
      "text/plain": [
       "<Figure size 1500x1000 with 10 Axes>"
      ]
     },
     "metadata": {},
     "output_type": "display_data"
    }
   ],
   "source": [
    "# Boxplot\n",
    "\n",
    "medidas.boxplots()"
   ]
  },
  {
   "cell_type": "markdown",
   "metadata": {
    "id": "8U3RajpOfAEH"
   },
   "source": [
    "###### Análise bivariada (estatísticas)"
   ]
  },
  {
   "cell_type": "markdown",
   "metadata": {
    "id": "7btjQmqGfLdP"
   },
   "source": [
    "- Correlação"
   ]
  },
  {
   "cell_type": "code",
   "execution_count": 531,
   "metadata": {
    "id": "MiAj_J9YfM5Y"
   },
   "outputs": [
    {
     "data": {
      "image/png": "[encoded data removed]",
      "text/plain": [
       "<Figure size 500x500 with 2 Axes>"
      ]
     },
     "metadata": {},
     "output_type": "display_data"
    }
   ],
   "source": [
    "# avaliar correlação das variáveis, primeiro, somente com a variável target\n",
    "correlacoesTarget = medidas.correlacaoTarget(target='Dataset')"
   ]
  },
  {
   "cell_type": "code",
   "execution_count": 532,
   "metadata": {},
   "outputs": [
    {
     "data": {
      "image/png": "[encoded data removed]",
      "text/plain": [
       "<Figure size 1500x1000 with 2 Axes>"
      ]
     },
     "metadata": {},
     "output_type": "display_data"
    }
   ],
   "source": [
    "grafico, multicol, varCorrelacoes = medidas.correlacao_multico(coefMax=0.14,\n",
    "                                                               coefMin=-0.14,\n",
    "                                                               target='Dataset',\n",
    "                                                               correlacaoTarget=correlacoesTarget)"
   ]
  },
  {
   "cell_type": "markdown",
   "metadata": {
    "id": "bIuXqNT5fWlP"
   },
   "source": [
    "###### Análise bivariada (gráficos)"
   ]
  },
  {
   "cell_type": "markdown",
   "metadata": {
    "id": "fAFyM2p3fY6L"
   },
   "source": [
    "- Correlação"
   ]
  },
  {
   "cell_type": "code",
   "execution_count": 535,
   "metadata": {
    "id": "9HkziBVgfUB5"
   },
   "outputs": [
    {
     "data": {
      "image/png": "[encoded data removed]",
      "text/plain": [
       "<Figure size 600x600 with 5 Axes>"
      ]
     },
     "metadata": {},
     "output_type": "display_data"
    }
   ],
   "source": [
    "medidas.pairPlot(variaveis=multicol)"
   ]
  },
  {
   "cell_type": "code",
   "execution_count": 536,
   "metadata": {
    "id": "GbS7Xa9HffBJ"
   },
   "outputs": [],
   "source": [
    "# ScatterPlots\n",
    "    # plotar a relação entre as preditoras e preditas, para analisar a relação entre elas"
   ]
  },
  {
   "cell_type": "markdown",
   "metadata": {},
   "source": [
    "**Validação de suposições estatístiacas**"
   ]
  },
  {
   "cell_type": "markdown",
   "metadata": {},
   "source": [
    "**Existem suposições estatísticas para que se possa aplicar certos algorítmos. Contudo, como este projeto não tem a intensão de esgotar todas as fases de um projeto de ML, e, pretende somente demostrar o conhecimento no workflow de um projeto, esta fase não será realizada. Mas, ressalta-se, não é possível em ambiente profissional, seguir com o projeto de validar as suposições dos algotimos a serem aplicados.**"
   ]
  },
  {
   "cell_type": "markdown",
   "metadata": {
    "id": "in44bAGcf7qp"
   },
   "source": [
    "##### Dados categóricos"
   ]
  },
  {
   "cell_type": "markdown",
   "metadata": {
    "id": "EHX9lVzsgEML"
   },
   "source": [
    "- Não há dados categóricos"
   ]
  },
  {
   "cell_type": "markdown",
   "metadata": {
    "id": "AkaJPkUthYji"
   },
   "source": [
    "## Feature Engineer (como etapa)"
   ]
  },
  {
   "cell_type": "code",
   "execution_count": 549,
   "metadata": {},
   "outputs": [
    {
     "name": "stdout",
     "output_type": "stream",
     "text": [
      "Dados instanciados com sucesso!\n"
     ]
    }
   ],
   "source": [
    "engenharia = featureEngenerring()\n",
    "engenharia.dataframe = medidas.dataframe"
   ]
  },
  {
   "cell_type": "code",
   "execution_count": 550,
   "metadata": {},
   "outputs": [
    {
     "data": {
      "text/html": [
       "<div>\n",
       "<style scoped>\n",
       "    .dataframe tbody tr th:only-of-type {\n",
       "        vertical-align: middle;\n",
       "    }\n",
       "\n",
       "    .dataframe tbody tr th {\n",
       "        vertical-align: top;\n",
       "    }\n",
       "\n",
       "    .dataframe thead th {\n",
       "        text-align: right;\n",
       "    }\n",
       "</style>\n",
       "<table border=\"1\" class=\"dataframe\">\n",
       "  <thead>\n",
       "    <tr style=\"text-align: right;\">\n",
       "      <th></th>\n",
       "      <th>Age</th>\n",
       "      <th>Gender</th>\n",
       "      <th>Total_Bilirubin</th>\n",
       "      <th>Direct_Bilirubin</th>\n",
       "      <th>Alkaline_Phosphotase</th>\n",
       "      <th>Alamine_Aminotransferase</th>\n",
       "      <th>Aspartate_Aminotransferase</th>\n",
       "      <th>Total_Protiens</th>\n",
       "      <th>Albumin</th>\n",
       "      <th>Albumin_and_Globulin_Ratio</th>\n",
       "      <th>Dataset</th>\n",
       "    </tr>\n",
       "  </thead>\n",
       "  <tbody>\n",
       "    <tr>\n",
       "      <th>0</th>\n",
       "      <td>65</td>\n",
       "      <td>Female</td>\n",
       "      <td>0.7</td>\n",
       "      <td>0.1</td>\n",
       "      <td>187</td>\n",
       "      <td>16</td>\n",
       "      <td>18</td>\n",
       "      <td>6.8</td>\n",
       "      <td>3.3</td>\n",
       "      <td>0.90</td>\n",
       "      <td>1</td>\n",
       "    </tr>\n",
       "    <tr>\n",
       "      <th>1</th>\n",
       "      <td>62</td>\n",
       "      <td>Male</td>\n",
       "      <td>10.9</td>\n",
       "      <td>5.5</td>\n",
       "      <td>699</td>\n",
       "      <td>64</td>\n",
       "      <td>100</td>\n",
       "      <td>7.5</td>\n",
       "      <td>3.2</td>\n",
       "      <td>0.74</td>\n",
       "      <td>1</td>\n",
       "    </tr>\n",
       "    <tr>\n",
       "      <th>2</th>\n",
       "      <td>62</td>\n",
       "      <td>Male</td>\n",
       "      <td>7.3</td>\n",
       "      <td>4.1</td>\n",
       "      <td>490</td>\n",
       "      <td>60</td>\n",
       "      <td>68</td>\n",
       "      <td>7.0</td>\n",
       "      <td>3.3</td>\n",
       "      <td>0.89</td>\n",
       "      <td>1</td>\n",
       "    </tr>\n",
       "    <tr>\n",
       "      <th>3</th>\n",
       "      <td>58</td>\n",
       "      <td>Male</td>\n",
       "      <td>1.0</td>\n",
       "      <td>0.4</td>\n",
       "      <td>182</td>\n",
       "      <td>14</td>\n",
       "      <td>20</td>\n",
       "      <td>6.8</td>\n",
       "      <td>3.4</td>\n",
       "      <td>1.00</td>\n",
       "      <td>1</td>\n",
       "    </tr>\n",
       "    <tr>\n",
       "      <th>4</th>\n",
       "      <td>72</td>\n",
       "      <td>Male</td>\n",
       "      <td>3.9</td>\n",
       "      <td>2.0</td>\n",
       "      <td>195</td>\n",
       "      <td>27</td>\n",
       "      <td>59</td>\n",
       "      <td>7.3</td>\n",
       "      <td>2.4</td>\n",
       "      <td>0.40</td>\n",
       "      <td>1</td>\n",
       "    </tr>\n",
       "  </tbody>\n",
       "</table>\n",
       "</div>"
      ],
      "text/plain": [
       "   Age  Gender  Total_Bilirubin  Direct_Bilirubin  Alkaline_Phosphotase  \\\n",
       "0   65  Female              0.7               0.1                   187   \n",
       "1   62    Male             10.9               5.5                   699   \n",
       "2   62    Male              7.3               4.1                   490   \n",
       "3   58    Male              1.0               0.4                   182   \n",
       "4   72    Male              3.9               2.0                   195   \n",
       "\n",
       "   Alamine_Aminotransferase  Aspartate_Aminotransferase  Total_Protiens  \\\n",
       "0                        16                          18             6.8   \n",
       "1                        64                         100             7.5   \n",
       "2                        60                          68             7.0   \n",
       "3                        14                          20             6.8   \n",
       "4                        27                          59             7.3   \n",
       "\n",
       "   Albumin  Albumin_and_Globulin_Ratio  Dataset  \n",
       "0      3.3                        0.90        1  \n",
       "1      3.2                        0.74        1  \n",
       "2      3.3                        0.89        1  \n",
       "3      3.4                        1.00        1  \n",
       "4      2.4                        0.40        1  "
      ]
     },
     "execution_count": 550,
     "metadata": {},
     "output_type": "execute_result"
    }
   ],
   "source": [
    "engenharia.dataframe.head()"
   ]
  },
  {
   "cell_type": "markdown",
   "metadata": {
    "id": "WR2nbsb9h9hd"
   },
   "source": [
    "- Remoção de variáveis que não representam informações relevantes (ex: IDs)"
   ]
  },
  {
   "cell_type": "code",
   "execution_count": 551,
   "metadata": {},
   "outputs": [
    {
     "data": {
      "text/plain": [
       "Index(['Total_Bilirubin', 'Direct_Bilirubin', 'Alkaline_Phosphotase',\n",
       "       'Alamine_Aminotransferase', 'Aspartate_Aminotransferase', 'Albumin',\n",
       "       'Albumin_and_Globulin_Ratio', 'Dataset'],\n",
       "      dtype='object')"
      ]
     },
     "execution_count": 551,
     "metadata": {},
     "output_type": "execute_result"
    }
   ],
   "source": [
    "# Avaliando correlações\n",
    "varCorrelacoes"
   ]
  },
  {
   "cell_type": "code",
   "execution_count": 552,
   "metadata": {},
   "outputs": [
    {
     "data": {
      "text/plain": [
       "Index(['Total_Bilirubin', 'Direct_Bilirubin'], dtype='object')"
      ]
     },
     "execution_count": 552,
     "metadata": {},
     "output_type": "execute_result"
    }
   ],
   "source": [
    "# Avaliando possível multicolinearidade\n",
    "multicol"
   ]
  },
  {
   "cell_type": "code",
   "execution_count": 553,
   "metadata": {},
   "outputs": [
    {
     "name": "stdout",
     "output_type": "stream",
     "text": [
      "Dados instanciados com sucesso!\n"
     ]
    }
   ],
   "source": [
    "# Removendo dados não relacionados com o tardet\n",
    "engenharia.dataframe = engenharia.dataframe[varCorrelacoes]"
   ]
  },
  {
   "cell_type": "code",
   "execution_count": 554,
   "metadata": {},
   "outputs": [
    {
     "name": "stdout",
     "output_type": "stream",
     "text": [
      "Dados instanciados com sucesso!\n"
     ]
    }
   ],
   "source": [
    "# Removendo dados - multicolinearidade\n",
    "engenharia.dataframe = engenharia.dataframe.drop('Direct_Bilirubin', axis = 1)"
   ]
  },
  {
   "cell_type": "code",
   "execution_count": 555,
   "metadata": {},
   "outputs": [
    {
     "data": {
      "text/html": [
       "<div>\n",
       "<style scoped>\n",
       "    .dataframe tbody tr th:only-of-type {\n",
       "        vertical-align: middle;\n",
       "    }\n",
       "\n",
       "    .dataframe tbody tr th {\n",
       "        vertical-align: top;\n",
       "    }\n",
       "\n",
       "    .dataframe thead th {\n",
       "        text-align: right;\n",
       "    }\n",
       "</style>\n",
       "<table border=\"1\" class=\"dataframe\">\n",
       "  <thead>\n",
       "    <tr style=\"text-align: right;\">\n",
       "      <th></th>\n",
       "      <th>Total_Bilirubin</th>\n",
       "      <th>Alkaline_Phosphotase</th>\n",
       "      <th>Alamine_Aminotransferase</th>\n",
       "      <th>Aspartate_Aminotransferase</th>\n",
       "      <th>Albumin</th>\n",
       "      <th>Albumin_and_Globulin_Ratio</th>\n",
       "      <th>Dataset</th>\n",
       "    </tr>\n",
       "  </thead>\n",
       "  <tbody>\n",
       "    <tr>\n",
       "      <th>0</th>\n",
       "      <td>0.7</td>\n",
       "      <td>187</td>\n",
       "      <td>16</td>\n",
       "      <td>18</td>\n",
       "      <td>3.3</td>\n",
       "      <td>0.90</td>\n",
       "      <td>1</td>\n",
       "    </tr>\n",
       "    <tr>\n",
       "      <th>1</th>\n",
       "      <td>10.9</td>\n",
       "      <td>699</td>\n",
       "      <td>64</td>\n",
       "      <td>100</td>\n",
       "      <td>3.2</td>\n",
       "      <td>0.74</td>\n",
       "      <td>1</td>\n",
       "    </tr>\n",
       "    <tr>\n",
       "      <th>2</th>\n",
       "      <td>7.3</td>\n",
       "      <td>490</td>\n",
       "      <td>60</td>\n",
       "      <td>68</td>\n",
       "      <td>3.3</td>\n",
       "      <td>0.89</td>\n",
       "      <td>1</td>\n",
       "    </tr>\n",
       "    <tr>\n",
       "      <th>3</th>\n",
       "      <td>1.0</td>\n",
       "      <td>182</td>\n",
       "      <td>14</td>\n",
       "      <td>20</td>\n",
       "      <td>3.4</td>\n",
       "      <td>1.00</td>\n",
       "      <td>1</td>\n",
       "    </tr>\n",
       "    <tr>\n",
       "      <th>4</th>\n",
       "      <td>3.9</td>\n",
       "      <td>195</td>\n",
       "      <td>27</td>\n",
       "      <td>59</td>\n",
       "      <td>2.4</td>\n",
       "      <td>0.40</td>\n",
       "      <td>1</td>\n",
       "    </tr>\n",
       "    <tr>\n",
       "      <th>...</th>\n",
       "      <td>...</td>\n",
       "      <td>...</td>\n",
       "      <td>...</td>\n",
       "      <td>...</td>\n",
       "      <td>...</td>\n",
       "      <td>...</td>\n",
       "      <td>...</td>\n",
       "    </tr>\n",
       "    <tr>\n",
       "      <th>578</th>\n",
       "      <td>0.5</td>\n",
       "      <td>500</td>\n",
       "      <td>20</td>\n",
       "      <td>34</td>\n",
       "      <td>1.6</td>\n",
       "      <td>0.37</td>\n",
       "      <td>2</td>\n",
       "    </tr>\n",
       "    <tr>\n",
       "      <th>579</th>\n",
       "      <td>0.6</td>\n",
       "      <td>98</td>\n",
       "      <td>35</td>\n",
       "      <td>31</td>\n",
       "      <td>3.2</td>\n",
       "      <td>1.10</td>\n",
       "      <td>1</td>\n",
       "    </tr>\n",
       "    <tr>\n",
       "      <th>580</th>\n",
       "      <td>0.8</td>\n",
       "      <td>245</td>\n",
       "      <td>48</td>\n",
       "      <td>49</td>\n",
       "      <td>3.2</td>\n",
       "      <td>1.00</td>\n",
       "      <td>1</td>\n",
       "    </tr>\n",
       "    <tr>\n",
       "      <th>581</th>\n",
       "      <td>1.3</td>\n",
       "      <td>184</td>\n",
       "      <td>29</td>\n",
       "      <td>32</td>\n",
       "      <td>3.4</td>\n",
       "      <td>1.00</td>\n",
       "      <td>1</td>\n",
       "    </tr>\n",
       "    <tr>\n",
       "      <th>582</th>\n",
       "      <td>1.0</td>\n",
       "      <td>216</td>\n",
       "      <td>21</td>\n",
       "      <td>24</td>\n",
       "      <td>4.4</td>\n",
       "      <td>1.50</td>\n",
       "      <td>2</td>\n",
       "    </tr>\n",
       "  </tbody>\n",
       "</table>\n",
       "<p>570 rows × 7 columns</p>\n",
       "</div>"
      ],
      "text/plain": [
       "     Total_Bilirubin  Alkaline_Phosphotase  Alamine_Aminotransferase  \\\n",
       "0                0.7                   187                        16   \n",
       "1               10.9                   699                        64   \n",
       "2                7.3                   490                        60   \n",
       "3                1.0                   182                        14   \n",
       "4                3.9                   195                        27   \n",
       "..               ...                   ...                       ...   \n",
       "578              0.5                   500                        20   \n",
       "579              0.6                    98                        35   \n",
       "580              0.8                   245                        48   \n",
       "581              1.3                   184                        29   \n",
       "582              1.0                   216                        21   \n",
       "\n",
       "     Aspartate_Aminotransferase  Albumin  Albumin_and_Globulin_Ratio  Dataset  \n",
       "0                            18      3.3                        0.90        1  \n",
       "1                           100      3.2                        0.74        1  \n",
       "2                            68      3.3                        0.89        1  \n",
       "3                            20      3.4                        1.00        1  \n",
       "4                            59      2.4                        0.40        1  \n",
       "..                          ...      ...                         ...      ...  \n",
       "578                          34      1.6                        0.37        2  \n",
       "579                          31      3.2                        1.10        1  \n",
       "580                          49      3.2                        1.00        1  \n",
       "581                          32      3.4                        1.00        1  \n",
       "582                          24      4.4                        1.50        2  \n",
       "\n",
       "[570 rows x 7 columns]"
      ]
     },
     "execution_count": 555,
     "metadata": {},
     "output_type": "execute_result"
    }
   ],
   "source": [
    "engenharia.dataframe"
   ]
  },
  {
   "cell_type": "markdown",
   "metadata": {
    "id": "UHL3hLB6iYFc"
   },
   "source": [
    "- Tratamento de outliers"
   ]
  },
  {
   "cell_type": "code",
   "execution_count": 556,
   "metadata": {
    "id": "sOe9aFMyiL8D"
   },
   "outputs": [
    {
     "name": "stdout",
     "output_type": "stream",
     "text": [
      "São 393 que não são outliers, e 177\n"
     ]
    }
   ],
   "source": [
    "# Calculando outliers\n",
    "outliers  = engenharia.outliersCalculate()"
   ]
  },
  {
   "cell_type": "code",
   "execution_count": 557,
   "metadata": {},
   "outputs": [
    {
     "data": {
      "text/html": [
       "<div>\n",
       "<style scoped>\n",
       "    .dataframe tbody tr th:only-of-type {\n",
       "        vertical-align: middle;\n",
       "    }\n",
       "\n",
       "    .dataframe tbody tr th {\n",
       "        vertical-align: top;\n",
       "    }\n",
       "\n",
       "    .dataframe thead th {\n",
       "        text-align: right;\n",
       "    }\n",
       "</style>\n",
       "<table border=\"1\" class=\"dataframe\">\n",
       "  <thead>\n",
       "    <tr style=\"text-align: right;\">\n",
       "      <th></th>\n",
       "      <th>Total_Bilirubin</th>\n",
       "      <th>Alkaline_Phosphotase</th>\n",
       "      <th>Alamine_Aminotransferase</th>\n",
       "      <th>Aspartate_Aminotransferase</th>\n",
       "      <th>Albumin</th>\n",
       "      <th>Albumin_and_Globulin_Ratio</th>\n",
       "      <th>Dataset</th>\n",
       "    </tr>\n",
       "  </thead>\n",
       "  <tbody>\n",
       "    <tr>\n",
       "      <th>0</th>\n",
       "      <td>0.7</td>\n",
       "      <td>187</td>\n",
       "      <td>16</td>\n",
       "      <td>18</td>\n",
       "      <td>3.3</td>\n",
       "      <td>0.9</td>\n",
       "      <td>1</td>\n",
       "    </tr>\n",
       "    <tr>\n",
       "      <th>3</th>\n",
       "      <td>1.0</td>\n",
       "      <td>182</td>\n",
       "      <td>14</td>\n",
       "      <td>20</td>\n",
       "      <td>3.4</td>\n",
       "      <td>1.0</td>\n",
       "      <td>1</td>\n",
       "    </tr>\n",
       "    <tr>\n",
       "      <th>4</th>\n",
       "      <td>3.9</td>\n",
       "      <td>195</td>\n",
       "      <td>27</td>\n",
       "      <td>59</td>\n",
       "      <td>2.4</td>\n",
       "      <td>0.4</td>\n",
       "      <td>1</td>\n",
       "    </tr>\n",
       "    <tr>\n",
       "      <th>5</th>\n",
       "      <td>1.8</td>\n",
       "      <td>208</td>\n",
       "      <td>19</td>\n",
       "      <td>14</td>\n",
       "      <td>4.4</td>\n",
       "      <td>1.3</td>\n",
       "      <td>1</td>\n",
       "    </tr>\n",
       "    <tr>\n",
       "      <th>6</th>\n",
       "      <td>0.9</td>\n",
       "      <td>154</td>\n",
       "      <td>16</td>\n",
       "      <td>12</td>\n",
       "      <td>3.5</td>\n",
       "      <td>1.0</td>\n",
       "      <td>1</td>\n",
       "    </tr>\n",
       "    <tr>\n",
       "      <th>...</th>\n",
       "      <td>...</td>\n",
       "      <td>...</td>\n",
       "      <td>...</td>\n",
       "      <td>...</td>\n",
       "      <td>...</td>\n",
       "      <td>...</td>\n",
       "      <td>...</td>\n",
       "    </tr>\n",
       "    <tr>\n",
       "      <th>571</th>\n",
       "      <td>1.1</td>\n",
       "      <td>215</td>\n",
       "      <td>46</td>\n",
       "      <td>134</td>\n",
       "      <td>3.0</td>\n",
       "      <td>0.7</td>\n",
       "      <td>1</td>\n",
       "    </tr>\n",
       "    <tr>\n",
       "      <th>579</th>\n",
       "      <td>0.6</td>\n",
       "      <td>98</td>\n",
       "      <td>35</td>\n",
       "      <td>31</td>\n",
       "      <td>3.2</td>\n",
       "      <td>1.1</td>\n",
       "      <td>1</td>\n",
       "    </tr>\n",
       "    <tr>\n",
       "      <th>580</th>\n",
       "      <td>0.8</td>\n",
       "      <td>245</td>\n",
       "      <td>48</td>\n",
       "      <td>49</td>\n",
       "      <td>3.2</td>\n",
       "      <td>1.0</td>\n",
       "      <td>1</td>\n",
       "    </tr>\n",
       "    <tr>\n",
       "      <th>581</th>\n",
       "      <td>1.3</td>\n",
       "      <td>184</td>\n",
       "      <td>29</td>\n",
       "      <td>32</td>\n",
       "      <td>3.4</td>\n",
       "      <td>1.0</td>\n",
       "      <td>1</td>\n",
       "    </tr>\n",
       "    <tr>\n",
       "      <th>582</th>\n",
       "      <td>1.0</td>\n",
       "      <td>216</td>\n",
       "      <td>21</td>\n",
       "      <td>24</td>\n",
       "      <td>4.4</td>\n",
       "      <td>1.5</td>\n",
       "      <td>2</td>\n",
       "    </tr>\n",
       "  </tbody>\n",
       "</table>\n",
       "<p>393 rows × 7 columns</p>\n",
       "</div>"
      ],
      "text/plain": [
       "     Total_Bilirubin  Alkaline_Phosphotase  Alamine_Aminotransferase  \\\n",
       "0                0.7                   187                        16   \n",
       "3                1.0                   182                        14   \n",
       "4                3.9                   195                        27   \n",
       "5                1.8                   208                        19   \n",
       "6                0.9                   154                        16   \n",
       "..               ...                   ...                       ...   \n",
       "571              1.1                   215                        46   \n",
       "579              0.6                    98                        35   \n",
       "580              0.8                   245                        48   \n",
       "581              1.3                   184                        29   \n",
       "582              1.0                   216                        21   \n",
       "\n",
       "     Aspartate_Aminotransferase  Albumin  Albumin_and_Globulin_Ratio  Dataset  \n",
       "0                            18      3.3                         0.9        1  \n",
       "3                            20      3.4                         1.0        1  \n",
       "4                            59      2.4                         0.4        1  \n",
       "5                            14      4.4                         1.3        1  \n",
       "6                            12      3.5                         1.0        1  \n",
       "..                          ...      ...                         ...      ...  \n",
       "571                         134      3.0                         0.7        1  \n",
       "579                          31      3.2                         1.1        1  \n",
       "580                          49      3.2                         1.0        1  \n",
       "581                          32      3.4                         1.0        1  \n",
       "582                          24      4.4                         1.5        2  \n",
       "\n",
       "[393 rows x 7 columns]"
      ]
     },
     "execution_count": 557,
     "metadata": {},
     "output_type": "execute_result"
    }
   ],
   "source": [
    "# Visualizando outliers\n",
    "engenharia.dataframe[outliers]"
   ]
  },
  {
   "cell_type": "code",
   "execution_count": 558,
   "metadata": {},
   "outputs": [
    {
     "name": "stdout",
     "output_type": "stream",
     "text": [
      "--------------------------------------------------\n",
      "23.3    1\n",
      "25.0    1\n",
      "26.3    1\n",
      "27.2    1\n",
      "27.7    1\n",
      "30.5    2\n",
      "30.8    1\n",
      "32.6    1\n",
      "42.8    1\n",
      "75.0    1\n",
      "Name: Total_Bilirubin, dtype: int64\n",
      "--------------------------------------------------\n",
      "1124    1\n",
      "1350    2\n",
      "1420    1\n",
      "1550    1\n",
      "1580    1\n",
      "1620    1\n",
      "1630    1\n",
      "1750    1\n",
      "1896    1\n",
      "2110    1\n",
      "Name: Alkaline_Phosphotase, dtype: int64\n",
      "--------------------------------------------------\n",
      "622     1\n",
      "779     1\n",
      "790     1\n",
      "875     1\n",
      "950     1\n",
      "1250    2\n",
      "1350    1\n",
      "1630    1\n",
      "1680    1\n",
      "2000    1\n",
      "Name: Alamine_Aminotransferase, dtype: int64\n",
      "--------------------------------------------------\n",
      "794     1\n",
      "844     1\n",
      "850     4\n",
      "950     1\n",
      "960     1\n",
      "1050    2\n",
      "1500    1\n",
      "1600    1\n",
      "2946    1\n",
      "4929    1\n",
      "Name: Aspartate_Aminotransferase, dtype: int64\n",
      "--------------------------------------------------\n",
      "Series([], Name: Albumin, dtype: int64)\n",
      "--------------------------------------------------\n",
      "1.72    1\n",
      "1.80    3\n",
      "1.85    2\n",
      "1.90    1\n",
      "2.50    2\n",
      "2.80    1\n",
      "Name: Albumin_and_Globulin_Ratio, dtype: int64\n",
      "--------------------------------------------------\n",
      "Series([], Name: Dataset, dtype: int64)\n"
     ]
    }
   ],
   "source": [
    "# Verificando natureza dos outliers\n",
    "engenharia.frequencyCalculate()"
   ]
  },
  {
   "cell_type": "markdown",
   "metadata": {},
   "source": [
    "**Interpretar**"
   ]
  },
  {
   "cell_type": "code",
   "execution_count": 559,
   "metadata": {},
   "outputs": [
    {
     "name": "stdout",
     "output_type": "stream",
     "text": [
      "Dados instanciados com sucesso!\n"
     ]
    }
   ],
   "source": [
    "# Eliminando outliers\n",
    "engenharia.drop_outliers(outliers=outliers)"
   ]
  },
  {
   "cell_type": "markdown",
   "metadata": {
    "id": "eWUzwMLCiEoL"
   },
   "source": [
    "- Remoção da variável target para evitar vazamento de informações."
   ]
  },
  {
   "cell_type": "code",
   "execution_count": 560,
   "metadata": {},
   "outputs": [
    {
     "name": "stdout",
     "output_type": "stream",
     "text": [
      "target instanciado com sucesso!\n",
      "Variáveis preditoras armazenadas com sucesso!\n"
     ]
    }
   ],
   "source": [
    "engenharia.x_y(target='Dataset')"
   ]
  },
  {
   "cell_type": "code",
   "execution_count": 561,
   "metadata": {},
   "outputs": [
    {
     "data": {
      "text/html": [
       "<div>\n",
       "<style scoped>\n",
       "    .dataframe tbody tr th:only-of-type {\n",
       "        vertical-align: middle;\n",
       "    }\n",
       "\n",
       "    .dataframe tbody tr th {\n",
       "        vertical-align: top;\n",
       "    }\n",
       "\n",
       "    .dataframe thead th {\n",
       "        text-align: right;\n",
       "    }\n",
       "</style>\n",
       "<table border=\"1\" class=\"dataframe\">\n",
       "  <thead>\n",
       "    <tr style=\"text-align: right;\">\n",
       "      <th></th>\n",
       "      <th>Dataset</th>\n",
       "    </tr>\n",
       "  </thead>\n",
       "  <tbody>\n",
       "    <tr>\n",
       "      <th>0</th>\n",
       "      <td>1</td>\n",
       "    </tr>\n",
       "    <tr>\n",
       "      <th>3</th>\n",
       "      <td>1</td>\n",
       "    </tr>\n",
       "    <tr>\n",
       "      <th>4</th>\n",
       "      <td>1</td>\n",
       "    </tr>\n",
       "    <tr>\n",
       "      <th>5</th>\n",
       "      <td>1</td>\n",
       "    </tr>\n",
       "    <tr>\n",
       "      <th>6</th>\n",
       "      <td>1</td>\n",
       "    </tr>\n",
       "  </tbody>\n",
       "</table>\n",
       "</div>"
      ],
      "text/plain": [
       "   Dataset\n",
       "0        1\n",
       "3        1\n",
       "4        1\n",
       "5        1\n",
       "6        1"
      ]
     },
     "execution_count": 561,
     "metadata": {},
     "output_type": "execute_result"
    }
   ],
   "source": [
    "engenharia.target.head()"
   ]
  },
  {
   "cell_type": "code",
   "execution_count": 562,
   "metadata": {},
   "outputs": [
    {
     "data": {
      "text/html": [
       "<div>\n",
       "<style scoped>\n",
       "    .dataframe tbody tr th:only-of-type {\n",
       "        vertical-align: middle;\n",
       "    }\n",
       "\n",
       "    .dataframe tbody tr th {\n",
       "        vertical-align: top;\n",
       "    }\n",
       "\n",
       "    .dataframe thead th {\n",
       "        text-align: right;\n",
       "    }\n",
       "</style>\n",
       "<table border=\"1\" class=\"dataframe\">\n",
       "  <thead>\n",
       "    <tr style=\"text-align: right;\">\n",
       "      <th></th>\n",
       "      <th>Total_Bilirubin</th>\n",
       "      <th>Alkaline_Phosphotase</th>\n",
       "      <th>Alamine_Aminotransferase</th>\n",
       "      <th>Aspartate_Aminotransferase</th>\n",
       "      <th>Albumin</th>\n",
       "      <th>Albumin_and_Globulin_Ratio</th>\n",
       "    </tr>\n",
       "  </thead>\n",
       "  <tbody>\n",
       "    <tr>\n",
       "      <th>0</th>\n",
       "      <td>0.7</td>\n",
       "      <td>187</td>\n",
       "      <td>16</td>\n",
       "      <td>18</td>\n",
       "      <td>3.3</td>\n",
       "      <td>0.9</td>\n",
       "    </tr>\n",
       "    <tr>\n",
       "      <th>3</th>\n",
       "      <td>1.0</td>\n",
       "      <td>182</td>\n",
       "      <td>14</td>\n",
       "      <td>20</td>\n",
       "      <td>3.4</td>\n",
       "      <td>1.0</td>\n",
       "    </tr>\n",
       "    <tr>\n",
       "      <th>4</th>\n",
       "      <td>3.9</td>\n",
       "      <td>195</td>\n",
       "      <td>27</td>\n",
       "      <td>59</td>\n",
       "      <td>2.4</td>\n",
       "      <td>0.4</td>\n",
       "    </tr>\n",
       "    <tr>\n",
       "      <th>5</th>\n",
       "      <td>1.8</td>\n",
       "      <td>208</td>\n",
       "      <td>19</td>\n",
       "      <td>14</td>\n",
       "      <td>4.4</td>\n",
       "      <td>1.3</td>\n",
       "    </tr>\n",
       "    <tr>\n",
       "      <th>6</th>\n",
       "      <td>0.9</td>\n",
       "      <td>154</td>\n",
       "      <td>16</td>\n",
       "      <td>12</td>\n",
       "      <td>3.5</td>\n",
       "      <td>1.0</td>\n",
       "    </tr>\n",
       "  </tbody>\n",
       "</table>\n",
       "</div>"
      ],
      "text/plain": [
       "   Total_Bilirubin  Alkaline_Phosphotase  Alamine_Aminotransferase  \\\n",
       "0              0.7                   187                        16   \n",
       "3              1.0                   182                        14   \n",
       "4              3.9                   195                        27   \n",
       "5              1.8                   208                        19   \n",
       "6              0.9                   154                        16   \n",
       "\n",
       "   Aspartate_Aminotransferase  Albumin  Albumin_and_Globulin_Ratio  \n",
       "0                          18      3.3                         0.9  \n",
       "3                          20      3.4                         1.0  \n",
       "4                          59      2.4                         0.4  \n",
       "5                          14      4.4                         1.3  \n",
       "6                          12      3.5                         1.0  "
      ]
     },
     "execution_count": 562,
     "metadata": {},
     "output_type": "execute_result"
    }
   ],
   "source": [
    "engenharia.preditoras.head()"
   ]
  },
  {
   "cell_type": "markdown",
   "metadata": {
    "id": "uCedS1_TjH3k"
   },
   "source": [
    "## Pré-processamento\n",
    "\n",
    "- Pode ser feito antes, durante ou depois do Data Wrangling"
   ]
  },
  {
   "cell_type": "markdown",
   "metadata": {
    "id": "PYD-EsqyjQXE"
   },
   "source": [
    "### Formatação"
   ]
  },
  {
   "cell_type": "markdown",
   "metadata": {
    "id": "K6ZP5-UNjVh3"
   },
   "source": [
    "Codificação das variáveis"
   ]
  },
  {
   "cell_type": "code",
   "execution_count": 563,
   "metadata": {},
   "outputs": [
    {
     "data": {
      "text/plain": [
       "Total_Bilirubin               float64\n",
       "Alkaline_Phosphotase            int64\n",
       "Alamine_Aminotransferase        int64\n",
       "Aspartate_Aminotransferase      int64\n",
       "Albumin                       float64\n",
       "Albumin_and_Globulin_Ratio    float64\n",
       "dtype: object"
      ]
     },
     "execution_count": 563,
     "metadata": {},
     "output_type": "execute_result"
    }
   ],
   "source": [
    "#Visualizando tipo das variáveis preditoras\n",
    "\n",
    "engenharia.preditoras.dtypes"
   ]
  },
  {
   "cell_type": "code",
   "execution_count": 564,
   "metadata": {},
   "outputs": [
    {
     "data": {
      "text/plain": [
       "Dataset    int64\n",
       "dtype: object"
      ]
     },
     "execution_count": 564,
     "metadata": {},
     "output_type": "execute_result"
    }
   ],
   "source": [
    "#Visualizando tipo da variável target\n",
    "engenharia.target.dtypes"
   ]
  },
  {
   "cell_type": "code",
   "execution_count": 565,
   "metadata": {},
   "outputs": [
    {
     "data": {
      "text/html": [
       "<div>\n",
       "<style scoped>\n",
       "    .dataframe tbody tr th:only-of-type {\n",
       "        vertical-align: middle;\n",
       "    }\n",
       "\n",
       "    .dataframe tbody tr th {\n",
       "        vertical-align: top;\n",
       "    }\n",
       "\n",
       "    .dataframe thead th {\n",
       "        text-align: right;\n",
       "    }\n",
       "</style>\n",
       "<table border=\"1\" class=\"dataframe\">\n",
       "  <thead>\n",
       "    <tr style=\"text-align: right;\">\n",
       "      <th></th>\n",
       "      <th>Dataset</th>\n",
       "    </tr>\n",
       "  </thead>\n",
       "  <tbody>\n",
       "    <tr>\n",
       "      <th>525</th>\n",
       "      <td>2</td>\n",
       "    </tr>\n",
       "    <tr>\n",
       "      <th>441</th>\n",
       "      <td>1</td>\n",
       "    </tr>\n",
       "    <tr>\n",
       "      <th>360</th>\n",
       "      <td>1</td>\n",
       "    </tr>\n",
       "    <tr>\n",
       "      <th>366</th>\n",
       "      <td>2</td>\n",
       "    </tr>\n",
       "    <tr>\n",
       "      <th>146</th>\n",
       "      <td>1</td>\n",
       "    </tr>\n",
       "  </tbody>\n",
       "</table>\n",
       "</div>"
      ],
      "text/plain": [
       "     Dataset\n",
       "525        2\n",
       "441        1\n",
       "360        1\n",
       "366        2\n",
       "146        1"
      ]
     },
     "execution_count": 565,
     "metadata": {},
     "output_type": "execute_result"
    }
   ],
   "source": [
    "engenharia.target.sample(5)"
   ]
  },
  {
   "cell_type": "code",
   "execution_count": 566,
   "metadata": {},
   "outputs": [
    {
     "name": "stdout",
     "output_type": "stream",
     "text": [
      "target instanciado com sucesso!\n"
     ]
    }
   ],
   "source": [
    "# ajustando classes\n",
    "    #2 = negativo(0)\n",
    "    #1 = positivo(1)\n",
    "engenharia.target = pd.DataFrame(np.where(engenharia.target == 2, 0, 1), columns=['target'])\n",
    "    "
   ]
  },
  {
   "cell_type": "code",
   "execution_count": 567,
   "metadata": {},
   "outputs": [
    {
     "data": {
      "text/html": [
       "<div>\n",
       "<style scoped>\n",
       "    .dataframe tbody tr th:only-of-type {\n",
       "        vertical-align: middle;\n",
       "    }\n",
       "\n",
       "    .dataframe tbody tr th {\n",
       "        vertical-align: top;\n",
       "    }\n",
       "\n",
       "    .dataframe thead th {\n",
       "        text-align: right;\n",
       "    }\n",
       "</style>\n",
       "<table border=\"1\" class=\"dataframe\">\n",
       "  <thead>\n",
       "    <tr style=\"text-align: right;\">\n",
       "      <th></th>\n",
       "      <th>target</th>\n",
       "    </tr>\n",
       "  </thead>\n",
       "  <tbody>\n",
       "    <tr>\n",
       "      <th>229</th>\n",
       "      <td>1</td>\n",
       "    </tr>\n",
       "    <tr>\n",
       "      <th>249</th>\n",
       "      <td>0</td>\n",
       "    </tr>\n",
       "    <tr>\n",
       "      <th>16</th>\n",
       "      <td>0</td>\n",
       "    </tr>\n",
       "    <tr>\n",
       "      <th>203</th>\n",
       "      <td>0</td>\n",
       "    </tr>\n",
       "    <tr>\n",
       "      <th>360</th>\n",
       "      <td>1</td>\n",
       "    </tr>\n",
       "  </tbody>\n",
       "</table>\n",
       "</div>"
      ],
      "text/plain": [
       "     target\n",
       "229       1\n",
       "249       0\n",
       "16        0\n",
       "203       0\n",
       "360       1"
      ]
     },
     "execution_count": 567,
     "metadata": {},
     "output_type": "execute_result"
    }
   ],
   "source": [
    "# Verificando resultado\n",
    "engenharia.target.sample(5)"
   ]
  },
  {
   "cell_type": "code",
   "execution_count": 568,
   "metadata": {},
   "outputs": [
    {
     "data": {
      "text/html": [
       "<div>\n",
       "<style scoped>\n",
       "    .dataframe tbody tr th:only-of-type {\n",
       "        vertical-align: middle;\n",
       "    }\n",
       "\n",
       "    .dataframe tbody tr th {\n",
       "        vertical-align: top;\n",
       "    }\n",
       "\n",
       "    .dataframe thead th {\n",
       "        text-align: right;\n",
       "    }\n",
       "</style>\n",
       "<table border=\"1\" class=\"dataframe\">\n",
       "  <thead>\n",
       "    <tr style=\"text-align: right;\">\n",
       "      <th></th>\n",
       "      <th>target</th>\n",
       "    </tr>\n",
       "  </thead>\n",
       "  <tbody>\n",
       "    <tr>\n",
       "      <th>0</th>\n",
       "      <td>1</td>\n",
       "    </tr>\n",
       "    <tr>\n",
       "      <th>1</th>\n",
       "      <td>1</td>\n",
       "    </tr>\n",
       "    <tr>\n",
       "      <th>2</th>\n",
       "      <td>1</td>\n",
       "    </tr>\n",
       "    <tr>\n",
       "      <th>3</th>\n",
       "      <td>1</td>\n",
       "    </tr>\n",
       "    <tr>\n",
       "      <th>4</th>\n",
       "      <td>1</td>\n",
       "    </tr>\n",
       "    <tr>\n",
       "      <th>...</th>\n",
       "      <td>...</td>\n",
       "    </tr>\n",
       "    <tr>\n",
       "      <th>388</th>\n",
       "      <td>1</td>\n",
       "    </tr>\n",
       "    <tr>\n",
       "      <th>389</th>\n",
       "      <td>1</td>\n",
       "    </tr>\n",
       "    <tr>\n",
       "      <th>390</th>\n",
       "      <td>1</td>\n",
       "    </tr>\n",
       "    <tr>\n",
       "      <th>391</th>\n",
       "      <td>1</td>\n",
       "    </tr>\n",
       "    <tr>\n",
       "      <th>392</th>\n",
       "      <td>0</td>\n",
       "    </tr>\n",
       "  </tbody>\n",
       "</table>\n",
       "<p>393 rows × 1 columns</p>\n",
       "</div>"
      ],
      "text/plain": [
       "     target\n",
       "0         1\n",
       "1         1\n",
       "2         1\n",
       "3         1\n",
       "4         1\n",
       "..      ...\n",
       "388       1\n",
       "389       1\n",
       "390       1\n",
       "391       1\n",
       "392       0\n",
       "\n",
       "[393 rows x 1 columns]"
      ]
     },
     "execution_count": 568,
     "metadata": {},
     "output_type": "execute_result"
    }
   ],
   "source": [
    "# Definindo tipo\n",
    "engenharia.target.astype(dtype=int)"
   ]
  },
  {
   "cell_type": "code",
   "execution_count": 569,
   "metadata": {},
   "outputs": [
    {
     "data": {
      "text/plain": [
       "target    int32\n",
       "dtype: object"
      ]
     },
     "execution_count": 569,
     "metadata": {},
     "output_type": "execute_result"
    }
   ],
   "source": [
    "engenharia.target.dtypes"
   ]
  },
  {
   "cell_type": "markdown",
   "metadata": {
    "id": "lX7IUOj6odDM"
   },
   "source": [
    "## Split da base e Limpeza da base"
   ]
  },
  {
   "cell_type": "markdown",
   "metadata": {},
   "source": [
    "**Instanciando classe**"
   ]
  },
  {
   "cell_type": "code",
   "execution_count": 570,
   "metadata": {},
   "outputs": [],
   "source": [
    "split_clean = splitClean(preditoras=engenharia.preditoras, target=engenharia.target)"
   ]
  },
  {
   "cell_type": "markdown",
   "metadata": {},
   "source": [
    "**Divisão em dados de treino e teste**"
   ]
  },
  {
   "cell_type": "code",
   "execution_count": 571,
   "metadata": {},
   "outputs": [],
   "source": [
    "#Chamando método split() para divisão das bases\n",
    "split_clean.split()"
   ]
  },
  {
   "cell_type": "code",
   "execution_count": 572,
   "metadata": {},
   "outputs": [
    {
     "name": "stdout",
     "output_type": "stream",
     "text": [
      "(294, 6) (294, 1) (99, 6) (99, 1)\n"
     ]
    }
   ],
   "source": [
    "# validando dimensões dos dados\n",
    "print(split_clean.X_train.shape, \n",
    "      split_clean.y_train.shape, \n",
    "      split_clean.X_test.shape,\n",
    "      split_clean.y_test.shape)"
   ]
  },
  {
   "cell_type": "markdown",
   "metadata": {
    "id": "fP-bUK8kjXyc"
   },
   "source": [
    "### Limpeza"
   ]
  },
  {
   "cell_type": "markdown",
   "metadata": {
    "id": "aT-rf0BHjZ3m"
   },
   "source": [
    "- NA's"
   ]
  },
  {
   "cell_type": "code",
   "execution_count": 573,
   "metadata": {},
   "outputs": [
    {
     "data": {
      "text/plain": [
       "Total_Bilirubin               False\n",
       "Alkaline_Phosphotase          False\n",
       "Alamine_Aminotransferase      False\n",
       "Aspartate_Aminotransferase    False\n",
       "Albumin                       False\n",
       "Albumin_and_Globulin_Ratio     True\n",
       "dtype: bool"
      ]
     },
     "execution_count": 573,
     "metadata": {},
     "output_type": "execute_result"
    }
   ],
   "source": [
    "# Calculando valores nan das variáveis preditoras\n",
    "split_clean.preditoras.isna().any()"
   ]
  },
  {
   "cell_type": "code",
   "execution_count": 574,
   "metadata": {},
   "outputs": [
    {
     "data": {
      "text/html": [
       "<div>\n",
       "<style scoped>\n",
       "    .dataframe tbody tr th:only-of-type {\n",
       "        vertical-align: middle;\n",
       "    }\n",
       "\n",
       "    .dataframe tbody tr th {\n",
       "        vertical-align: top;\n",
       "    }\n",
       "\n",
       "    .dataframe thead th {\n",
       "        text-align: right;\n",
       "    }\n",
       "</style>\n",
       "<table border=\"1\" class=\"dataframe\">\n",
       "  <thead>\n",
       "    <tr style=\"text-align: right;\">\n",
       "      <th></th>\n",
       "      <th>Total_Bilirubin</th>\n",
       "      <th>Alkaline_Phosphotase</th>\n",
       "      <th>Alamine_Aminotransferase</th>\n",
       "      <th>Aspartate_Aminotransferase</th>\n",
       "      <th>Albumin</th>\n",
       "      <th>Albumin_and_Globulin_Ratio</th>\n",
       "    </tr>\n",
       "  </thead>\n",
       "  <tbody>\n",
       "    <tr>\n",
       "      <th>209</th>\n",
       "      <td>0.9</td>\n",
       "      <td>189</td>\n",
       "      <td>23</td>\n",
       "      <td>33</td>\n",
       "      <td>3.9</td>\n",
       "      <td>NaN</td>\n",
       "    </tr>\n",
       "    <tr>\n",
       "      <th>241</th>\n",
       "      <td>0.8</td>\n",
       "      <td>230</td>\n",
       "      <td>24</td>\n",
       "      <td>46</td>\n",
       "      <td>3.1</td>\n",
       "      <td>NaN</td>\n",
       "    </tr>\n",
       "    <tr>\n",
       "      <th>253</th>\n",
       "      <td>0.6</td>\n",
       "      <td>180</td>\n",
       "      <td>12</td>\n",
       "      <td>15</td>\n",
       "      <td>2.7</td>\n",
       "      <td>NaN</td>\n",
       "    </tr>\n",
       "    <tr>\n",
       "      <th>312</th>\n",
       "      <td>1.3</td>\n",
       "      <td>106</td>\n",
       "      <td>25</td>\n",
       "      <td>54</td>\n",
       "      <td>4.8</td>\n",
       "      <td>NaN</td>\n",
       "    </tr>\n",
       "  </tbody>\n",
       "</table>\n",
       "</div>"
      ],
      "text/plain": [
       "     Total_Bilirubin  Alkaline_Phosphotase  Alamine_Aminotransferase  \\\n",
       "209              0.9                   189                        23   \n",
       "241              0.8                   230                        24   \n",
       "253              0.6                   180                        12   \n",
       "312              1.3                   106                        25   \n",
       "\n",
       "     Aspartate_Aminotransferase  Albumin  Albumin_and_Globulin_Ratio  \n",
       "209                          33      3.9                         NaN  \n",
       "241                          46      3.1                         NaN  \n",
       "253                          15      2.7                         NaN  \n",
       "312                          54      4.8                         NaN  "
      ]
     },
     "execution_count": 574,
     "metadata": {},
     "output_type": "execute_result"
    }
   ],
   "source": [
    "split_clean.preditoras[split_clean.preditoras.Albumin_and_Globulin_Ratio.isnull()]"
   ]
  },
  {
   "cell_type": "code",
   "execution_count": 575,
   "metadata": {},
   "outputs": [
    {
     "data": {
      "text/plain": [
       "Total_Bilirubin               False\n",
       "Alkaline_Phosphotase          False\n",
       "Alamine_Aminotransferase      False\n",
       "Aspartate_Aminotransferase    False\n",
       "Albumin                       False\n",
       "Albumin_and_Globulin_Ratio    False\n",
       "dtype: bool"
      ]
     },
     "execution_count": 575,
     "metadata": {},
     "output_type": "execute_result"
    }
   ],
   "source": [
    "#Verificando se existem nas nas variáveis de teste\n",
    "split_clean.X_test.isna().any()"
   ]
  },
  {
   "cell_type": "code",
   "execution_count": 576,
   "metadata": {},
   "outputs": [
    {
     "data": {
      "text/plain": [
       "Total_Bilirubin               False\n",
       "Alkaline_Phosphotase          False\n",
       "Alamine_Aminotransferase      False\n",
       "Aspartate_Aminotransferase    False\n",
       "Albumin                       False\n",
       "Albumin_and_Globulin_Ratio     True\n",
       "dtype: bool"
      ]
     },
     "execution_count": 576,
     "metadata": {},
     "output_type": "execute_result"
    }
   ],
   "source": [
    "# Confirmando que estão nas variáveis de treinamento\n",
    "split_clean.X_train.isna().any()"
   ]
  },
  {
   "cell_type": "markdown",
   "metadata": {},
   "source": [
    "**Imputação de dados nulos com kNN**"
   ]
  },
  {
   "cell_type": "code",
   "execution_count": 577,
   "metadata": {},
   "outputs": [],
   "source": [
    "# Aplicando método de imputação para nan nos dados de treino\n",
    "split_clean.imputer_data_train()"
   ]
  },
  {
   "cell_type": "code",
   "execution_count": 578,
   "metadata": {},
   "outputs": [
    {
     "data": {
      "text/plain": [
       "Total_Bilirubin               False\n",
       "Alkaline_Phosphotase          False\n",
       "Alamine_Aminotransferase      False\n",
       "Aspartate_Aminotransferase    False\n",
       "Albumin                       False\n",
       "Albumin_and_Globulin_Ratio    False\n",
       "dtype: bool"
      ]
     },
     "execution_count": 578,
     "metadata": {},
     "output_type": "execute_result"
    }
   ],
   "source": [
    "# verificando resultado\n",
    "split_clean.X_train.isna().any()"
   ]
  },
  {
   "cell_type": "markdown",
   "metadata": {},
   "source": [
    "**Variáveis de teste não precisam de imputação**"
   ]
  },
  {
   "cell_type": "code",
   "execution_count": 579,
   "metadata": {},
   "outputs": [
    {
     "data": {
      "text/plain": [
       "Total_Bilirubin               False\n",
       "Alkaline_Phosphotase          False\n",
       "Alamine_Aminotransferase      False\n",
       "Aspartate_Aminotransferase    False\n",
       "Albumin                       False\n",
       "Albumin_and_Globulin_Ratio    False\n",
       "dtype: bool"
      ]
     },
     "execution_count": 579,
     "metadata": {},
     "output_type": "execute_result"
    }
   ],
   "source": [
    "#Confirmando\n",
    "split_clean.X_test.isna().any()"
   ]
  },
  {
   "cell_type": "markdown",
   "metadata": {
    "id": "X9HYIJorjbnV"
   },
   "source": [
    "### Amostragem\n",
    "\n",
    " - A base é já bem pequena. Não é necessário realizar amostraegm para seguir com a análise."
   ]
  },
  {
   "cell_type": "markdown",
   "metadata": {},
   "source": [
    "**Balanceamento de classes**"
   ]
  },
  {
   "cell_type": "code",
   "execution_count": 580,
   "metadata": {},
   "outputs": [
    {
     "data": {
      "text/html": [
       "<div>\n",
       "<style scoped>\n",
       "    .dataframe tbody tr th:only-of-type {\n",
       "        vertical-align: middle;\n",
       "    }\n",
       "\n",
       "    .dataframe tbody tr th {\n",
       "        vertical-align: top;\n",
       "    }\n",
       "\n",
       "    .dataframe thead th {\n",
       "        text-align: right;\n",
       "    }\n",
       "</style>\n",
       "<table border=\"1\" class=\"dataframe\">\n",
       "  <thead>\n",
       "    <tr style=\"text-align: right;\">\n",
       "      <th></th>\n",
       "      <th>target</th>\n",
       "    </tr>\n",
       "  </thead>\n",
       "  <tbody>\n",
       "    <tr>\n",
       "      <th>28</th>\n",
       "      <td>1</td>\n",
       "    </tr>\n",
       "    <tr>\n",
       "      <th>200</th>\n",
       "      <td>1</td>\n",
       "    </tr>\n",
       "    <tr>\n",
       "      <th>363</th>\n",
       "      <td>0</td>\n",
       "    </tr>\n",
       "    <tr>\n",
       "      <th>338</th>\n",
       "      <td>1</td>\n",
       "    </tr>\n",
       "    <tr>\n",
       "      <th>191</th>\n",
       "      <td>0</td>\n",
       "    </tr>\n",
       "    <tr>\n",
       "      <th>...</th>\n",
       "      <td>...</td>\n",
       "    </tr>\n",
       "    <tr>\n",
       "      <th>194</th>\n",
       "      <td>0</td>\n",
       "    </tr>\n",
       "    <tr>\n",
       "      <th>44</th>\n",
       "      <td>1</td>\n",
       "    </tr>\n",
       "    <tr>\n",
       "      <th>218</th>\n",
       "      <td>0</td>\n",
       "    </tr>\n",
       "    <tr>\n",
       "      <th>379</th>\n",
       "      <td>0</td>\n",
       "    </tr>\n",
       "    <tr>\n",
       "      <th>47</th>\n",
       "      <td>1</td>\n",
       "    </tr>\n",
       "  </tbody>\n",
       "</table>\n",
       "<p>294 rows × 1 columns</p>\n",
       "</div>"
      ],
      "text/plain": [
       "     target\n",
       "28        1\n",
       "200       1\n",
       "363       0\n",
       "338       1\n",
       "191       0\n",
       "..      ...\n",
       "194       0\n",
       "44        1\n",
       "218       0\n",
       "379       0\n",
       "47        1\n",
       "\n",
       "[294 rows x 1 columns]"
      ]
     },
     "execution_count": 580,
     "metadata": {},
     "output_type": "execute_result"
    }
   ],
   "source": [
    "split_clean.y_train"
   ]
  },
  {
   "cell_type": "code",
   "execution_count": 581,
   "metadata": {},
   "outputs": [
    {
     "data": {
      "image/png": "[encoded data removed]",
      "text/plain": [
       "<Figure size 400x400 with 1 Axes>"
      ]
     },
     "metadata": {},
     "output_type": "display_data"
    }
   ],
   "source": [
    "# Visualizando frequêcia da classe predita\n",
    "\n",
    "split_clean.countPlot(variavel='target')"
   ]
  },
  {
   "cell_type": "markdown",
   "metadata": {},
   "source": [
    "**As classes estão desbalanceadas**"
   ]
  },
  {
   "cell_type": "code",
   "execution_count": 582,
   "metadata": {},
   "outputs": [],
   "source": [
    "#aplicando\n",
    "split_clean.oversampling()"
   ]
  },
  {
   "cell_type": "code",
   "execution_count": 583,
   "metadata": {
    "scrolled": false
   },
   "outputs": [
    {
     "data": {
      "image/png": "[encoded data removed]",
      "text/plain": [
       "<Figure size 400x400 with 1 Axes>"
      ]
     },
     "metadata": {},
     "output_type": "display_data"
    }
   ],
   "source": [
    "#verificando\n",
    "split_clean.countPlot('target')"
   ]
  },
  {
   "cell_type": "code",
   "execution_count": 584,
   "metadata": {},
   "outputs": [
    {
     "data": {
      "text/plain": [
       "Total_Bilirubin               False\n",
       "Alkaline_Phosphotase          False\n",
       "Alamine_Aminotransferase      False\n",
       "Aspartate_Aminotransferase    False\n",
       "Albumin                       False\n",
       "Albumin_and_Globulin_Ratio    False\n",
       "dtype: bool"
      ]
     },
     "execution_count": 584,
     "metadata": {},
     "output_type": "execute_result"
    }
   ],
   "source": [
    "#VErificar na\n",
    "split_clean.X_train.isna().any()"
   ]
  },
  {
   "cell_type": "markdown",
   "metadata": {
    "id": "vgOPdEVooB1R"
   },
   "source": [
    "## Transformação"
   ]
  },
  {
   "cell_type": "code",
   "execution_count": 585,
   "metadata": {},
   "outputs": [],
   "source": [
    "#Capturando retorno da classe splitCelan()\n",
    "\n",
    "X_train, X_test, y_train, y_test = split_clean.return_all()"
   ]
  },
  {
   "cell_type": "code",
   "execution_count": 586,
   "metadata": {},
   "outputs": [],
   "source": [
    "#Instanciando dados na classe transform\n",
    "trasnformacao = transform(X_train, X_test, y_train, y_test)"
   ]
  },
  {
   "cell_type": "code",
   "execution_count": 587,
   "metadata": {},
   "outputs": [],
   "source": [
    "#teste de cardinalidade\n",
    "labels_discretizar = trasnformacao.cardinalidade()"
   ]
  },
  {
   "cell_type": "code",
   "execution_count": 588,
   "metadata": {},
   "outputs": [
    {
     "data": {
      "text/plain": [
       "['Alkaline_Phosphotase']"
      ]
     },
     "execution_count": 588,
     "metadata": {},
     "output_type": "execute_result"
    }
   ],
   "source": [
    "# visualizando labels com alta cardinalidade\n",
    "labels_discretizar"
   ]
  },
  {
   "cell_type": "markdown",
   "metadata": {
    "id": "lsV8pRFqoJIh"
   },
   "source": [
    "- Escalonamento."
   ]
  },
  {
   "cell_type": "code",
   "execution_count": 589,
   "metadata": {},
   "outputs": [
    {
     "data": {
      "text/plain": [
       "['Aspartate_Aminotransferase',\n",
       " 'Total_Bilirubin',\n",
       " 'Albumin_and_Globulin_Ratio',\n",
       " 'Alamine_Aminotransferase',\n",
       " 'Albumin']"
      ]
     },
     "execution_count": 589,
     "metadata": {},
     "output_type": "execute_result"
    }
   ],
   "source": [
    "escalonar = list(set(trasnformacao.X_train.columns) - set(labels_discretizar))\n",
    "escalonar"
   ]
  },
  {
   "cell_type": "code",
   "execution_count": 590,
   "metadata": {},
   "outputs": [
    {
     "data": {
      "text/plain": [
       "Total_Bilirubin               False\n",
       "Alkaline_Phosphotase          False\n",
       "Alamine_Aminotransferase      False\n",
       "Aspartate_Aminotransferase    False\n",
       "Albumin                       False\n",
       "Albumin_and_Globulin_Ratio    False\n",
       "dtype: bool"
      ]
     },
     "execution_count": 590,
     "metadata": {},
     "output_type": "execute_result"
    }
   ],
   "source": [
    "trasnformacao.X_train.isna().any()"
   ]
  },
  {
   "cell_type": "code",
   "execution_count": 591,
   "metadata": {},
   "outputs": [],
   "source": [
    "#testando treinamento\n",
    "trasnformacao.MinMaxScaler_train(escalonar)"
   ]
  },
  {
   "cell_type": "code",
   "execution_count": 592,
   "metadata": {},
   "outputs": [],
   "source": [
    "#transformação na base de treinamento\n",
    "trasnformacao.MinMaxScaler_apply(escalonar)"
   ]
  },
  {
   "cell_type": "code",
   "execution_count": 593,
   "metadata": {},
   "outputs": [
    {
     "data": {
      "text/plain": [
       "Total_Bilirubin                       False\n",
       "Alkaline_Phosphotase                  False\n",
       "Alamine_Aminotransferase              False\n",
       "Aspartate_Aminotransferase            False\n",
       "Albumin                               False\n",
       "Albumin_and_Globulin_Ratio            False\n",
       "Aspartate_Aminotransferase_scalled    False\n",
       "Total_Bilirubin_scalled               False\n",
       "Albumin_and_Globulin_Ratio_scalled    False\n",
       "Alamine_Aminotransferase_scalled      False\n",
       "Albumin_scalled                       False\n",
       "dtype: bool"
      ]
     },
     "execution_count": 593,
     "metadata": {},
     "output_type": "execute_result"
    }
   ],
   "source": [
    "trasnformacao.X_train.isna().any()"
   ]
  },
  {
   "cell_type": "code",
   "execution_count": 594,
   "metadata": {},
   "outputs": [
    {
     "data": {
      "text/html": [
       "<div>\n",
       "<style scoped>\n",
       "    .dataframe tbody tr th:only-of-type {\n",
       "        vertical-align: middle;\n",
       "    }\n",
       "\n",
       "    .dataframe tbody tr th {\n",
       "        vertical-align: top;\n",
       "    }\n",
       "\n",
       "    .dataframe thead th {\n",
       "        text-align: right;\n",
       "    }\n",
       "</style>\n",
       "<table border=\"1\" class=\"dataframe\">\n",
       "  <thead>\n",
       "    <tr style=\"text-align: right;\">\n",
       "      <th></th>\n",
       "      <th>Total_Bilirubin</th>\n",
       "      <th>Alkaline_Phosphotase</th>\n",
       "      <th>Alamine_Aminotransferase</th>\n",
       "      <th>Aspartate_Aminotransferase</th>\n",
       "      <th>Albumin</th>\n",
       "      <th>Albumin_and_Globulin_Ratio</th>\n",
       "      <th>Aspartate_Aminotransferase_scalled</th>\n",
       "      <th>Total_Bilirubin_scalled</th>\n",
       "      <th>Albumin_and_Globulin_Ratio_scalled</th>\n",
       "      <th>Alamine_Aminotransferase_scalled</th>\n",
       "      <th>Albumin_scalled</th>\n",
       "    </tr>\n",
       "  </thead>\n",
       "  <tbody>\n",
       "    <tr>\n",
       "      <th>0</th>\n",
       "      <td>3.900000</td>\n",
       "      <td>150.000000</td>\n",
       "      <td>36.000000</td>\n",
       "      <td>27.000000</td>\n",
       "      <td>3.900000</td>\n",
       "      <td>1.340000</td>\n",
       "      <td>0.112583</td>\n",
       "      <td>0.708333</td>\n",
       "      <td>0.723077</td>\n",
       "      <td>0.298851</td>\n",
       "      <td>0.652174</td>\n",
       "    </tr>\n",
       "    <tr>\n",
       "      <th>1</th>\n",
       "      <td>0.800000</td>\n",
       "      <td>174.000000</td>\n",
       "      <td>21.000000</td>\n",
       "      <td>47.000000</td>\n",
       "      <td>2.300000</td>\n",
       "      <td>1.000000</td>\n",
       "      <td>0.245033</td>\n",
       "      <td>0.062500</td>\n",
       "      <td>0.461538</td>\n",
       "      <td>0.126437</td>\n",
       "      <td>0.304348</td>\n",
       "    </tr>\n",
       "    <tr>\n",
       "      <th>2</th>\n",
       "      <td>0.800000</td>\n",
       "      <td>156.000000</td>\n",
       "      <td>12.000000</td>\n",
       "      <td>15.000000</td>\n",
       "      <td>3.700000</td>\n",
       "      <td>1.100000</td>\n",
       "      <td>0.033113</td>\n",
       "      <td>0.062500</td>\n",
       "      <td>0.538462</td>\n",
       "      <td>0.022989</td>\n",
       "      <td>0.608696</td>\n",
       "    </tr>\n",
       "    <tr>\n",
       "      <th>3</th>\n",
       "      <td>0.800000</td>\n",
       "      <td>195.000000</td>\n",
       "      <td>18.000000</td>\n",
       "      <td>15.000000</td>\n",
       "      <td>3.000000</td>\n",
       "      <td>0.800000</td>\n",
       "      <td>0.033113</td>\n",
       "      <td>0.062500</td>\n",
       "      <td>0.307692</td>\n",
       "      <td>0.091954</td>\n",
       "      <td>0.456522</td>\n",
       "    </tr>\n",
       "    <tr>\n",
       "      <th>4</th>\n",
       "      <td>0.900000</td>\n",
       "      <td>159.000000</td>\n",
       "      <td>24.000000</td>\n",
       "      <td>25.000000</td>\n",
       "      <td>4.400000</td>\n",
       "      <td>1.700000</td>\n",
       "      <td>0.099338</td>\n",
       "      <td>0.083333</td>\n",
       "      <td>1.000000</td>\n",
       "      <td>0.160920</td>\n",
       "      <td>0.760870</td>\n",
       "    </tr>\n",
       "    <tr>\n",
       "      <th>...</th>\n",
       "      <td>...</td>\n",
       "      <td>...</td>\n",
       "      <td>...</td>\n",
       "      <td>...</td>\n",
       "      <td>...</td>\n",
       "      <td>...</td>\n",
       "      <td>...</td>\n",
       "      <td>...</td>\n",
       "      <td>...</td>\n",
       "      <td>...</td>\n",
       "      <td>...</td>\n",
       "    </tr>\n",
       "    <tr>\n",
       "      <th>359</th>\n",
       "      <td>4.404256</td>\n",
       "      <td>145.199054</td>\n",
       "      <td>33.990542</td>\n",
       "      <td>87.620807</td>\n",
       "      <td>3.057825</td>\n",
       "      <td>1.079622</td>\n",
       "      <td>0.514045</td>\n",
       "      <td>0.813387</td>\n",
       "      <td>0.522786</td>\n",
       "      <td>0.275753</td>\n",
       "      <td>0.469092</td>\n",
       "    </tr>\n",
       "    <tr>\n",
       "      <th>360</th>\n",
       "      <td>0.680684</td>\n",
       "      <td>137.161368</td>\n",
       "      <td>20.709059</td>\n",
       "      <td>16.806838</td>\n",
       "      <td>2.206598</td>\n",
       "      <td>0.680684</td>\n",
       "      <td>0.045078</td>\n",
       "      <td>0.037642</td>\n",
       "      <td>0.215911</td>\n",
       "      <td>0.123093</td>\n",
       "      <td>0.284043</td>\n",
       "    </tr>\n",
       "    <tr>\n",
       "      <th>361</th>\n",
       "      <td>1.618408</td>\n",
       "      <td>261.029854</td>\n",
       "      <td>49.154227</td>\n",
       "      <td>68.616909</td>\n",
       "      <td>3.481592</td>\n",
       "      <td>1.099403</td>\n",
       "      <td>0.388191</td>\n",
       "      <td>0.233002</td>\n",
       "      <td>0.538002</td>\n",
       "      <td>0.450049</td>\n",
       "      <td>0.561216</td>\n",
       "    </tr>\n",
       "    <tr>\n",
       "      <th>362</th>\n",
       "      <td>1.217830</td>\n",
       "      <td>155.493021</td>\n",
       "      <td>15.657362</td>\n",
       "      <td>19.178298</td>\n",
       "      <td>3.934264</td>\n",
       "      <td>1.032868</td>\n",
       "      <td>0.060783</td>\n",
       "      <td>0.149548</td>\n",
       "      <td>0.486822</td>\n",
       "      <td>0.065027</td>\n",
       "      <td>0.659623</td>\n",
       "    </tr>\n",
       "    <tr>\n",
       "      <th>363</th>\n",
       "      <td>0.770682</td>\n",
       "      <td>187.764394</td>\n",
       "      <td>12.884845</td>\n",
       "      <td>13.062873</td>\n",
       "      <td>2.441363</td>\n",
       "      <td>0.825447</td>\n",
       "      <td>0.020284</td>\n",
       "      <td>0.056392</td>\n",
       "      <td>0.327267</td>\n",
       "      <td>0.033159</td>\n",
       "      <td>0.335079</td>\n",
       "    </tr>\n",
       "  </tbody>\n",
       "</table>\n",
       "<p>364 rows × 11 columns</p>\n",
       "</div>"
      ],
      "text/plain": [
       "     Total_Bilirubin  Alkaline_Phosphotase  Alamine_Aminotransferase  \\\n",
       "0           3.900000            150.000000                 36.000000   \n",
       "1           0.800000            174.000000                 21.000000   \n",
       "2           0.800000            156.000000                 12.000000   \n",
       "3           0.800000            195.000000                 18.000000   \n",
       "4           0.900000            159.000000                 24.000000   \n",
       "..               ...                   ...                       ...   \n",
       "359         4.404256            145.199054                 33.990542   \n",
       "360         0.680684            137.161368                 20.709059   \n",
       "361         1.618408            261.029854                 49.154227   \n",
       "362         1.217830            155.493021                 15.657362   \n",
       "363         0.770682            187.764394                 12.884845   \n",
       "\n",
       "     Aspartate_Aminotransferase   Albumin  Albumin_and_Globulin_Ratio  \\\n",
       "0                     27.000000  3.900000                    1.340000   \n",
       "1                     47.000000  2.300000                    1.000000   \n",
       "2                     15.000000  3.700000                    1.100000   \n",
       "3                     15.000000  3.000000                    0.800000   \n",
       "4                     25.000000  4.400000                    1.700000   \n",
       "..                          ...       ...                         ...   \n",
       "359                   87.620807  3.057825                    1.079622   \n",
       "360                   16.806838  2.206598                    0.680684   \n",
       "361                   68.616909  3.481592                    1.099403   \n",
       "362                   19.178298  3.934264                    1.032868   \n",
       "363                   13.062873  2.441363                    0.825447   \n",
       "\n",
       "     Aspartate_Aminotransferase_scalled  Total_Bilirubin_scalled  \\\n",
       "0                              0.112583                 0.708333   \n",
       "1                              0.245033                 0.062500   \n",
       "2                              0.033113                 0.062500   \n",
       "3                              0.033113                 0.062500   \n",
       "4                              0.099338                 0.083333   \n",
       "..                                  ...                      ...   \n",
       "359                            0.514045                 0.813387   \n",
       "360                            0.045078                 0.037642   \n",
       "361                            0.388191                 0.233002   \n",
       "362                            0.060783                 0.149548   \n",
       "363                            0.020284                 0.056392   \n",
       "\n",
       "     Albumin_and_Globulin_Ratio_scalled  Alamine_Aminotransferase_scalled  \\\n",
       "0                              0.723077                          0.298851   \n",
       "1                              0.461538                          0.126437   \n",
       "2                              0.538462                          0.022989   \n",
       "3                              0.307692                          0.091954   \n",
       "4                              1.000000                          0.160920   \n",
       "..                                  ...                               ...   \n",
       "359                            0.522786                          0.275753   \n",
       "360                            0.215911                          0.123093   \n",
       "361                            0.538002                          0.450049   \n",
       "362                            0.486822                          0.065027   \n",
       "363                            0.327267                          0.033159   \n",
       "\n",
       "     Albumin_scalled  \n",
       "0           0.652174  \n",
       "1           0.304348  \n",
       "2           0.608696  \n",
       "3           0.456522  \n",
       "4           0.760870  \n",
       "..               ...  \n",
       "359         0.469092  \n",
       "360         0.284043  \n",
       "361         0.561216  \n",
       "362         0.659623  \n",
       "363         0.335079  \n",
       "\n",
       "[364 rows x 11 columns]"
      ]
     },
     "execution_count": 594,
     "metadata": {},
     "output_type": "execute_result"
    }
   ],
   "source": [
    "#visualizando\n",
    "trasnformacao.X_train"
   ]
  },
  {
   "cell_type": "code",
   "execution_count": 595,
   "metadata": {},
   "outputs": [],
   "source": [
    "#Eliminando variáveis originais\n",
    "trasnformacao.X_train.drop(escalonar, axis = 1, inplace=True)"
   ]
  },
  {
   "cell_type": "code",
   "execution_count": 596,
   "metadata": {},
   "outputs": [
    {
     "data": {
      "text/plain": [
       "Alkaline_Phosphotase                  False\n",
       "Aspartate_Aminotransferase_scalled    False\n",
       "Total_Bilirubin_scalled               False\n",
       "Albumin_and_Globulin_Ratio_scalled    False\n",
       "Alamine_Aminotransferase_scalled      False\n",
       "Albumin_scalled                       False\n",
       "dtype: bool"
      ]
     },
     "execution_count": 596,
     "metadata": {},
     "output_type": "execute_result"
    }
   ],
   "source": [
    "#verificar a existência de novos dados nan\n",
    "trasnformacao.X_train.isna().any()"
   ]
  },
  {
   "cell_type": "markdown",
   "metadata": {},
   "source": [
    "* Discretização"
   ]
  },
  {
   "cell_type": "code",
   "execution_count": 597,
   "metadata": {},
   "outputs": [],
   "source": [
    "#teste de discretização\n",
    "trasnformacao.discretizacao_treinamento(labels=labels_discretizar)"
   ]
  },
  {
   "cell_type": "code",
   "execution_count": 598,
   "metadata": {},
   "outputs": [
    {
     "data": {
      "text/plain": [
       "Aspartate_Aminotransferase_scalled    False\n",
       "Total_Bilirubin_scalled               False\n",
       "Albumin_and_Globulin_Ratio_scalled    False\n",
       "Alamine_Aminotransferase_scalled      False\n",
       "Albumin_scalled                       False\n",
       "Alkaline_Phosphotase_Intervalo        False\n",
       "dtype: bool"
      ]
     },
     "execution_count": 598,
     "metadata": {},
     "output_type": "execute_result"
    }
   ],
   "source": [
    "trasnformacao.X_train.isna().any()"
   ]
  },
  {
   "cell_type": "code",
   "execution_count": 599,
   "metadata": {},
   "outputs": [
    {
     "data": {
      "text/html": [
       "<div>\n",
       "<style scoped>\n",
       "    .dataframe tbody tr th:only-of-type {\n",
       "        vertical-align: middle;\n",
       "    }\n",
       "\n",
       "    .dataframe tbody tr th {\n",
       "        vertical-align: top;\n",
       "    }\n",
       "\n",
       "    .dataframe thead th {\n",
       "        text-align: right;\n",
       "    }\n",
       "</style>\n",
       "<table border=\"1\" class=\"dataframe\">\n",
       "  <thead>\n",
       "    <tr style=\"text-align: right;\">\n",
       "      <th></th>\n",
       "      <th>Aspartate_Aminotransferase_scalled</th>\n",
       "      <th>Total_Bilirubin_scalled</th>\n",
       "      <th>Albumin_and_Globulin_Ratio_scalled</th>\n",
       "      <th>Alamine_Aminotransferase_scalled</th>\n",
       "      <th>Albumin_scalled</th>\n",
       "      <th>Alkaline_Phosphotase_Intervalo</th>\n",
       "    </tr>\n",
       "  </thead>\n",
       "  <tbody>\n",
       "    <tr>\n",
       "      <th>0</th>\n",
       "      <td>0.112583</td>\n",
       "      <td>0.708333</td>\n",
       "      <td>0.723077</td>\n",
       "      <td>0.298851</td>\n",
       "      <td>0.652174</td>\n",
       "      <td>4</td>\n",
       "    </tr>\n",
       "    <tr>\n",
       "      <th>1</th>\n",
       "      <td>0.245033</td>\n",
       "      <td>0.062500</td>\n",
       "      <td>0.461538</td>\n",
       "      <td>0.126437</td>\n",
       "      <td>0.304348</td>\n",
       "      <td>6</td>\n",
       "    </tr>\n",
       "    <tr>\n",
       "      <th>2</th>\n",
       "      <td>0.033113</td>\n",
       "      <td>0.062500</td>\n",
       "      <td>0.538462</td>\n",
       "      <td>0.022989</td>\n",
       "      <td>0.608696</td>\n",
       "      <td>5</td>\n",
       "    </tr>\n",
       "    <tr>\n",
       "      <th>3</th>\n",
       "      <td>0.033113</td>\n",
       "      <td>0.062500</td>\n",
       "      <td>0.307692</td>\n",
       "      <td>0.091954</td>\n",
       "      <td>0.456522</td>\n",
       "      <td>7</td>\n",
       "    </tr>\n",
       "    <tr>\n",
       "      <th>4</th>\n",
       "      <td>0.099338</td>\n",
       "      <td>0.083333</td>\n",
       "      <td>1.000000</td>\n",
       "      <td>0.160920</td>\n",
       "      <td>0.760870</td>\n",
       "      <td>5</td>\n",
       "    </tr>\n",
       "    <tr>\n",
       "      <th>...</th>\n",
       "      <td>...</td>\n",
       "      <td>...</td>\n",
       "      <td>...</td>\n",
       "      <td>...</td>\n",
       "      <td>...</td>\n",
       "      <td>...</td>\n",
       "    </tr>\n",
       "    <tr>\n",
       "      <th>359</th>\n",
       "      <td>0.514045</td>\n",
       "      <td>0.813387</td>\n",
       "      <td>0.522786</td>\n",
       "      <td>0.275753</td>\n",
       "      <td>0.469092</td>\n",
       "      <td>4</td>\n",
       "    </tr>\n",
       "    <tr>\n",
       "      <th>360</th>\n",
       "      <td>0.045078</td>\n",
       "      <td>0.037642</td>\n",
       "      <td>0.215911</td>\n",
       "      <td>0.123093</td>\n",
       "      <td>0.284043</td>\n",
       "      <td>4</td>\n",
       "    </tr>\n",
       "    <tr>\n",
       "      <th>361</th>\n",
       "      <td>0.388191</td>\n",
       "      <td>0.233002</td>\n",
       "      <td>0.538002</td>\n",
       "      <td>0.450049</td>\n",
       "      <td>0.561216</td>\n",
       "      <td>10</td>\n",
       "    </tr>\n",
       "    <tr>\n",
       "      <th>362</th>\n",
       "      <td>0.060783</td>\n",
       "      <td>0.149548</td>\n",
       "      <td>0.486822</td>\n",
       "      <td>0.065027</td>\n",
       "      <td>0.659623</td>\n",
       "      <td>5</td>\n",
       "    </tr>\n",
       "    <tr>\n",
       "      <th>363</th>\n",
       "      <td>0.020284</td>\n",
       "      <td>0.056392</td>\n",
       "      <td>0.327267</td>\n",
       "      <td>0.033159</td>\n",
       "      <td>0.335079</td>\n",
       "      <td>6</td>\n",
       "    </tr>\n",
       "  </tbody>\n",
       "</table>\n",
       "<p>364 rows × 6 columns</p>\n",
       "</div>"
      ],
      "text/plain": [
       "     Aspartate_Aminotransferase_scalled  Total_Bilirubin_scalled  \\\n",
       "0                              0.112583                 0.708333   \n",
       "1                              0.245033                 0.062500   \n",
       "2                              0.033113                 0.062500   \n",
       "3                              0.033113                 0.062500   \n",
       "4                              0.099338                 0.083333   \n",
       "..                                  ...                      ...   \n",
       "359                            0.514045                 0.813387   \n",
       "360                            0.045078                 0.037642   \n",
       "361                            0.388191                 0.233002   \n",
       "362                            0.060783                 0.149548   \n",
       "363                            0.020284                 0.056392   \n",
       "\n",
       "     Albumin_and_Globulin_Ratio_scalled  Alamine_Aminotransferase_scalled  \\\n",
       "0                              0.723077                          0.298851   \n",
       "1                              0.461538                          0.126437   \n",
       "2                              0.538462                          0.022989   \n",
       "3                              0.307692                          0.091954   \n",
       "4                              1.000000                          0.160920   \n",
       "..                                  ...                               ...   \n",
       "359                            0.522786                          0.275753   \n",
       "360                            0.215911                          0.123093   \n",
       "361                            0.538002                          0.450049   \n",
       "362                            0.486822                          0.065027   \n",
       "363                            0.327267                          0.033159   \n",
       "\n",
       "     Albumin_scalled Alkaline_Phosphotase_Intervalo  \n",
       "0           0.652174                              4  \n",
       "1           0.304348                              6  \n",
       "2           0.608696                              5  \n",
       "3           0.456522                              7  \n",
       "4           0.760870                              5  \n",
       "..               ...                            ...  \n",
       "359         0.469092                              4  \n",
       "360         0.284043                              4  \n",
       "361         0.561216                             10  \n",
       "362         0.659623                              5  \n",
       "363         0.335079                              6  \n",
       "\n",
       "[364 rows x 6 columns]"
      ]
     },
     "execution_count": 599,
     "metadata": {},
     "output_type": "execute_result"
    }
   ],
   "source": [
    "trasnformacao.X_train"
   ]
  },
  {
   "cell_type": "code",
   "execution_count": 600,
   "metadata": {},
   "outputs": [
    {
     "data": {
      "text/html": [
       "<div>\n",
       "<style scoped>\n",
       "    .dataframe tbody tr th:only-of-type {\n",
       "        vertical-align: middle;\n",
       "    }\n",
       "\n",
       "    .dataframe tbody tr th {\n",
       "        vertical-align: top;\n",
       "    }\n",
       "\n",
       "    .dataframe thead th {\n",
       "        text-align: right;\n",
       "    }\n",
       "</style>\n",
       "<table border=\"1\" class=\"dataframe\">\n",
       "  <thead>\n",
       "    <tr style=\"text-align: right;\">\n",
       "      <th></th>\n",
       "      <th>Aspartate_Aminotransferase_scalled</th>\n",
       "      <th>Total_Bilirubin_scalled</th>\n",
       "      <th>Albumin_and_Globulin_Ratio_scalled</th>\n",
       "      <th>Alamine_Aminotransferase_scalled</th>\n",
       "      <th>Albumin_scalled</th>\n",
       "      <th>Alkaline_Phosphotase_Intervalo</th>\n",
       "    </tr>\n",
       "  </thead>\n",
       "  <tbody>\n",
       "    <tr>\n",
       "      <th>0</th>\n",
       "      <td>0.112583</td>\n",
       "      <td>0.708333</td>\n",
       "      <td>0.723077</td>\n",
       "      <td>0.298851</td>\n",
       "      <td>0.652174</td>\n",
       "      <td>4</td>\n",
       "    </tr>\n",
       "    <tr>\n",
       "      <th>1</th>\n",
       "      <td>0.245033</td>\n",
       "      <td>0.062500</td>\n",
       "      <td>0.461538</td>\n",
       "      <td>0.126437</td>\n",
       "      <td>0.304348</td>\n",
       "      <td>6</td>\n",
       "    </tr>\n",
       "    <tr>\n",
       "      <th>2</th>\n",
       "      <td>0.033113</td>\n",
       "      <td>0.062500</td>\n",
       "      <td>0.538462</td>\n",
       "      <td>0.022989</td>\n",
       "      <td>0.608696</td>\n",
       "      <td>5</td>\n",
       "    </tr>\n",
       "    <tr>\n",
       "      <th>3</th>\n",
       "      <td>0.033113</td>\n",
       "      <td>0.062500</td>\n",
       "      <td>0.307692</td>\n",
       "      <td>0.091954</td>\n",
       "      <td>0.456522</td>\n",
       "      <td>7</td>\n",
       "    </tr>\n",
       "    <tr>\n",
       "      <th>4</th>\n",
       "      <td>0.099338</td>\n",
       "      <td>0.083333</td>\n",
       "      <td>1.000000</td>\n",
       "      <td>0.160920</td>\n",
       "      <td>0.760870</td>\n",
       "      <td>5</td>\n",
       "    </tr>\n",
       "  </tbody>\n",
       "</table>\n",
       "</div>"
      ],
      "text/plain": [
       "   Aspartate_Aminotransferase_scalled  Total_Bilirubin_scalled  \\\n",
       "0                            0.112583                 0.708333   \n",
       "1                            0.245033                 0.062500   \n",
       "2                            0.033113                 0.062500   \n",
       "3                            0.033113                 0.062500   \n",
       "4                            0.099338                 0.083333   \n",
       "\n",
       "   Albumin_and_Globulin_Ratio_scalled  Alamine_Aminotransferase_scalled  \\\n",
       "0                            0.723077                          0.298851   \n",
       "1                            0.461538                          0.126437   \n",
       "2                            0.538462                          0.022989   \n",
       "3                            0.307692                          0.091954   \n",
       "4                            1.000000                          0.160920   \n",
       "\n",
       "   Albumin_scalled Alkaline_Phosphotase_Intervalo  \n",
       "0         0.652174                              4  \n",
       "1         0.304348                              6  \n",
       "2         0.608696                              5  \n",
       "3         0.456522                              7  \n",
       "4         0.760870                              5  "
      ]
     },
     "execution_count": 600,
     "metadata": {},
     "output_type": "execute_result"
    }
   ],
   "source": [
    "trasnformacao.X_train.head()"
   ]
  },
  {
   "cell_type": "code",
   "execution_count": 601,
   "metadata": {},
   "outputs": [
    {
     "data": {
      "text/plain": [
       "Aspartate_Aminotransferase_scalled    False\n",
       "Total_Bilirubin_scalled               False\n",
       "Albumin_and_Globulin_Ratio_scalled    False\n",
       "Alamine_Aminotransferase_scalled      False\n",
       "Albumin_scalled                       False\n",
       "Alkaline_Phosphotase_Intervalo        False\n",
       "dtype: bool"
      ]
     },
     "execution_count": 601,
     "metadata": {},
     "output_type": "execute_result"
    }
   ],
   "source": [
    "trasnformacao.X_train.isna().any()"
   ]
  },
  {
   "cell_type": "markdown",
   "metadata": {},
   "source": [
    "**É necessário aplicar as transformações aos dados de teste (com exceção do balanceamento)**"
   ]
  },
  {
   "cell_type": "code",
   "execution_count": 602,
   "metadata": {},
   "outputs": [
    {
     "data": {
      "text/plain": [
       "Total_Bilirubin               False\n",
       "Alkaline_Phosphotase          False\n",
       "Alamine_Aminotransferase      False\n",
       "Aspartate_Aminotransferase    False\n",
       "Albumin                       False\n",
       "Albumin_and_Globulin_Ratio    False\n",
       "dtype: bool"
      ]
     },
     "execution_count": 602,
     "metadata": {},
     "output_type": "execute_result"
    }
   ],
   "source": [
    "#Confirmando inexistência de na's\n",
    "trasnformacao.X_test.isna().any()"
   ]
  },
  {
   "cell_type": "code",
   "execution_count": 603,
   "metadata": {},
   "outputs": [
    {
     "data": {
      "text/html": [
       "<div>\n",
       "<style scoped>\n",
       "    .dataframe tbody tr th:only-of-type {\n",
       "        vertical-align: middle;\n",
       "    }\n",
       "\n",
       "    .dataframe tbody tr th {\n",
       "        vertical-align: top;\n",
       "    }\n",
       "\n",
       "    .dataframe thead th {\n",
       "        text-align: right;\n",
       "    }\n",
       "</style>\n",
       "<table border=\"1\" class=\"dataframe\">\n",
       "  <thead>\n",
       "    <tr style=\"text-align: right;\">\n",
       "      <th></th>\n",
       "      <th>Total_Bilirubin</th>\n",
       "      <th>Alkaline_Phosphotase</th>\n",
       "      <th>Alamine_Aminotransferase</th>\n",
       "      <th>Aspartate_Aminotransferase</th>\n",
       "      <th>Albumin</th>\n",
       "      <th>Albumin_and_Globulin_Ratio</th>\n",
       "    </tr>\n",
       "  </thead>\n",
       "  <tbody>\n",
       "    <tr>\n",
       "      <th>0</th>\n",
       "      <td>0.8</td>\n",
       "      <td>160</td>\n",
       "      <td>34</td>\n",
       "      <td>20</td>\n",
       "      <td>3.7</td>\n",
       "      <td>1.1</td>\n",
       "    </tr>\n",
       "    <tr>\n",
       "      <th>1</th>\n",
       "      <td>2.9</td>\n",
       "      <td>218</td>\n",
       "      <td>33</td>\n",
       "      <td>37</td>\n",
       "      <td>1.5</td>\n",
       "      <td>1.0</td>\n",
       "    </tr>\n",
       "    <tr>\n",
       "      <th>2</th>\n",
       "      <td>0.7</td>\n",
       "      <td>192</td>\n",
       "      <td>18</td>\n",
       "      <td>15</td>\n",
       "      <td>4.2</td>\n",
       "      <td>1.3</td>\n",
       "    </tr>\n",
       "    <tr>\n",
       "      <th>3</th>\n",
       "      <td>0.5</td>\n",
       "      <td>170</td>\n",
       "      <td>21</td>\n",
       "      <td>28</td>\n",
       "      <td>2.5</td>\n",
       "      <td>0.8</td>\n",
       "    </tr>\n",
       "    <tr>\n",
       "      <th>4</th>\n",
       "      <td>0.6</td>\n",
       "      <td>188</td>\n",
       "      <td>28</td>\n",
       "      <td>43</td>\n",
       "      <td>3.3</td>\n",
       "      <td>0.6</td>\n",
       "    </tr>\n",
       "  </tbody>\n",
       "</table>\n",
       "</div>"
      ],
      "text/plain": [
       "   Total_Bilirubin  Alkaline_Phosphotase  Alamine_Aminotransferase  \\\n",
       "0              0.8                   160                        34   \n",
       "1              2.9                   218                        33   \n",
       "2              0.7                   192                        18   \n",
       "3              0.5                   170                        21   \n",
       "4              0.6                   188                        28   \n",
       "\n",
       "   Aspartate_Aminotransferase  Albumin  Albumin_and_Globulin_Ratio  \n",
       "0                          20      3.7                         1.1  \n",
       "1                          37      1.5                         1.0  \n",
       "2                          15      4.2                         1.3  \n",
       "3                          28      2.5                         0.8  \n",
       "4                          43      3.3                         0.6  "
      ]
     },
     "execution_count": 603,
     "metadata": {},
     "output_type": "execute_result"
    }
   ],
   "source": [
    "# visualizando dados\n",
    "trasnformacao.X_test.head()\n"
   ]
  },
  {
   "cell_type": "code",
   "execution_count": 604,
   "metadata": {},
   "outputs": [
    {
     "data": {
      "text/plain": [
       "['Aspartate_Aminotransferase',\n",
       " 'Total_Bilirubin',\n",
       " 'Albumin_and_Globulin_Ratio',\n",
       " 'Alamine_Aminotransferase',\n",
       " 'Albumin']"
      ]
     },
     "execution_count": 604,
     "metadata": {},
     "output_type": "execute_result"
    }
   ],
   "source": [
    "# escalonando variáveis\n",
    "escalonar"
   ]
  },
  {
   "cell_type": "code",
   "execution_count": 605,
   "metadata": {},
   "outputs": [],
   "source": [
    "# aplicando na base de teste\n",
    "trasnformacao.MinMaxScaler_apply(variaveis=escalonar, teste=True)"
   ]
  },
  {
   "cell_type": "code",
   "execution_count": 606,
   "metadata": {},
   "outputs": [
    {
     "data": {
      "text/html": [
       "<div>\n",
       "<style scoped>\n",
       "    .dataframe tbody tr th:only-of-type {\n",
       "        vertical-align: middle;\n",
       "    }\n",
       "\n",
       "    .dataframe tbody tr th {\n",
       "        vertical-align: top;\n",
       "    }\n",
       "\n",
       "    .dataframe thead th {\n",
       "        text-align: right;\n",
       "    }\n",
       "</style>\n",
       "<table border=\"1\" class=\"dataframe\">\n",
       "  <thead>\n",
       "    <tr style=\"text-align: right;\">\n",
       "      <th></th>\n",
       "      <th>Total_Bilirubin</th>\n",
       "      <th>Alkaline_Phosphotase</th>\n",
       "      <th>Alamine_Aminotransferase</th>\n",
       "      <th>Aspartate_Aminotransferase</th>\n",
       "      <th>Albumin</th>\n",
       "      <th>Albumin_and_Globulin_Ratio</th>\n",
       "      <th>Aspartate_Aminotransferase_scalled</th>\n",
       "      <th>Total_Bilirubin_scalled</th>\n",
       "      <th>Albumin_and_Globulin_Ratio_scalled</th>\n",
       "      <th>Alamine_Aminotransferase_scalled</th>\n",
       "      <th>Albumin_scalled</th>\n",
       "    </tr>\n",
       "  </thead>\n",
       "  <tbody>\n",
       "    <tr>\n",
       "      <th>0</th>\n",
       "      <td>0.8</td>\n",
       "      <td>160</td>\n",
       "      <td>34</td>\n",
       "      <td>20</td>\n",
       "      <td>3.7</td>\n",
       "      <td>1.1</td>\n",
       "      <td>0.066225</td>\n",
       "      <td>0.062500</td>\n",
       "      <td>0.538462</td>\n",
       "      <td>0.275862</td>\n",
       "      <td>0.608696</td>\n",
       "    </tr>\n",
       "    <tr>\n",
       "      <th>1</th>\n",
       "      <td>2.9</td>\n",
       "      <td>218</td>\n",
       "      <td>33</td>\n",
       "      <td>37</td>\n",
       "      <td>1.5</td>\n",
       "      <td>1.0</td>\n",
       "      <td>0.178808</td>\n",
       "      <td>0.500000</td>\n",
       "      <td>0.461538</td>\n",
       "      <td>0.264368</td>\n",
       "      <td>0.130435</td>\n",
       "    </tr>\n",
       "    <tr>\n",
       "      <th>2</th>\n",
       "      <td>0.7</td>\n",
       "      <td>192</td>\n",
       "      <td>18</td>\n",
       "      <td>15</td>\n",
       "      <td>4.2</td>\n",
       "      <td>1.3</td>\n",
       "      <td>0.033113</td>\n",
       "      <td>0.041667</td>\n",
       "      <td>0.692308</td>\n",
       "      <td>0.091954</td>\n",
       "      <td>0.717391</td>\n",
       "    </tr>\n",
       "    <tr>\n",
       "      <th>3</th>\n",
       "      <td>0.5</td>\n",
       "      <td>170</td>\n",
       "      <td>21</td>\n",
       "      <td>28</td>\n",
       "      <td>2.5</td>\n",
       "      <td>0.8</td>\n",
       "      <td>0.119205</td>\n",
       "      <td>0.000000</td>\n",
       "      <td>0.307692</td>\n",
       "      <td>0.126437</td>\n",
       "      <td>0.347826</td>\n",
       "    </tr>\n",
       "    <tr>\n",
       "      <th>4</th>\n",
       "      <td>0.6</td>\n",
       "      <td>188</td>\n",
       "      <td>28</td>\n",
       "      <td>43</td>\n",
       "      <td>3.3</td>\n",
       "      <td>0.6</td>\n",
       "      <td>0.218543</td>\n",
       "      <td>0.020833</td>\n",
       "      <td>0.153846</td>\n",
       "      <td>0.206897</td>\n",
       "      <td>0.521739</td>\n",
       "    </tr>\n",
       "  </tbody>\n",
       "</table>\n",
       "</div>"
      ],
      "text/plain": [
       "   Total_Bilirubin  Alkaline_Phosphotase  Alamine_Aminotransferase  \\\n",
       "0              0.8                   160                        34   \n",
       "1              2.9                   218                        33   \n",
       "2              0.7                   192                        18   \n",
       "3              0.5                   170                        21   \n",
       "4              0.6                   188                        28   \n",
       "\n",
       "   Aspartate_Aminotransferase  Albumin  Albumin_and_Globulin_Ratio  \\\n",
       "0                          20      3.7                         1.1   \n",
       "1                          37      1.5                         1.0   \n",
       "2                          15      4.2                         1.3   \n",
       "3                          28      2.5                         0.8   \n",
       "4                          43      3.3                         0.6   \n",
       "\n",
       "   Aspartate_Aminotransferase_scalled  Total_Bilirubin_scalled  \\\n",
       "0                            0.066225                 0.062500   \n",
       "1                            0.178808                 0.500000   \n",
       "2                            0.033113                 0.041667   \n",
       "3                            0.119205                 0.000000   \n",
       "4                            0.218543                 0.020833   \n",
       "\n",
       "   Albumin_and_Globulin_Ratio_scalled  Alamine_Aminotransferase_scalled  \\\n",
       "0                            0.538462                          0.275862   \n",
       "1                            0.461538                          0.264368   \n",
       "2                            0.692308                          0.091954   \n",
       "3                            0.307692                          0.126437   \n",
       "4                            0.153846                          0.206897   \n",
       "\n",
       "   Albumin_scalled  \n",
       "0         0.608696  \n",
       "1         0.130435  \n",
       "2         0.717391  \n",
       "3         0.347826  \n",
       "4         0.521739  "
      ]
     },
     "execution_count": 606,
     "metadata": {},
     "output_type": "execute_result"
    }
   ],
   "source": [
    "trasnformacao.X_test.head()"
   ]
  },
  {
   "cell_type": "code",
   "execution_count": 607,
   "metadata": {},
   "outputs": [],
   "source": [
    "#Eliminando variáveis originais\n",
    "trasnformacao.X_test.drop(escalonar, axis = 1, inplace=True)"
   ]
  },
  {
   "cell_type": "code",
   "execution_count": 608,
   "metadata": {},
   "outputs": [
    {
     "data": {
      "text/html": [
       "<div>\n",
       "<style scoped>\n",
       "    .dataframe tbody tr th:only-of-type {\n",
       "        vertical-align: middle;\n",
       "    }\n",
       "\n",
       "    .dataframe tbody tr th {\n",
       "        vertical-align: top;\n",
       "    }\n",
       "\n",
       "    .dataframe thead th {\n",
       "        text-align: right;\n",
       "    }\n",
       "</style>\n",
       "<table border=\"1\" class=\"dataframe\">\n",
       "  <thead>\n",
       "    <tr style=\"text-align: right;\">\n",
       "      <th></th>\n",
       "      <th>Alkaline_Phosphotase</th>\n",
       "      <th>Aspartate_Aminotransferase_scalled</th>\n",
       "      <th>Total_Bilirubin_scalled</th>\n",
       "      <th>Albumin_and_Globulin_Ratio_scalled</th>\n",
       "      <th>Alamine_Aminotransferase_scalled</th>\n",
       "      <th>Albumin_scalled</th>\n",
       "    </tr>\n",
       "  </thead>\n",
       "  <tbody>\n",
       "    <tr>\n",
       "      <th>0</th>\n",
       "      <td>160</td>\n",
       "      <td>0.066225</td>\n",
       "      <td>0.062500</td>\n",
       "      <td>0.538462</td>\n",
       "      <td>0.275862</td>\n",
       "      <td>0.608696</td>\n",
       "    </tr>\n",
       "    <tr>\n",
       "      <th>1</th>\n",
       "      <td>218</td>\n",
       "      <td>0.178808</td>\n",
       "      <td>0.500000</td>\n",
       "      <td>0.461538</td>\n",
       "      <td>0.264368</td>\n",
       "      <td>0.130435</td>\n",
       "    </tr>\n",
       "    <tr>\n",
       "      <th>2</th>\n",
       "      <td>192</td>\n",
       "      <td>0.033113</td>\n",
       "      <td>0.041667</td>\n",
       "      <td>0.692308</td>\n",
       "      <td>0.091954</td>\n",
       "      <td>0.717391</td>\n",
       "    </tr>\n",
       "    <tr>\n",
       "      <th>3</th>\n",
       "      <td>170</td>\n",
       "      <td>0.119205</td>\n",
       "      <td>0.000000</td>\n",
       "      <td>0.307692</td>\n",
       "      <td>0.126437</td>\n",
       "      <td>0.347826</td>\n",
       "    </tr>\n",
       "    <tr>\n",
       "      <th>4</th>\n",
       "      <td>188</td>\n",
       "      <td>0.218543</td>\n",
       "      <td>0.020833</td>\n",
       "      <td>0.153846</td>\n",
       "      <td>0.206897</td>\n",
       "      <td>0.521739</td>\n",
       "    </tr>\n",
       "  </tbody>\n",
       "</table>\n",
       "</div>"
      ],
      "text/plain": [
       "   Alkaline_Phosphotase  Aspartate_Aminotransferase_scalled  \\\n",
       "0                   160                            0.066225   \n",
       "1                   218                            0.178808   \n",
       "2                   192                            0.033113   \n",
       "3                   170                            0.119205   \n",
       "4                   188                            0.218543   \n",
       "\n",
       "   Total_Bilirubin_scalled  Albumin_and_Globulin_Ratio_scalled  \\\n",
       "0                 0.062500                            0.538462   \n",
       "1                 0.500000                            0.461538   \n",
       "2                 0.041667                            0.692308   \n",
       "3                 0.000000                            0.307692   \n",
       "4                 0.020833                            0.153846   \n",
       "\n",
       "   Alamine_Aminotransferase_scalled  Albumin_scalled  \n",
       "0                          0.275862         0.608696  \n",
       "1                          0.264368         0.130435  \n",
       "2                          0.091954         0.717391  \n",
       "3                          0.126437         0.347826  \n",
       "4                          0.206897         0.521739  "
      ]
     },
     "execution_count": 608,
     "metadata": {},
     "output_type": "execute_result"
    }
   ],
   "source": [
    "trasnformacao.X_test.head()"
   ]
  },
  {
   "cell_type": "code",
   "execution_count": 609,
   "metadata": {},
   "outputs": [
    {
     "data": {
      "text/plain": [
       "['Alkaline_Phosphotase']"
      ]
     },
     "execution_count": 609,
     "metadata": {},
     "output_type": "execute_result"
    }
   ],
   "source": [
    "# discretizando variáveis\n",
    "labels_discretizar"
   ]
  },
  {
   "cell_type": "code",
   "execution_count": 610,
   "metadata": {},
   "outputs": [],
   "source": [
    "#aplicando\n",
    "trasnformacao.discretizacao_teste(labels=labels_discretizar)"
   ]
  },
  {
   "cell_type": "code",
   "execution_count": 611,
   "metadata": {},
   "outputs": [
    {
     "data": {
      "text/html": [
       "<div>\n",
       "<style scoped>\n",
       "    .dataframe tbody tr th:only-of-type {\n",
       "        vertical-align: middle;\n",
       "    }\n",
       "\n",
       "    .dataframe tbody tr th {\n",
       "        vertical-align: top;\n",
       "    }\n",
       "\n",
       "    .dataframe thead th {\n",
       "        text-align: right;\n",
       "    }\n",
       "</style>\n",
       "<table border=\"1\" class=\"dataframe\">\n",
       "  <thead>\n",
       "    <tr style=\"text-align: right;\">\n",
       "      <th></th>\n",
       "      <th>Alkaline_Phosphotase</th>\n",
       "      <th>Aspartate_Aminotransferase_scalled</th>\n",
       "      <th>Total_Bilirubin_scalled</th>\n",
       "      <th>Albumin_and_Globulin_Ratio_scalled</th>\n",
       "      <th>Alamine_Aminotransferase_scalled</th>\n",
       "      <th>Albumin_scalled</th>\n",
       "      <th>Alkaline_Phosphotase_Intervalo</th>\n",
       "    </tr>\n",
       "  </thead>\n",
       "  <tbody>\n",
       "    <tr>\n",
       "      <th>0</th>\n",
       "      <td>160</td>\n",
       "      <td>0.066225</td>\n",
       "      <td>0.062500</td>\n",
       "      <td>0.538462</td>\n",
       "      <td>0.275862</td>\n",
       "      <td>0.608696</td>\n",
       "      <td>4</td>\n",
       "    </tr>\n",
       "    <tr>\n",
       "      <th>1</th>\n",
       "      <td>218</td>\n",
       "      <td>0.178808</td>\n",
       "      <td>0.500000</td>\n",
       "      <td>0.461538</td>\n",
       "      <td>0.264368</td>\n",
       "      <td>0.130435</td>\n",
       "      <td>7</td>\n",
       "    </tr>\n",
       "    <tr>\n",
       "      <th>2</th>\n",
       "      <td>192</td>\n",
       "      <td>0.033113</td>\n",
       "      <td>0.041667</td>\n",
       "      <td>0.692308</td>\n",
       "      <td>0.091954</td>\n",
       "      <td>0.717391</td>\n",
       "      <td>6</td>\n",
       "    </tr>\n",
       "    <tr>\n",
       "      <th>3</th>\n",
       "      <td>170</td>\n",
       "      <td>0.119205</td>\n",
       "      <td>0.000000</td>\n",
       "      <td>0.307692</td>\n",
       "      <td>0.126437</td>\n",
       "      <td>0.347826</td>\n",
       "      <td>5</td>\n",
       "    </tr>\n",
       "    <tr>\n",
       "      <th>4</th>\n",
       "      <td>188</td>\n",
       "      <td>0.218543</td>\n",
       "      <td>0.020833</td>\n",
       "      <td>0.153846</td>\n",
       "      <td>0.206897</td>\n",
       "      <td>0.521739</td>\n",
       "      <td>6</td>\n",
       "    </tr>\n",
       "  </tbody>\n",
       "</table>\n",
       "</div>"
      ],
      "text/plain": [
       "   Alkaline_Phosphotase  Aspartate_Aminotransferase_scalled  \\\n",
       "0                   160                            0.066225   \n",
       "1                   218                            0.178808   \n",
       "2                   192                            0.033113   \n",
       "3                   170                            0.119205   \n",
       "4                   188                            0.218543   \n",
       "\n",
       "   Total_Bilirubin_scalled  Albumin_and_Globulin_Ratio_scalled  \\\n",
       "0                 0.062500                            0.538462   \n",
       "1                 0.500000                            0.461538   \n",
       "2                 0.041667                            0.692308   \n",
       "3                 0.000000                            0.307692   \n",
       "4                 0.020833                            0.153846   \n",
       "\n",
       "   Alamine_Aminotransferase_scalled  Albumin_scalled  \\\n",
       "0                          0.275862         0.608696   \n",
       "1                          0.264368         0.130435   \n",
       "2                          0.091954         0.717391   \n",
       "3                          0.126437         0.347826   \n",
       "4                          0.206897         0.521739   \n",
       "\n",
       "  Alkaline_Phosphotase_Intervalo  \n",
       "0                              4  \n",
       "1                              7  \n",
       "2                              6  \n",
       "3                              5  \n",
       "4                              6  "
      ]
     },
     "execution_count": 611,
     "metadata": {},
     "output_type": "execute_result"
    }
   ],
   "source": [
    "#vesualizando variáveis de teste\n",
    "trasnformacao.X_test.head()"
   ]
  },
  {
   "cell_type": "code",
   "execution_count": 612,
   "metadata": {},
   "outputs": [],
   "source": [
    "#Eliminando variáveis originais\n",
    "trasnformacao.X_test.drop(labels_discretizar, axis = 1, inplace = True)"
   ]
  },
  {
   "cell_type": "code",
   "execution_count": 613,
   "metadata": {},
   "outputs": [
    {
     "data": {
      "text/html": [
       "<div>\n",
       "<style scoped>\n",
       "    .dataframe tbody tr th:only-of-type {\n",
       "        vertical-align: middle;\n",
       "    }\n",
       "\n",
       "    .dataframe tbody tr th {\n",
       "        vertical-align: top;\n",
       "    }\n",
       "\n",
       "    .dataframe thead th {\n",
       "        text-align: right;\n",
       "    }\n",
       "</style>\n",
       "<table border=\"1\" class=\"dataframe\">\n",
       "  <thead>\n",
       "    <tr style=\"text-align: right;\">\n",
       "      <th></th>\n",
       "      <th>Aspartate_Aminotransferase_scalled</th>\n",
       "      <th>Total_Bilirubin_scalled</th>\n",
       "      <th>Albumin_and_Globulin_Ratio_scalled</th>\n",
       "      <th>Alamine_Aminotransferase_scalled</th>\n",
       "      <th>Albumin_scalled</th>\n",
       "      <th>Alkaline_Phosphotase_Intervalo</th>\n",
       "    </tr>\n",
       "  </thead>\n",
       "  <tbody>\n",
       "    <tr>\n",
       "      <th>0</th>\n",
       "      <td>0.066225</td>\n",
       "      <td>0.062500</td>\n",
       "      <td>0.538462</td>\n",
       "      <td>0.275862</td>\n",
       "      <td>0.608696</td>\n",
       "      <td>4</td>\n",
       "    </tr>\n",
       "    <tr>\n",
       "      <th>1</th>\n",
       "      <td>0.178808</td>\n",
       "      <td>0.500000</td>\n",
       "      <td>0.461538</td>\n",
       "      <td>0.264368</td>\n",
       "      <td>0.130435</td>\n",
       "      <td>7</td>\n",
       "    </tr>\n",
       "    <tr>\n",
       "      <th>2</th>\n",
       "      <td>0.033113</td>\n",
       "      <td>0.041667</td>\n",
       "      <td>0.692308</td>\n",
       "      <td>0.091954</td>\n",
       "      <td>0.717391</td>\n",
       "      <td>6</td>\n",
       "    </tr>\n",
       "    <tr>\n",
       "      <th>3</th>\n",
       "      <td>0.119205</td>\n",
       "      <td>0.000000</td>\n",
       "      <td>0.307692</td>\n",
       "      <td>0.126437</td>\n",
       "      <td>0.347826</td>\n",
       "      <td>5</td>\n",
       "    </tr>\n",
       "    <tr>\n",
       "      <th>4</th>\n",
       "      <td>0.218543</td>\n",
       "      <td>0.020833</td>\n",
       "      <td>0.153846</td>\n",
       "      <td>0.206897</td>\n",
       "      <td>0.521739</td>\n",
       "      <td>6</td>\n",
       "    </tr>\n",
       "  </tbody>\n",
       "</table>\n",
       "</div>"
      ],
      "text/plain": [
       "   Aspartate_Aminotransferase_scalled  Total_Bilirubin_scalled  \\\n",
       "0                            0.066225                 0.062500   \n",
       "1                            0.178808                 0.500000   \n",
       "2                            0.033113                 0.041667   \n",
       "3                            0.119205                 0.000000   \n",
       "4                            0.218543                 0.020833   \n",
       "\n",
       "   Albumin_and_Globulin_Ratio_scalled  Alamine_Aminotransferase_scalled  \\\n",
       "0                            0.538462                          0.275862   \n",
       "1                            0.461538                          0.264368   \n",
       "2                            0.692308                          0.091954   \n",
       "3                            0.307692                          0.126437   \n",
       "4                            0.153846                          0.206897   \n",
       "\n",
       "   Albumin_scalled Alkaline_Phosphotase_Intervalo  \n",
       "0         0.608696                              4  \n",
       "1         0.130435                              7  \n",
       "2         0.717391                              6  \n",
       "3         0.347826                              5  \n",
       "4         0.521739                              6  "
      ]
     },
     "execution_count": 613,
     "metadata": {},
     "output_type": "execute_result"
    }
   ],
   "source": [
    "trasnformacao.X_test.head()"
   ]
  },
  {
   "cell_type": "code",
   "execution_count": 614,
   "metadata": {},
   "outputs": [
    {
     "data": {
      "text/html": [
       "<div>\n",
       "<style scoped>\n",
       "    .dataframe tbody tr th:only-of-type {\n",
       "        vertical-align: middle;\n",
       "    }\n",
       "\n",
       "    .dataframe tbody tr th {\n",
       "        vertical-align: top;\n",
       "    }\n",
       "\n",
       "    .dataframe thead th {\n",
       "        text-align: right;\n",
       "    }\n",
       "</style>\n",
       "<table border=\"1\" class=\"dataframe\">\n",
       "  <thead>\n",
       "    <tr style=\"text-align: right;\">\n",
       "      <th></th>\n",
       "      <th>target</th>\n",
       "    </tr>\n",
       "  </thead>\n",
       "  <tbody>\n",
       "    <tr>\n",
       "      <th>0</th>\n",
       "      <td>1</td>\n",
       "    </tr>\n",
       "    <tr>\n",
       "      <th>1</th>\n",
       "      <td>1</td>\n",
       "    </tr>\n",
       "    <tr>\n",
       "      <th>2</th>\n",
       "      <td>0</td>\n",
       "    </tr>\n",
       "    <tr>\n",
       "      <th>3</th>\n",
       "      <td>1</td>\n",
       "    </tr>\n",
       "    <tr>\n",
       "      <th>4</th>\n",
       "      <td>1</td>\n",
       "    </tr>\n",
       "    <tr>\n",
       "      <th>...</th>\n",
       "      <td>...</td>\n",
       "    </tr>\n",
       "    <tr>\n",
       "      <th>94</th>\n",
       "      <td>0</td>\n",
       "    </tr>\n",
       "    <tr>\n",
       "      <th>95</th>\n",
       "      <td>1</td>\n",
       "    </tr>\n",
       "    <tr>\n",
       "      <th>96</th>\n",
       "      <td>1</td>\n",
       "    </tr>\n",
       "    <tr>\n",
       "      <th>97</th>\n",
       "      <td>1</td>\n",
       "    </tr>\n",
       "    <tr>\n",
       "      <th>98</th>\n",
       "      <td>1</td>\n",
       "    </tr>\n",
       "  </tbody>\n",
       "</table>\n",
       "<p>99 rows × 1 columns</p>\n",
       "</div>"
      ],
      "text/plain": [
       "    target\n",
       "0        1\n",
       "1        1\n",
       "2        0\n",
       "3        1\n",
       "4        1\n",
       "..     ...\n",
       "94       0\n",
       "95       1\n",
       "96       1\n",
       "97       1\n",
       "98       1\n",
       "\n",
       "[99 rows x 1 columns]"
      ]
     },
     "execution_count": 614,
     "metadata": {},
     "output_type": "execute_result"
    }
   ],
   "source": [
    "trasnformacao.y_test"
   ]
  },
  {
   "cell_type": "markdown",
   "metadata": {},
   "source": [
    "**Toda base de dados está pronta para ser treinada por algoritmos de ML**"
   ]
  },
  {
   "cell_type": "markdown",
   "metadata": {
    "id": "ZQrWs1KAofqE"
   },
   "source": [
    "## Escolha do algoritmo"
   ]
  },
  {
   "cell_type": "markdown",
   "metadata": {
    "id": "sfvNxIWCoha1"
   },
   "source": [
    "Conforme defino do escopo do projeto, temos um problema de classificação binária (0, 1), por isso, utilizaremos algoritmos de aprendizagem supervisionada, para classificação.\n",
    "\n",
    "Como benchmark utilizaremos o algoritmo de Regressão logística."
   ]
  },
  {
   "cell_type": "code",
   "execution_count": 694,
   "metadata": {},
   "outputs": [],
   "source": [
    "#DF para salvar métricas\n",
    "metricas = pd.DataFrame()"
   ]
  },
  {
   "cell_type": "markdown",
   "metadata": {
    "id": "gY-4psNWoiZO"
   },
   "source": [
    "## Treinamento"
   ]
  },
  {
   "cell_type": "markdown",
   "metadata": {},
   "source": [
    "**1 - Regressão Logística**"
   ]
  },
  {
   "cell_type": "code",
   "execution_count": 617,
   "metadata": {
    "id": "s9P9L9gCohx5"
   },
   "outputs": [],
   "source": [
    "# Definição de hiperparâmetros\n",
    "hiperparams_v1 = {\"C\":[0.0001, 0.001, 0.01, 0.1, 1, 10, 100, 1000, 10000],\n",
    "                  \"penalty\": ['l1', 'l2']\n",
    "                  }"
   ]
  },
  {
   "cell_type": "code",
   "execution_count": 618,
   "metadata": {},
   "outputs": [],
   "source": [
    "# Instanciando gridsearch\n",
    "modelo_v1 = GridSearchCV(estimator = LogisticRegression(),\n",
    "                        param_grid = hiperparams_v1,\n",
    "                        scoring = 'roc_auc',\n",
    "                        n_jobs = -1)"
   ]
  },
  {
   "cell_type": "code",
   "execution_count": 619,
   "metadata": {},
   "outputs": [
    {
     "name": "stdout",
     "output_type": "stream",
     "text": [
      "Aspartate_Aminotransferase_scalled    False\n",
      "Total_Bilirubin_scalled               False\n",
      "Albumin_and_Globulin_Ratio_scalled    False\n",
      "Alamine_Aminotransferase_scalled      False\n",
      "Albumin_scalled                       False\n",
      "Alkaline_Phosphotase_Intervalo        False\n",
      "dtype: bool\n",
      "__________________________________________________\n",
      "target    False\n",
      "dtype: bool\n"
     ]
    }
   ],
   "source": [
    "print(trasnformacao.X_train.isna().any())\n",
    "print(\"_\"*50)\n",
    "print(trasnformacao.y_train.isna().any())"
   ]
  },
  {
   "cell_type": "code",
   "execution_count": 620,
   "metadata": {},
   "outputs": [
    {
     "data": {
      "text/html": [
       "<style>#sk-container-id-3 {color: black;}#sk-container-id-3 pre{padding: 0;}#sk-container-id-3 div.sk-toggleable {background-color: white;}#sk-container-id-3 label.sk-toggleable__label {cursor: pointer;display: block;width: 100%;margin-bottom: 0;padding: 0.3em;box-sizing: border-box;text-align: center;}#sk-container-id-3 label.sk-toggleable__label-arrow:before {content: \"▸\";float: left;margin-right: 0.25em;color: #696969;}#sk-container-id-3 label.sk-toggleable__label-arrow:hover:before {color: black;}#sk-container-id-3 div.sk-estimator:hover label.sk-toggleable__label-arrow:before {color: black;}#sk-container-id-3 div.sk-toggleable__content {max-height: 0;max-width: 0;overflow: hidden;text-align: left;background-color: #f0f8ff;}#sk-container-id-3 div.sk-toggleable__content pre {margin: 0.2em;color: black;border-radius: 0.25em;background-color: #f0f8ff;}#sk-container-id-3 input.sk-toggleable__control:checked~div.sk-toggleable__content {max-height: 200px;max-width: 100%;overflow: auto;}#sk-container-id-3 input.sk-toggleable__control:checked~label.sk-toggleable__label-arrow:before {content: \"▾\";}#sk-container-id-3 div.sk-estimator input.sk-toggleable__control:checked~label.sk-toggleable__label {background-color: #d4ebff;}#sk-container-id-3 div.sk-label input.sk-toggleable__control:checked~label.sk-toggleable__label {background-color: #d4ebff;}#sk-container-id-3 input.sk-hidden--visually {border: 0;clip: rect(1px 1px 1px 1px);clip: rect(1px, 1px, 1px, 1px);height: 1px;margin: -1px;overflow: hidden;padding: 0;position: absolute;width: 1px;}#sk-container-id-3 div.sk-estimator {font-family: monospace;background-color: #f0f8ff;border: 1px dotted black;border-radius: 0.25em;box-sizing: border-box;margin-bottom: 0.5em;}#sk-container-id-3 div.sk-estimator:hover {background-color: #d4ebff;}#sk-container-id-3 div.sk-parallel-item::after {content: \"\";width: 100%;border-bottom: 1px solid gray;flex-grow: 1;}#sk-container-id-3 div.sk-label:hover label.sk-toggleable__label {background-color: #d4ebff;}#sk-container-id-3 div.sk-serial::before {content: \"\";position: absolute;border-left: 1px solid gray;box-sizing: border-box;top: 0;bottom: 0;left: 50%;z-index: 0;}#sk-container-id-3 div.sk-serial {display: flex;flex-direction: column;align-items: center;background-color: white;padding-right: 0.2em;padding-left: 0.2em;position: relative;}#sk-container-id-3 div.sk-item {position: relative;z-index: 1;}#sk-container-id-3 div.sk-parallel {display: flex;align-items: stretch;justify-content: center;background-color: white;position: relative;}#sk-container-id-3 div.sk-item::before, #sk-container-id-3 div.sk-parallel-item::before {content: \"\";position: absolute;border-left: 1px solid gray;box-sizing: border-box;top: 0;bottom: 0;left: 50%;z-index: -1;}#sk-container-id-3 div.sk-parallel-item {display: flex;flex-direction: column;z-index: 1;position: relative;background-color: white;}#sk-container-id-3 div.sk-parallel-item:first-child::after {align-self: flex-end;width: 50%;}#sk-container-id-3 div.sk-parallel-item:last-child::after {align-self: flex-start;width: 50%;}#sk-container-id-3 div.sk-parallel-item:only-child::after {width: 0;}#sk-container-id-3 div.sk-dashed-wrapped {border: 1px dashed gray;margin: 0 0.4em 0.5em 0.4em;box-sizing: border-box;padding-bottom: 0.4em;background-color: white;}#sk-container-id-3 div.sk-label label {font-family: monospace;font-weight: bold;display: inline-block;line-height: 1.2em;}#sk-container-id-3 div.sk-label-container {text-align: center;}#sk-container-id-3 div.sk-container {/* jupyter's `normalize.less` sets `[hidden] { display: none; }` but bootstrap.min.css set `[hidden] { display: none !important; }` so we also need the `!important` here to be able to override the default hidden behavior on the sphinx rendered scikit-learn.org. See: https://github.com/scikit-learn/scikit-learn/issues/21755 */display: inline-block !important;position: relative;}#sk-container-id-3 div.sk-text-repr-fallback {display: none;}</style><div id=\"sk-container-id-3\" class=\"sk-top-container\"><div class=\"sk-text-repr-fallback\"><pre>GridSearchCV(estimator=LogisticRegression(), n_jobs=-1,\n",
       "             param_grid={&#x27;C&#x27;: [0.0001, 0.001, 0.01, 0.1, 1, 10, 100, 1000,\n",
       "                               10000],\n",
       "                         &#x27;penalty&#x27;: [&#x27;l1&#x27;, &#x27;l2&#x27;]},\n",
       "             scoring=&#x27;roc_auc&#x27;)</pre><b>In a Jupyter environment, please rerun this cell to show the HTML representation or trust the notebook. <br />On GitHub, the HTML representation is unable to render, please try loading this page with nbviewer.org.</b></div><div class=\"sk-container\" hidden><div class=\"sk-item sk-dashed-wrapped\"><div class=\"sk-label-container\"><div class=\"sk-label sk-toggleable\"><input class=\"sk-toggleable__control sk-hidden--visually\" id=\"sk-estimator-id-5\" type=\"checkbox\" ><label for=\"sk-estimator-id-5\" class=\"sk-toggleable__label sk-toggleable__label-arrow\">GridSearchCV</label><div class=\"sk-toggleable__content\"><pre>GridSearchCV(estimator=LogisticRegression(), n_jobs=-1,\n",
       "             param_grid={&#x27;C&#x27;: [0.0001, 0.001, 0.01, 0.1, 1, 10, 100, 1000,\n",
       "                               10000],\n",
       "                         &#x27;penalty&#x27;: [&#x27;l1&#x27;, &#x27;l2&#x27;]},\n",
       "             scoring=&#x27;roc_auc&#x27;)</pre></div></div></div><div class=\"sk-parallel\"><div class=\"sk-parallel-item\"><div class=\"sk-item\"><div class=\"sk-label-container\"><div class=\"sk-label sk-toggleable\"><input class=\"sk-toggleable__control sk-hidden--visually\" id=\"sk-estimator-id-6\" type=\"checkbox\" ><label for=\"sk-estimator-id-6\" class=\"sk-toggleable__label sk-toggleable__label-arrow\">estimator: LogisticRegression</label><div class=\"sk-toggleable__content\"><pre>LogisticRegression()</pre></div></div></div><div class=\"sk-serial\"><div class=\"sk-item\"><div class=\"sk-estimator sk-toggleable\"><input class=\"sk-toggleable__control sk-hidden--visually\" id=\"sk-estimator-id-7\" type=\"checkbox\" ><label for=\"sk-estimator-id-7\" class=\"sk-toggleable__label sk-toggleable__label-arrow\">LogisticRegression</label><div class=\"sk-toggleable__content\"><pre>LogisticRegression()</pre></div></div></div></div></div></div></div></div></div></div>"
      ],
      "text/plain": [
       "GridSearchCV(estimator=LogisticRegression(), n_jobs=-1,\n",
       "             param_grid={'C': [0.0001, 0.001, 0.01, 0.1, 1, 10, 100, 1000,\n",
       "                               10000],\n",
       "                         'penalty': ['l1', 'l2']},\n",
       "             scoring='roc_auc')"
      ]
     },
     "execution_count": 620,
     "metadata": {},
     "output_type": "execute_result"
    }
   ],
   "source": [
    "# fit - dados de treinamento\n",
    "modelo_v1.fit(trasnformacao.X_train, trasnformacao.y_train)\n"
   ]
  },
  {
   "cell_type": "code",
   "execution_count": 621,
   "metadata": {},
   "outputs": [
    {
     "data": {
      "text/html": [
       "<style>#sk-container-id-4 {color: black;}#sk-container-id-4 pre{padding: 0;}#sk-container-id-4 div.sk-toggleable {background-color: white;}#sk-container-id-4 label.sk-toggleable__label {cursor: pointer;display: block;width: 100%;margin-bottom: 0;padding: 0.3em;box-sizing: border-box;text-align: center;}#sk-container-id-4 label.sk-toggleable__label-arrow:before {content: \"▸\";float: left;margin-right: 0.25em;color: #696969;}#sk-container-id-4 label.sk-toggleable__label-arrow:hover:before {color: black;}#sk-container-id-4 div.sk-estimator:hover label.sk-toggleable__label-arrow:before {color: black;}#sk-container-id-4 div.sk-toggleable__content {max-height: 0;max-width: 0;overflow: hidden;text-align: left;background-color: #f0f8ff;}#sk-container-id-4 div.sk-toggleable__content pre {margin: 0.2em;color: black;border-radius: 0.25em;background-color: #f0f8ff;}#sk-container-id-4 input.sk-toggleable__control:checked~div.sk-toggleable__content {max-height: 200px;max-width: 100%;overflow: auto;}#sk-container-id-4 input.sk-toggleable__control:checked~label.sk-toggleable__label-arrow:before {content: \"▾\";}#sk-container-id-4 div.sk-estimator input.sk-toggleable__control:checked~label.sk-toggleable__label {background-color: #d4ebff;}#sk-container-id-4 div.sk-label input.sk-toggleable__control:checked~label.sk-toggleable__label {background-color: #d4ebff;}#sk-container-id-4 input.sk-hidden--visually {border: 0;clip: rect(1px 1px 1px 1px);clip: rect(1px, 1px, 1px, 1px);height: 1px;margin: -1px;overflow: hidden;padding: 0;position: absolute;width: 1px;}#sk-container-id-4 div.sk-estimator {font-family: monospace;background-color: #f0f8ff;border: 1px dotted black;border-radius: 0.25em;box-sizing: border-box;margin-bottom: 0.5em;}#sk-container-id-4 div.sk-estimator:hover {background-color: #d4ebff;}#sk-container-id-4 div.sk-parallel-item::after {content: \"\";width: 100%;border-bottom: 1px solid gray;flex-grow: 1;}#sk-container-id-4 div.sk-label:hover label.sk-toggleable__label {background-color: #d4ebff;}#sk-container-id-4 div.sk-serial::before {content: \"\";position: absolute;border-left: 1px solid gray;box-sizing: border-box;top: 0;bottom: 0;left: 50%;z-index: 0;}#sk-container-id-4 div.sk-serial {display: flex;flex-direction: column;align-items: center;background-color: white;padding-right: 0.2em;padding-left: 0.2em;position: relative;}#sk-container-id-4 div.sk-item {position: relative;z-index: 1;}#sk-container-id-4 div.sk-parallel {display: flex;align-items: stretch;justify-content: center;background-color: white;position: relative;}#sk-container-id-4 div.sk-item::before, #sk-container-id-4 div.sk-parallel-item::before {content: \"\";position: absolute;border-left: 1px solid gray;box-sizing: border-box;top: 0;bottom: 0;left: 50%;z-index: -1;}#sk-container-id-4 div.sk-parallel-item {display: flex;flex-direction: column;z-index: 1;position: relative;background-color: white;}#sk-container-id-4 div.sk-parallel-item:first-child::after {align-self: flex-end;width: 50%;}#sk-container-id-4 div.sk-parallel-item:last-child::after {align-self: flex-start;width: 50%;}#sk-container-id-4 div.sk-parallel-item:only-child::after {width: 0;}#sk-container-id-4 div.sk-dashed-wrapped {border: 1px dashed gray;margin: 0 0.4em 0.5em 0.4em;box-sizing: border-box;padding-bottom: 0.4em;background-color: white;}#sk-container-id-4 div.sk-label label {font-family: monospace;font-weight: bold;display: inline-block;line-height: 1.2em;}#sk-container-id-4 div.sk-label-container {text-align: center;}#sk-container-id-4 div.sk-container {/* jupyter's `normalize.less` sets `[hidden] { display: none; }` but bootstrap.min.css set `[hidden] { display: none !important; }` so we also need the `!important` here to be able to override the default hidden behavior on the sphinx rendered scikit-learn.org. See: https://github.com/scikit-learn/scikit-learn/issues/21755 */display: inline-block !important;position: relative;}#sk-container-id-4 div.sk-text-repr-fallback {display: none;}</style><div id=\"sk-container-id-4\" class=\"sk-top-container\"><div class=\"sk-text-repr-fallback\"><pre>LogisticRegression(C=1)</pre><b>In a Jupyter environment, please rerun this cell to show the HTML representation or trust the notebook. <br />On GitHub, the HTML representation is unable to render, please try loading this page with nbviewer.org.</b></div><div class=\"sk-container\" hidden><div class=\"sk-item\"><div class=\"sk-estimator sk-toggleable\"><input class=\"sk-toggleable__control sk-hidden--visually\" id=\"sk-estimator-id-8\" type=\"checkbox\" checked><label for=\"sk-estimator-id-8\" class=\"sk-toggleable__label sk-toggleable__label-arrow\">LogisticRegression</label><div class=\"sk-toggleable__content\"><pre>LogisticRegression(C=1)</pre></div></div></div></div></div>"
      ],
      "text/plain": [
       "LogisticRegression(C=1)"
      ]
     },
     "execution_count": 621,
     "metadata": {},
     "output_type": "execute_result"
    }
   ],
   "source": [
    "# visualizando estimador\n",
    "modelo_v1.best_estimator_"
   ]
  },
  {
   "cell_type": "code",
   "execution_count": 622,
   "metadata": {},
   "outputs": [],
   "source": [
    "# aplicando aos dados de teste\n",
    "y_pred_v1 = modelo_v1.predict(trasnformacao.X_test)"
   ]
  },
  {
   "cell_type": "code",
   "execution_count": 623,
   "metadata": {},
   "outputs": [
    {
     "data": {
      "text/plain": [
       "array([0, 1, 0, 0, 0, 0, 1, 0, 0, 1])"
      ]
     },
     "execution_count": 623,
     "metadata": {},
     "output_type": "execute_result"
    }
   ],
   "source": [
    "# vesualizando as transformações\n",
    "y_pred_v1[:10]"
   ]
  },
  {
   "cell_type": "code",
   "execution_count": 624,
   "metadata": {},
   "outputs": [],
   "source": [
    "# extraindo probabilidades de previsão de classe 1\n",
    "y_pred_v1_prob = modelo_v1.predict_proba(trasnformacao.X_test)[:, 1]"
   ]
  },
  {
   "cell_type": "code",
   "execution_count": 625,
   "metadata": {},
   "outputs": [
    {
     "name": "stdout",
     "output_type": "stream",
     "text": [
      "Para o ponto 50, o valor real é 1, e a previsão foi de 0, com probabilidade de 0.3404096311714729\n",
      "Para o ponto 51, o valor real é 1, e a previsão foi de 0, com probabilidade de 0.486154398133032\n",
      "Para o ponto 52, o valor real é 0, e a previsão foi de 0, com probabilidade de 0.4708179134198059\n",
      "Para o ponto 53, o valor real é 0, e a previsão foi de 1, com probabilidade de 0.5931119370011652\n",
      "Para o ponto 54, o valor real é 1, e a previsão foi de 1, com probabilidade de 0.6010362350931051\n",
      "Para o ponto 55, o valor real é 0, e a previsão foi de 0, com probabilidade de 0.4096575891962182\n",
      "Para o ponto 56, o valor real é 1, e a previsão foi de 1, com probabilidade de 0.6104505029567575\n",
      "Para o ponto 57, o valor real é 0, e a previsão foi de 1, com probabilidade de 0.5720861441986136\n",
      "Para o ponto 58, o valor real é 0, e a previsão foi de 0, com probabilidade de 0.3477262045360241\n",
      "Para o ponto 59, o valor real é 0, e a previsão foi de 0, com probabilidade de 0.29955724419921503\n"
     ]
    }
   ],
   "source": [
    "# Como exemplo, verificando um dos pontos\n",
    "index = range(50,60)\n",
    "for i in index:\n",
    "    print(f'Para o ponto {i}, o valor real é {trasnformacao.y_test.iloc[i][0]}, e a previsão foi de {y_pred_v1[i]}, com probabilidade de {y_pred_v1_prob[i]}')\n",
    "    "
   ]
  },
  {
   "cell_type": "code",
   "execution_count": 626,
   "metadata": {},
   "outputs": [
    {
     "data": {
      "text/plain": [
       "array([[27, 11],\n",
       "       [42, 19]], dtype=int64)"
      ]
     },
     "execution_count": 626,
     "metadata": {},
     "output_type": "execute_result"
    }
   ],
   "source": [
    "# calulando matrix de confusão\n",
    "confusion_matrix(trasnformacao.y_test, y_pred_v1)"
   ]
  },
  {
   "cell_type": "code",
   "execution_count": 627,
   "metadata": {},
   "outputs": [],
   "source": [
    "# calculando métricas\n",
    "    #roc_auc\n",
    "    #curva_roc/auc\n",
    "    #acuracia"
   ]
  },
  {
   "cell_type": "code",
   "execution_count": 628,
   "metadata": {},
   "outputs": [
    {
     "data": {
      "text/plain": [
       "0.5110008628127697"
      ]
     },
     "execution_count": 628,
     "metadata": {},
     "output_type": "execute_result"
    }
   ],
   "source": [
    "# roc_auc\n",
    "roc_auc_v1 = roc_auc_score(trasnformacao.y_test, y_pred_v1)\n",
    "roc_auc_v1"
   ]
  },
  {
   "cell_type": "code",
   "execution_count": 629,
   "metadata": {},
   "outputs": [
    {
     "data": {
      "text/plain": [
       "0.5966350301984469"
      ]
     },
     "execution_count": 629,
     "metadata": {},
     "output_type": "execute_result"
    }
   ],
   "source": [
    "#auc\n",
    "fpr_v1, tpr_v1, thresholds_v1 = roc_curve(trasnformacao.y_test, y_pred_v1_prob)\n",
    "auc_v1 = auc(fpr_v1, tpr_v1)\n",
    "auc_v1"
   ]
  },
  {
   "cell_type": "code",
   "execution_count": 630,
   "metadata": {},
   "outputs": [
    {
     "data": {
      "text/plain": [
       "0.46464646464646464"
      ]
     },
     "execution_count": 630,
     "metadata": {},
     "output_type": "execute_result"
    }
   ],
   "source": [
    "#accuracia\n",
    "acuracia_v1 = accuracy_score(trasnformacao.y_test, y_pred_v1)\n",
    "acuracia_v1"
   ]
  },
  {
   "cell_type": "markdown",
   "metadata": {},
   "source": [
    "**Observando ordem de importância das variáveis**"
   ]
  },
  {
   "cell_type": "code",
   "execution_count": 632,
   "metadata": {},
   "outputs": [],
   "source": [
    "# treinando modelo de LR com melhor parâmetro\n",
    "modelo_v1 = LogisticRegression(C=1)\n",
    "modelo_v1.fit(trasnformacao.X_train, trasnformacao.y_train)\n",
    "y_pred_v1 = modelo_v1.predict(trasnformacao.X_test)"
   ]
  },
  {
   "cell_type": "code",
   "execution_count": 649,
   "metadata": {},
   "outputs": [],
   "source": [
    "# extraindo variáveis\n",
    "indices = np.argsort(-abs(modelo_v1.coef_[0, :]))"
   ]
  },
  {
   "cell_type": "code",
   "execution_count": 650,
   "metadata": {},
   "outputs": [
    {
     "name": "stdout",
     "output_type": "stream",
     "text": [
      "Variáveis importantes\n",
      "--------------------------------------------------\n",
      "Total_Bilirubin_scalled\n",
      "Alamine_Aminotransferase_scalled\n",
      "Aspartate_Aminotransferase_scalled\n",
      "Albumin_and_Globulin_Ratio_scalled\n",
      "Albumin_scalled\n",
      "Alkaline_Phosphotase_Intervalo\n"
     ]
    }
   ],
   "source": [
    "# visualizando\n",
    "print(\"Variáveis importantes\")\n",
    "print(\"-\"*50)\n",
    "for var in indices:\n",
    "    print(trasnformacao.X_train.columns[var])\n",
    "    "
   ]
  },
  {
   "cell_type": "markdown",
   "metadata": {},
   "source": [
    "**Interpretação**"
   ]
  },
  {
   "cell_type": "code",
   "execution_count": 695,
   "metadata": {},
   "outputs": [],
   "source": [
    "dict_v1 = {\n",
    "    \"Nome\":\"Modelo_v1\",\n",
    "    \"Algoritmo\":\"Logistic Regression\",\n",
    "    \"ROC_AUC\":roc_auc_v1,\n",
    "    \"AUC\":auc_v1,\n",
    "    \"ACURACIA\":acuracia_v1\n",
    "}"
   ]
  },
  {
   "cell_type": "code",
   "execution_count": 696,
   "metadata": {},
   "outputs": [],
   "source": [
    "metricas = metricas.append(dict_v1, ignore_index = True)"
   ]
  },
  {
   "cell_type": "code",
   "execution_count": 697,
   "metadata": {},
   "outputs": [
    {
     "data": {
      "text/html": [
       "<div>\n",
       "<style scoped>\n",
       "    .dataframe tbody tr th:only-of-type {\n",
       "        vertical-align: middle;\n",
       "    }\n",
       "\n",
       "    .dataframe tbody tr th {\n",
       "        vertical-align: top;\n",
       "    }\n",
       "\n",
       "    .dataframe thead th {\n",
       "        text-align: right;\n",
       "    }\n",
       "</style>\n",
       "<table border=\"1\" class=\"dataframe\">\n",
       "  <thead>\n",
       "    <tr style=\"text-align: right;\">\n",
       "      <th></th>\n",
       "      <th>Nome</th>\n",
       "      <th>Algoritmo</th>\n",
       "      <th>ROC_AUC</th>\n",
       "      <th>AUC</th>\n",
       "      <th>ACURACIA</th>\n",
       "    </tr>\n",
       "  </thead>\n",
       "  <tbody>\n",
       "    <tr>\n",
       "      <th>0</th>\n",
       "      <td>Modelo_v1</td>\n",
       "      <td>Logistic Regression</td>\n",
       "      <td>0.511001</td>\n",
       "      <td>0.596635</td>\n",
       "      <td>0.464646</td>\n",
       "    </tr>\n",
       "  </tbody>\n",
       "</table>\n",
       "</div>"
      ],
      "text/plain": [
       "        Nome            Algoritmo   ROC_AUC       AUC  ACURACIA\n",
       "0  Modelo_v1  Logistic Regression  0.511001  0.596635  0.464646"
      ]
     },
     "execution_count": 697,
     "metadata": {},
     "output_type": "execute_result"
    }
   ],
   "source": [
    "metricas"
   ]
  },
  {
   "cell_type": "code",
   "execution_count": 665,
   "metadata": {},
   "outputs": [],
   "source": [
    "#salvando modelo\n",
    "with open(file='modelo_v1.pkl', mode='wb'):\n",
    "    joblib.dump(modelo_v1, 'modelo_v1.pkl')"
   ]
  },
  {
   "cell_type": "markdown",
   "metadata": {},
   "source": [
    "**1 - Random Forest**"
   ]
  },
  {
   "cell_type": "code",
   "execution_count": 666,
   "metadata": {},
   "outputs": [],
   "source": [
    "# Definição de hiperparmetros\n",
    "hiperparams_v2 = {\n",
    "    \n",
    "    \"n_estimators\":[100, 200, 300, 400, 500],\n",
    "    \"min_samples_split\":[2,5,10],\n",
    "    \"min_samples_leaf\":[1,2,4]\n",
    "}"
   ]
  },
  {
   "cell_type": "code",
   "execution_count": 671,
   "metadata": {},
   "outputs": [],
   "source": [
    "#Instanciando GridSearch\n",
    "modelo_v2 = RandomizedSearchCV(estimator = RandomForestClassifier(),\n",
    "                        param_distributions = hiperparams_v2,\n",
    "                        n_jobs = -1,\n",
    "                        scoring = 'roc_auc',\n",
    "                        n_iter = 15)"
   ]
  },
  {
   "cell_type": "code",
   "execution_count": 672,
   "metadata": {},
   "outputs": [
    {
     "data": {
      "text/html": [
       "<style>#sk-container-id-7 {color: black;}#sk-container-id-7 pre{padding: 0;}#sk-container-id-7 div.sk-toggleable {background-color: white;}#sk-container-id-7 label.sk-toggleable__label {cursor: pointer;display: block;width: 100%;margin-bottom: 0;padding: 0.3em;box-sizing: border-box;text-align: center;}#sk-container-id-7 label.sk-toggleable__label-arrow:before {content: \"▸\";float: left;margin-right: 0.25em;color: #696969;}#sk-container-id-7 label.sk-toggleable__label-arrow:hover:before {color: black;}#sk-container-id-7 div.sk-estimator:hover label.sk-toggleable__label-arrow:before {color: black;}#sk-container-id-7 div.sk-toggleable__content {max-height: 0;max-width: 0;overflow: hidden;text-align: left;background-color: #f0f8ff;}#sk-container-id-7 div.sk-toggleable__content pre {margin: 0.2em;color: black;border-radius: 0.25em;background-color: #f0f8ff;}#sk-container-id-7 input.sk-toggleable__control:checked~div.sk-toggleable__content {max-height: 200px;max-width: 100%;overflow: auto;}#sk-container-id-7 input.sk-toggleable__control:checked~label.sk-toggleable__label-arrow:before {content: \"▾\";}#sk-container-id-7 div.sk-estimator input.sk-toggleable__control:checked~label.sk-toggleable__label {background-color: #d4ebff;}#sk-container-id-7 div.sk-label input.sk-toggleable__control:checked~label.sk-toggleable__label {background-color: #d4ebff;}#sk-container-id-7 input.sk-hidden--visually {border: 0;clip: rect(1px 1px 1px 1px);clip: rect(1px, 1px, 1px, 1px);height: 1px;margin: -1px;overflow: hidden;padding: 0;position: absolute;width: 1px;}#sk-container-id-7 div.sk-estimator {font-family: monospace;background-color: #f0f8ff;border: 1px dotted black;border-radius: 0.25em;box-sizing: border-box;margin-bottom: 0.5em;}#sk-container-id-7 div.sk-estimator:hover {background-color: #d4ebff;}#sk-container-id-7 div.sk-parallel-item::after {content: \"\";width: 100%;border-bottom: 1px solid gray;flex-grow: 1;}#sk-container-id-7 div.sk-label:hover label.sk-toggleable__label {background-color: #d4ebff;}#sk-container-id-7 div.sk-serial::before {content: \"\";position: absolute;border-left: 1px solid gray;box-sizing: border-box;top: 0;bottom: 0;left: 50%;z-index: 0;}#sk-container-id-7 div.sk-serial {display: flex;flex-direction: column;align-items: center;background-color: white;padding-right: 0.2em;padding-left: 0.2em;position: relative;}#sk-container-id-7 div.sk-item {position: relative;z-index: 1;}#sk-container-id-7 div.sk-parallel {display: flex;align-items: stretch;justify-content: center;background-color: white;position: relative;}#sk-container-id-7 div.sk-item::before, #sk-container-id-7 div.sk-parallel-item::before {content: \"\";position: absolute;border-left: 1px solid gray;box-sizing: border-box;top: 0;bottom: 0;left: 50%;z-index: -1;}#sk-container-id-7 div.sk-parallel-item {display: flex;flex-direction: column;z-index: 1;position: relative;background-color: white;}#sk-container-id-7 div.sk-parallel-item:first-child::after {align-self: flex-end;width: 50%;}#sk-container-id-7 div.sk-parallel-item:last-child::after {align-self: flex-start;width: 50%;}#sk-container-id-7 div.sk-parallel-item:only-child::after {width: 0;}#sk-container-id-7 div.sk-dashed-wrapped {border: 1px dashed gray;margin: 0 0.4em 0.5em 0.4em;box-sizing: border-box;padding-bottom: 0.4em;background-color: white;}#sk-container-id-7 div.sk-label label {font-family: monospace;font-weight: bold;display: inline-block;line-height: 1.2em;}#sk-container-id-7 div.sk-label-container {text-align: center;}#sk-container-id-7 div.sk-container {/* jupyter's `normalize.less` sets `[hidden] { display: none; }` but bootstrap.min.css set `[hidden] { display: none !important; }` so we also need the `!important` here to be able to override the default hidden behavior on the sphinx rendered scikit-learn.org. See: https://github.com/scikit-learn/scikit-learn/issues/21755 */display: inline-block !important;position: relative;}#sk-container-id-7 div.sk-text-repr-fallback {display: none;}</style><div id=\"sk-container-id-7\" class=\"sk-top-container\"><div class=\"sk-text-repr-fallback\"><pre>RandomizedSearchCV(estimator=RandomForestClassifier(), n_iter=15, n_jobs=-1,\n",
       "                   param_distributions={&#x27;min_samples_leaf&#x27;: [1, 2, 4],\n",
       "                                        &#x27;min_samples_split&#x27;: [2, 5, 10],\n",
       "                                        &#x27;n_estimators&#x27;: [100, 200, 300, 400,\n",
       "                                                         500]},\n",
       "                   scoring=&#x27;roc_auc&#x27;)</pre><b>In a Jupyter environment, please rerun this cell to show the HTML representation or trust the notebook. <br />On GitHub, the HTML representation is unable to render, please try loading this page with nbviewer.org.</b></div><div class=\"sk-container\" hidden><div class=\"sk-item sk-dashed-wrapped\"><div class=\"sk-label-container\"><div class=\"sk-label sk-toggleable\"><input class=\"sk-toggleable__control sk-hidden--visually\" id=\"sk-estimator-id-13\" type=\"checkbox\" ><label for=\"sk-estimator-id-13\" class=\"sk-toggleable__label sk-toggleable__label-arrow\">RandomizedSearchCV</label><div class=\"sk-toggleable__content\"><pre>RandomizedSearchCV(estimator=RandomForestClassifier(), n_iter=15, n_jobs=-1,\n",
       "                   param_distributions={&#x27;min_samples_leaf&#x27;: [1, 2, 4],\n",
       "                                        &#x27;min_samples_split&#x27;: [2, 5, 10],\n",
       "                                        &#x27;n_estimators&#x27;: [100, 200, 300, 400,\n",
       "                                                         500]},\n",
       "                   scoring=&#x27;roc_auc&#x27;)</pre></div></div></div><div class=\"sk-parallel\"><div class=\"sk-parallel-item\"><div class=\"sk-item\"><div class=\"sk-label-container\"><div class=\"sk-label sk-toggleable\"><input class=\"sk-toggleable__control sk-hidden--visually\" id=\"sk-estimator-id-14\" type=\"checkbox\" ><label for=\"sk-estimator-id-14\" class=\"sk-toggleable__label sk-toggleable__label-arrow\">estimator: RandomForestClassifier</label><div class=\"sk-toggleable__content\"><pre>RandomForestClassifier()</pre></div></div></div><div class=\"sk-serial\"><div class=\"sk-item\"><div class=\"sk-estimator sk-toggleable\"><input class=\"sk-toggleable__control sk-hidden--visually\" id=\"sk-estimator-id-15\" type=\"checkbox\" ><label for=\"sk-estimator-id-15\" class=\"sk-toggleable__label sk-toggleable__label-arrow\">RandomForestClassifier</label><div class=\"sk-toggleable__content\"><pre>RandomForestClassifier()</pre></div></div></div></div></div></div></div></div></div></div>"
      ],
      "text/plain": [
       "RandomizedSearchCV(estimator=RandomForestClassifier(), n_iter=15, n_jobs=-1,\n",
       "                   param_distributions={'min_samples_leaf': [1, 2, 4],\n",
       "                                        'min_samples_split': [2, 5, 10],\n",
       "                                        'n_estimators': [100, 200, 300, 400,\n",
       "                                                         500]},\n",
       "                   scoring='roc_auc')"
      ]
     },
     "execution_count": 672,
     "metadata": {},
     "output_type": "execute_result"
    }
   ],
   "source": [
    "# treinando modelo\n",
    "modelo_v2.fit(trasnformacao.X_train, trasnformacao.y_train)"
   ]
  },
  {
   "cell_type": "code",
   "execution_count": 673,
   "metadata": {},
   "outputs": [
    {
     "data": {
      "text/html": [
       "<style>#sk-container-id-8 {color: black;}#sk-container-id-8 pre{padding: 0;}#sk-container-id-8 div.sk-toggleable {background-color: white;}#sk-container-id-8 label.sk-toggleable__label {cursor: pointer;display: block;width: 100%;margin-bottom: 0;padding: 0.3em;box-sizing: border-box;text-align: center;}#sk-container-id-8 label.sk-toggleable__label-arrow:before {content: \"▸\";float: left;margin-right: 0.25em;color: #696969;}#sk-container-id-8 label.sk-toggleable__label-arrow:hover:before {color: black;}#sk-container-id-8 div.sk-estimator:hover label.sk-toggleable__label-arrow:before {color: black;}#sk-container-id-8 div.sk-toggleable__content {max-height: 0;max-width: 0;overflow: hidden;text-align: left;background-color: #f0f8ff;}#sk-container-id-8 div.sk-toggleable__content pre {margin: 0.2em;color: black;border-radius: 0.25em;background-color: #f0f8ff;}#sk-container-id-8 input.sk-toggleable__control:checked~div.sk-toggleable__content {max-height: 200px;max-width: 100%;overflow: auto;}#sk-container-id-8 input.sk-toggleable__control:checked~label.sk-toggleable__label-arrow:before {content: \"▾\";}#sk-container-id-8 div.sk-estimator input.sk-toggleable__control:checked~label.sk-toggleable__label {background-color: #d4ebff;}#sk-container-id-8 div.sk-label input.sk-toggleable__control:checked~label.sk-toggleable__label {background-color: #d4ebff;}#sk-container-id-8 input.sk-hidden--visually {border: 0;clip: rect(1px 1px 1px 1px);clip: rect(1px, 1px, 1px, 1px);height: 1px;margin: -1px;overflow: hidden;padding: 0;position: absolute;width: 1px;}#sk-container-id-8 div.sk-estimator {font-family: monospace;background-color: #f0f8ff;border: 1px dotted black;border-radius: 0.25em;box-sizing: border-box;margin-bottom: 0.5em;}#sk-container-id-8 div.sk-estimator:hover {background-color: #d4ebff;}#sk-container-id-8 div.sk-parallel-item::after {content: \"\";width: 100%;border-bottom: 1px solid gray;flex-grow: 1;}#sk-container-id-8 div.sk-label:hover label.sk-toggleable__label {background-color: #d4ebff;}#sk-container-id-8 div.sk-serial::before {content: \"\";position: absolute;border-left: 1px solid gray;box-sizing: border-box;top: 0;bottom: 0;left: 50%;z-index: 0;}#sk-container-id-8 div.sk-serial {display: flex;flex-direction: column;align-items: center;background-color: white;padding-right: 0.2em;padding-left: 0.2em;position: relative;}#sk-container-id-8 div.sk-item {position: relative;z-index: 1;}#sk-container-id-8 div.sk-parallel {display: flex;align-items: stretch;justify-content: center;background-color: white;position: relative;}#sk-container-id-8 div.sk-item::before, #sk-container-id-8 div.sk-parallel-item::before {content: \"\";position: absolute;border-left: 1px solid gray;box-sizing: border-box;top: 0;bottom: 0;left: 50%;z-index: -1;}#sk-container-id-8 div.sk-parallel-item {display: flex;flex-direction: column;z-index: 1;position: relative;background-color: white;}#sk-container-id-8 div.sk-parallel-item:first-child::after {align-self: flex-end;width: 50%;}#sk-container-id-8 div.sk-parallel-item:last-child::after {align-self: flex-start;width: 50%;}#sk-container-id-8 div.sk-parallel-item:only-child::after {width: 0;}#sk-container-id-8 div.sk-dashed-wrapped {border: 1px dashed gray;margin: 0 0.4em 0.5em 0.4em;box-sizing: border-box;padding-bottom: 0.4em;background-color: white;}#sk-container-id-8 div.sk-label label {font-family: monospace;font-weight: bold;display: inline-block;line-height: 1.2em;}#sk-container-id-8 div.sk-label-container {text-align: center;}#sk-container-id-8 div.sk-container {/* jupyter's `normalize.less` sets `[hidden] { display: none; }` but bootstrap.min.css set `[hidden] { display: none !important; }` so we also need the `!important` here to be able to override the default hidden behavior on the sphinx rendered scikit-learn.org. See: https://github.com/scikit-learn/scikit-learn/issues/21755 */display: inline-block !important;position: relative;}#sk-container-id-8 div.sk-text-repr-fallback {display: none;}</style><div id=\"sk-container-id-8\" class=\"sk-top-container\"><div class=\"sk-text-repr-fallback\"><pre>RandomForestClassifier(n_estimators=500)</pre><b>In a Jupyter environment, please rerun this cell to show the HTML representation or trust the notebook. <br />On GitHub, the HTML representation is unable to render, please try loading this page with nbviewer.org.</b></div><div class=\"sk-container\" hidden><div class=\"sk-item\"><div class=\"sk-estimator sk-toggleable\"><input class=\"sk-toggleable__control sk-hidden--visually\" id=\"sk-estimator-id-16\" type=\"checkbox\" checked><label for=\"sk-estimator-id-16\" class=\"sk-toggleable__label sk-toggleable__label-arrow\">RandomForestClassifier</label><div class=\"sk-toggleable__content\"><pre>RandomForestClassifier(n_estimators=500)</pre></div></div></div></div></div>"
      ],
      "text/plain": [
       "RandomForestClassifier(n_estimators=500)"
      ]
     },
     "execution_count": 673,
     "metadata": {},
     "output_type": "execute_result"
    }
   ],
   "source": [
    "# visualizando estimados\n",
    "modelo_v2.best_estimator_"
   ]
  },
  {
   "cell_type": "code",
   "execution_count": 674,
   "metadata": {},
   "outputs": [],
   "source": [
    "# previsoes\n",
    "y_pred_v2 = modelo_v2.predict(trasnformacao.X_test)"
   ]
  },
  {
   "cell_type": "code",
   "execution_count": 675,
   "metadata": {},
   "outputs": [],
   "source": [
    "# calculando probabilidade para classe 1 - será necessário para o cálculo das métricas\n",
    "y_pred_v2_prob = modelo_v2.predict_proba(trasnformacao.X_test)[:, 1]"
   ]
  },
  {
   "cell_type": "code",
   "execution_count": 676,
   "metadata": {},
   "outputs": [
    {
     "name": "stdout",
     "output_type": "stream",
     "text": [
      "Para o ponto 50, o valor real é 1, e a previsão foi de 0, com probabilidade de 0.3\n",
      "Para o ponto 51, o valor real é 1, e a previsão foi de 1, com probabilidade de 0.666\n",
      "Para o ponto 52, o valor real é 0, e a previsão foi de 1, com probabilidade de 0.61\n",
      "Para o ponto 53, o valor real é 0, e a previsão foi de 1, com probabilidade de 0.534\n",
      "Para o ponto 54, o valor real é 1, e a previsão foi de 1, com probabilidade de 0.714\n",
      "Para o ponto 55, o valor real é 0, e a previsão foi de 1, com probabilidade de 0.638\n",
      "Para o ponto 56, o valor real é 1, e a previsão foi de 1, com probabilidade de 0.728\n",
      "Para o ponto 57, o valor real é 0, e a previsão foi de 1, com probabilidade de 0.526\n",
      "Para o ponto 58, o valor real é 0, e a previsão foi de 0, com probabilidade de 0.272\n",
      "Para o ponto 59, o valor real é 0, e a previsão foi de 0, com probabilidade de 0.432\n"
     ]
    }
   ],
   "source": [
    "# Como exemplo, verificando um dos pontos\n",
    "index = range(50,60)\n",
    "for i in index:\n",
    "    print(f'Para o ponto {i}, o valor real é {trasnformacao.y_test.iloc[i][0]}, e a previsão foi de {y_pred_v2[i]}, com probabilidade de {y_pred_v2_prob[i]}')\n",
    "    "
   ]
  },
  {
   "cell_type": "code",
   "execution_count": 677,
   "metadata": {},
   "outputs": [
    {
     "data": {
      "text/plain": [
       "array([[16, 22],\n",
       "       [26, 35]], dtype=int64)"
      ]
     },
     "execution_count": 677,
     "metadata": {},
     "output_type": "execute_result"
    }
   ],
   "source": [
    "# Matriz de confusão\n",
    "confusion_matrix(trasnformacao.y_test, y_pred_v2)"
   ]
  },
  {
   "cell_type": "markdown",
   "metadata": {},
   "source": [
    "**Métricas**"
   ]
  },
  {
   "cell_type": "code",
   "execution_count": 682,
   "metadata": {},
   "outputs": [
    {
     "data": {
      "text/plain": [
       "0.497411561691113"
      ]
     },
     "execution_count": 682,
     "metadata": {},
     "output_type": "execute_result"
    }
   ],
   "source": [
    "# roc_auc\n",
    "roc_auc_v2 = roc_auc_score(trasnformacao.y_test, y_pred_v2)\n",
    "roc_auc_v2"
   ]
  },
  {
   "cell_type": "code",
   "execution_count": 684,
   "metadata": {},
   "outputs": [
    {
     "data": {
      "text/plain": [
       "0.5724762726488353"
      ]
     },
     "execution_count": 684,
     "metadata": {},
     "output_type": "execute_result"
    }
   ],
   "source": [
    "# auc\n",
    "fpr_v2, tpr_v2, thresholds_v2 = roc_curve(trasnformacao.y_test, y_pred_v2_prob)\n",
    "auc_v2 = auc(fpr_v2, tpr_v2)\n",
    "auc_v2"
   ]
  },
  {
   "cell_type": "code",
   "execution_count": 686,
   "metadata": {},
   "outputs": [
    {
     "data": {
      "text/plain": [
       "0.5151515151515151"
      ]
     },
     "execution_count": 686,
     "metadata": {},
     "output_type": "execute_result"
    }
   ],
   "source": [
    "# Acuracia\n",
    "acuracia_v2 = accuracy_score(trasnformacao.y_test, y_pred_v2)\n",
    "acuracia_v2"
   ]
  },
  {
   "cell_type": "markdown",
   "metadata": {},
   "source": [
    "**Verificando ordem de importância das variáveis**"
   ]
  },
  {
   "cell_type": "code",
   "execution_count": 687,
   "metadata": {},
   "outputs": [],
   "source": [
    "# recalcilando RandomFlorest com melhor estimados\n",
    "modelo_v2 = RandomForestClassifier(n_estimators=500)\n",
    "modelo_v2.fit(trasnformacao.X_train, trasnformacao.y_train)\n",
    "y_pred_v2 = modelo_v2.predict(trasnformacao.X_test)"
   ]
  },
  {
   "cell_type": "code",
   "execution_count": 688,
   "metadata": {},
   "outputs": [
    {
     "data": {
      "text/plain": [
       "array([0.19915688, 0.16634138, 0.14684359, 0.18489045, 0.16241578,\n",
       "       0.14035192])"
      ]
     },
     "execution_count": 688,
     "metadata": {},
     "output_type": "execute_result"
    }
   ],
   "source": [
    "# analisando coeficientes\n",
    "modelo_v2.feature_importances_"
   ]
  },
  {
   "cell_type": "code",
   "execution_count": 689,
   "metadata": {},
   "outputs": [
    {
     "data": {
      "text/plain": [
       "array([0, 3, 1, 4, 2, 5], dtype=int64)"
      ]
     },
     "execution_count": 689,
     "metadata": {},
     "output_type": "execute_result"
    }
   ],
   "source": [
    "#capturando indices\n",
    "index = np.argsort(-abs(modelo_v2.feature_importances_[0:, ]))\n",
    "\n",
    "index"
   ]
  },
  {
   "cell_type": "code",
   "execution_count": 690,
   "metadata": {},
   "outputs": [
    {
     "name": "stdout",
     "output_type": "stream",
     "text": [
      "Variáveis importantes\n",
      "--------------------------------------------------\n",
      "Aspartate_Aminotransferase_scalled\n",
      "Alamine_Aminotransferase_scalled\n",
      "Total_Bilirubin_scalled\n",
      "Albumin_scalled\n",
      "Albumin_and_Globulin_Ratio_scalled\n",
      "Alkaline_Phosphotase_Intervalo\n"
     ]
    }
   ],
   "source": [
    "#printando\n",
    "print(\"Variáveis importantes\")\n",
    "print(\"-\"*50)\n",
    "for var in index:\n",
    "    print(trasnformacao.X_train.columns[var])"
   ]
  },
  {
   "cell_type": "code",
   "execution_count": 698,
   "metadata": {},
   "outputs": [],
   "source": [
    "# complinando métricas\n",
    "dict_v2 =  {\n",
    "    \"Nome\":\"Modelo_v2\",\n",
    "    \"Algoritmo\":\"Random Forest\",\n",
    "    \"ROC_AUC\":roc_auc_v2,\n",
    "    \"AUC\":auc_v2,\n",
    "    \"ACURACIA\":acuracia_v2\n",
    "}"
   ]
  },
  {
   "cell_type": "code",
   "execution_count": 699,
   "metadata": {},
   "outputs": [],
   "source": [
    "#adicionando ao DF\n",
    "metricas = metricas.append(dict_v2, ignore_index=True)"
   ]
  },
  {
   "cell_type": "code",
   "execution_count": 700,
   "metadata": {},
   "outputs": [
    {
     "data": {
      "text/html": [
       "<div>\n",
       "<style scoped>\n",
       "    .dataframe tbody tr th:only-of-type {\n",
       "        vertical-align: middle;\n",
       "    }\n",
       "\n",
       "    .dataframe tbody tr th {\n",
       "        vertical-align: top;\n",
       "    }\n",
       "\n",
       "    .dataframe thead th {\n",
       "        text-align: right;\n",
       "    }\n",
       "</style>\n",
       "<table border=\"1\" class=\"dataframe\">\n",
       "  <thead>\n",
       "    <tr style=\"text-align: right;\">\n",
       "      <th></th>\n",
       "      <th>Nome</th>\n",
       "      <th>Algoritmo</th>\n",
       "      <th>ROC_AUC</th>\n",
       "      <th>AUC</th>\n",
       "      <th>ACURACIA</th>\n",
       "    </tr>\n",
       "  </thead>\n",
       "  <tbody>\n",
       "    <tr>\n",
       "      <th>0</th>\n",
       "      <td>Modelo_v1</td>\n",
       "      <td>Logistic Regression</td>\n",
       "      <td>0.511001</td>\n",
       "      <td>0.596635</td>\n",
       "      <td>0.464646</td>\n",
       "    </tr>\n",
       "    <tr>\n",
       "      <th>1</th>\n",
       "      <td>Modelo_v2</td>\n",
       "      <td>Random Forest</td>\n",
       "      <td>0.497412</td>\n",
       "      <td>0.572476</td>\n",
       "      <td>0.515152</td>\n",
       "    </tr>\n",
       "  </tbody>\n",
       "</table>\n",
       "</div>"
      ],
      "text/plain": [
       "        Nome            Algoritmo   ROC_AUC       AUC  ACURACIA\n",
       "0  Modelo_v1  Logistic Regression  0.511001  0.596635  0.464646\n",
       "1  Modelo_v2        Random Forest  0.497412  0.572476  0.515152"
      ]
     },
     "execution_count": 700,
     "metadata": {},
     "output_type": "execute_result"
    }
   ],
   "source": [
    "#visualizando\n",
    "metricas"
   ]
  },
  {
   "cell_type": "code",
   "execution_count": 701,
   "metadata": {},
   "outputs": [],
   "source": [
    "#salvando modelo\n",
    "with open(file='modelo_v2.pkl', mode='wb'):\n",
    "    joblib.dump(modelo_v2, 'modelo_v2.pkl')"
   ]
  },
  {
   "cell_type": "markdown",
   "metadata": {},
   "source": [
    "**3 - SVV**"
   ]
  },
  {
   "cell_type": "code",
   "execution_count": 707,
   "metadata": {},
   "outputs": [],
   "source": [
    "# seleção de hiperparametros\n",
    "    #aqui a função já vai retornar os melhores parâmetros para seguirmos com o treinamento\n",
    "def HiperParamsSelection(x, y, nfolds):\n",
    "    Cs = [0.001, 0.01, 0.1, 1, 10]\n",
    "    gammas = [0.001, 0.01, 0.1, 1]\n",
    "    param_grid = {\"C\":Cs, \"gamma\": gammas}\n",
    "    gridSearch = GridSearchCV(estimator=SVC(kernel='rbf'), param_grid = param_grid, cv = nfolds)\n",
    "    gridSearch.fit(x,y)\n",
    "    gridSearch.best_params_\n",
    "    return gridSearch.best_params_"
   ]
  },
  {
   "cell_type": "code",
   "execution_count": 708,
   "metadata": {},
   "outputs": [
    {
     "data": {
      "text/plain": [
       "{'C': 10, 'gamma': 1}"
      ]
     },
     "execution_count": 708,
     "metadata": {},
     "output_type": "execute_result"
    }
   ],
   "source": [
    "#aplicando\n",
    "HiperParamsSelection(trasnformacao.X_train, trasnformacao.y_train, nfolds = 5)"
   ]
  },
  {
   "cell_type": "code",
   "execution_count": 719,
   "metadata": {},
   "outputs": [],
   "source": [
    "# instanciando modelo com melhor hiperparametros\n",
    "modelo_v3 = SVC(kernel = 'rbf',\n",
    "               C = 10,\n",
    "               gamma = 1,\n",
    "               probability = True)\n",
    "\n"
   ]
  },
  {
   "cell_type": "code",
   "execution_count": 720,
   "metadata": {},
   "outputs": [
    {
     "data": {
      "text/html": [
       "<style>#sk-container-id-9 {color: black;}#sk-container-id-9 pre{padding: 0;}#sk-container-id-9 div.sk-toggleable {background-color: white;}#sk-container-id-9 label.sk-toggleable__label {cursor: pointer;display: block;width: 100%;margin-bottom: 0;padding: 0.3em;box-sizing: border-box;text-align: center;}#sk-container-id-9 label.sk-toggleable__label-arrow:before {content: \"▸\";float: left;margin-right: 0.25em;color: #696969;}#sk-container-id-9 label.sk-toggleable__label-arrow:hover:before {color: black;}#sk-container-id-9 div.sk-estimator:hover label.sk-toggleable__label-arrow:before {color: black;}#sk-container-id-9 div.sk-toggleable__content {max-height: 0;max-width: 0;overflow: hidden;text-align: left;background-color: #f0f8ff;}#sk-container-id-9 div.sk-toggleable__content pre {margin: 0.2em;color: black;border-radius: 0.25em;background-color: #f0f8ff;}#sk-container-id-9 input.sk-toggleable__control:checked~div.sk-toggleable__content {max-height: 200px;max-width: 100%;overflow: auto;}#sk-container-id-9 input.sk-toggleable__control:checked~label.sk-toggleable__label-arrow:before {content: \"▾\";}#sk-container-id-9 div.sk-estimator input.sk-toggleable__control:checked~label.sk-toggleable__label {background-color: #d4ebff;}#sk-container-id-9 div.sk-label input.sk-toggleable__control:checked~label.sk-toggleable__label {background-color: #d4ebff;}#sk-container-id-9 input.sk-hidden--visually {border: 0;clip: rect(1px 1px 1px 1px);clip: rect(1px, 1px, 1px, 1px);height: 1px;margin: -1px;overflow: hidden;padding: 0;position: absolute;width: 1px;}#sk-container-id-9 div.sk-estimator {font-family: monospace;background-color: #f0f8ff;border: 1px dotted black;border-radius: 0.25em;box-sizing: border-box;margin-bottom: 0.5em;}#sk-container-id-9 div.sk-estimator:hover {background-color: #d4ebff;}#sk-container-id-9 div.sk-parallel-item::after {content: \"\";width: 100%;border-bottom: 1px solid gray;flex-grow: 1;}#sk-container-id-9 div.sk-label:hover label.sk-toggleable__label {background-color: #d4ebff;}#sk-container-id-9 div.sk-serial::before {content: \"\";position: absolute;border-left: 1px solid gray;box-sizing: border-box;top: 0;bottom: 0;left: 50%;z-index: 0;}#sk-container-id-9 div.sk-serial {display: flex;flex-direction: column;align-items: center;background-color: white;padding-right: 0.2em;padding-left: 0.2em;position: relative;}#sk-container-id-9 div.sk-item {position: relative;z-index: 1;}#sk-container-id-9 div.sk-parallel {display: flex;align-items: stretch;justify-content: center;background-color: white;position: relative;}#sk-container-id-9 div.sk-item::before, #sk-container-id-9 div.sk-parallel-item::before {content: \"\";position: absolute;border-left: 1px solid gray;box-sizing: border-box;top: 0;bottom: 0;left: 50%;z-index: -1;}#sk-container-id-9 div.sk-parallel-item {display: flex;flex-direction: column;z-index: 1;position: relative;background-color: white;}#sk-container-id-9 div.sk-parallel-item:first-child::after {align-self: flex-end;width: 50%;}#sk-container-id-9 div.sk-parallel-item:last-child::after {align-self: flex-start;width: 50%;}#sk-container-id-9 div.sk-parallel-item:only-child::after {width: 0;}#sk-container-id-9 div.sk-dashed-wrapped {border: 1px dashed gray;margin: 0 0.4em 0.5em 0.4em;box-sizing: border-box;padding-bottom: 0.4em;background-color: white;}#sk-container-id-9 div.sk-label label {font-family: monospace;font-weight: bold;display: inline-block;line-height: 1.2em;}#sk-container-id-9 div.sk-label-container {text-align: center;}#sk-container-id-9 div.sk-container {/* jupyter's `normalize.less` sets `[hidden] { display: none; }` but bootstrap.min.css set `[hidden] { display: none !important; }` so we also need the `!important` here to be able to override the default hidden behavior on the sphinx rendered scikit-learn.org. See: https://github.com/scikit-learn/scikit-learn/issues/21755 */display: inline-block !important;position: relative;}#sk-container-id-9 div.sk-text-repr-fallback {display: none;}</style><div id=\"sk-container-id-9\" class=\"sk-top-container\"><div class=\"sk-text-repr-fallback\"><pre>SVC(C=10, gamma=1, probability=True)</pre><b>In a Jupyter environment, please rerun this cell to show the HTML representation or trust the notebook. <br />On GitHub, the HTML representation is unable to render, please try loading this page with nbviewer.org.</b></div><div class=\"sk-container\" hidden><div class=\"sk-item\"><div class=\"sk-estimator sk-toggleable\"><input class=\"sk-toggleable__control sk-hidden--visually\" id=\"sk-estimator-id-17\" type=\"checkbox\" checked><label for=\"sk-estimator-id-17\" class=\"sk-toggleable__label sk-toggleable__label-arrow\">SVC</label><div class=\"sk-toggleable__content\"><pre>SVC(C=10, gamma=1, probability=True)</pre></div></div></div></div></div>"
      ],
      "text/plain": [
       "SVC(C=10, gamma=1, probability=True)"
      ]
     },
     "execution_count": 720,
     "metadata": {},
     "output_type": "execute_result"
    }
   ],
   "source": [
    "#treinamento\n",
    "modelo_v3.fit(trasnformacao.X_train, trasnformacao.y_train)\n",
    "\n"
   ]
  },
  {
   "cell_type": "code",
   "execution_count": 726,
   "metadata": {},
   "outputs": [],
   "source": [
    "#previsao\n",
    "y_pred_v3 = modelo_v3.predict(trasnformacao.X_test)\n",
    "\n"
   ]
  },
  {
   "cell_type": "code",
   "execution_count": 727,
   "metadata": {},
   "outputs": [],
   "source": [
    "#probabildiades\n",
    "y_pred_v3_prob = modelo_v3.predict_proba(trasnformacao.X_test)[0:, 1]"
   ]
  },
  {
   "cell_type": "code",
   "execution_count": 728,
   "metadata": {},
   "outputs": [
    {
     "data": {
      "text/plain": [
       "array([[18, 20],\n",
       "       [38, 23]], dtype=int64)"
      ]
     },
     "execution_count": 728,
     "metadata": {},
     "output_type": "execute_result"
    }
   ],
   "source": [
    "# matriz de confusão\n",
    "confusion_matrix(trasnformacao.y_test, y_pred_v3)"
   ]
  },
  {
   "cell_type": "markdown",
   "metadata": {},
   "source": [
    "**Extraindo métricas**"
   ]
  },
  {
   "cell_type": "code",
   "execution_count": 729,
   "metadata": {},
   "outputs": [
    {
     "data": {
      "text/plain": [
       "0.4253666954270923"
      ]
     },
     "execution_count": 729,
     "metadata": {},
     "output_type": "execute_result"
    }
   ],
   "source": [
    "#roc_auc\n",
    "\n",
    "roc_auc_v3 = roc_auc_score(trasnformacao.y_test, y_pred_v3)\n",
    "roc_auc_v3"
   ]
  },
  {
   "cell_type": "code",
   "execution_count": 730,
   "metadata": {},
   "outputs": [
    {
     "data": {
      "text/plain": [
       "0.46937014667817084"
      ]
     },
     "execution_count": 730,
     "metadata": {},
     "output_type": "execute_result"
    }
   ],
   "source": [
    "#auc\n",
    "fpr_v3, tpr_v3, thresholds_v3 = roc_curve(trasnformacao.y_test, y_pred_v3_prob)\n",
    "auc_v3 = auc(fpr_v3, tpr_v3)\n",
    "auc_v3"
   ]
  },
  {
   "cell_type": "code",
   "execution_count": 732,
   "metadata": {},
   "outputs": [
    {
     "data": {
      "text/plain": [
       "0.41414141414141414"
      ]
     },
     "execution_count": 732,
     "metadata": {},
     "output_type": "execute_result"
    }
   ],
   "source": [
    "#acuracia\n",
    "acuracia_v3 = accuracy_score(trasnformacao.y_test, y_pred_v3)\n",
    "acuracia_v3"
   ]
  },
  {
   "cell_type": "code",
   "execution_count": 733,
   "metadata": {},
   "outputs": [],
   "source": [
    "#compilando métricas\n",
    "dict_v3 =  {\n",
    "    \"Nome\":\"Modelo_v3\",\n",
    "    \"Algoritmo\":\"SVV\",\n",
    "    \"ROC_AUC\":roc_auc_v3,\n",
    "    \"AUC\":auc_v3,\n",
    "    \"ACURACIA\":acuracia_v3\n",
    "}"
   ]
  },
  {
   "cell_type": "code",
   "execution_count": 734,
   "metadata": {},
   "outputs": [],
   "source": [
    "# adicionando ao df\n",
    "metricas = metricas.append(dict_v3, ignore_index=True)"
   ]
  },
  {
   "cell_type": "code",
   "execution_count": 735,
   "metadata": {},
   "outputs": [
    {
     "data": {
      "text/html": [
       "<div>\n",
       "<style scoped>\n",
       "    .dataframe tbody tr th:only-of-type {\n",
       "        vertical-align: middle;\n",
       "    }\n",
       "\n",
       "    .dataframe tbody tr th {\n",
       "        vertical-align: top;\n",
       "    }\n",
       "\n",
       "    .dataframe thead th {\n",
       "        text-align: right;\n",
       "    }\n",
       "</style>\n",
       "<table border=\"1\" class=\"dataframe\">\n",
       "  <thead>\n",
       "    <tr style=\"text-align: right;\">\n",
       "      <th></th>\n",
       "      <th>Nome</th>\n",
       "      <th>Algoritmo</th>\n",
       "      <th>ROC_AUC</th>\n",
       "      <th>AUC</th>\n",
       "      <th>ACURACIA</th>\n",
       "    </tr>\n",
       "  </thead>\n",
       "  <tbody>\n",
       "    <tr>\n",
       "      <th>0</th>\n",
       "      <td>Modelo_v1</td>\n",
       "      <td>Logistic Regression</td>\n",
       "      <td>0.511001</td>\n",
       "      <td>0.596635</td>\n",
       "      <td>0.464646</td>\n",
       "    </tr>\n",
       "    <tr>\n",
       "      <th>1</th>\n",
       "      <td>Modelo_v2</td>\n",
       "      <td>Random Forest</td>\n",
       "      <td>0.497412</td>\n",
       "      <td>0.572476</td>\n",
       "      <td>0.515152</td>\n",
       "    </tr>\n",
       "    <tr>\n",
       "      <th>2</th>\n",
       "      <td>Modelo_v3</td>\n",
       "      <td>SVV</td>\n",
       "      <td>0.425367</td>\n",
       "      <td>0.469370</td>\n",
       "      <td>0.414141</td>\n",
       "    </tr>\n",
       "  </tbody>\n",
       "</table>\n",
       "</div>"
      ],
      "text/plain": [
       "        Nome            Algoritmo   ROC_AUC       AUC  ACURACIA\n",
       "0  Modelo_v1  Logistic Regression  0.511001  0.596635  0.464646\n",
       "1  Modelo_v2        Random Forest  0.497412  0.572476  0.515152\n",
       "2  Modelo_v3                  SVV  0.425367  0.469370  0.414141"
      ]
     },
     "execution_count": 735,
     "metadata": {},
     "output_type": "execute_result"
    }
   ],
   "source": [
    "#visualizando\n",
    "metricas"
   ]
  },
  {
   "cell_type": "code",
   "execution_count": 736,
   "metadata": {},
   "outputs": [],
   "source": [
    "#salvando modelo\n",
    "with open(file='modelo_v3.pkl', mode='wb'):\n",
    "    joblib.dump(modelo_v3, 'modelo_v3.pkl')"
   ]
  },
  {
   "cell_type": "markdown",
   "metadata": {
    "id": "A-PjB6ifolCU"
   },
   "source": [
    "## Avaliação"
   ]
  },
  {
   "cell_type": "code",
   "execution_count": 737,
   "metadata": {
    "id": "mD1qZJ02omQe"
   },
   "outputs": [
    {
     "data": {
      "text/html": [
       "<div>\n",
       "<style scoped>\n",
       "    .dataframe tbody tr th:only-of-type {\n",
       "        vertical-align: middle;\n",
       "    }\n",
       "\n",
       "    .dataframe tbody tr th {\n",
       "        vertical-align: top;\n",
       "    }\n",
       "\n",
       "    .dataframe thead th {\n",
       "        text-align: right;\n",
       "    }\n",
       "</style>\n",
       "<table border=\"1\" class=\"dataframe\">\n",
       "  <thead>\n",
       "    <tr style=\"text-align: right;\">\n",
       "      <th></th>\n",
       "      <th>Nome</th>\n",
       "      <th>Algoritmo</th>\n",
       "      <th>ROC_AUC</th>\n",
       "      <th>AUC</th>\n",
       "      <th>ACURACIA</th>\n",
       "    </tr>\n",
       "  </thead>\n",
       "  <tbody>\n",
       "    <tr>\n",
       "      <th>0</th>\n",
       "      <td>Modelo_v1</td>\n",
       "      <td>Logistic Regression</td>\n",
       "      <td>0.511001</td>\n",
       "      <td>0.596635</td>\n",
       "      <td>0.464646</td>\n",
       "    </tr>\n",
       "    <tr>\n",
       "      <th>1</th>\n",
       "      <td>Modelo_v2</td>\n",
       "      <td>Random Forest</td>\n",
       "      <td>0.497412</td>\n",
       "      <td>0.572476</td>\n",
       "      <td>0.515152</td>\n",
       "    </tr>\n",
       "    <tr>\n",
       "      <th>2</th>\n",
       "      <td>Modelo_v3</td>\n",
       "      <td>SVV</td>\n",
       "      <td>0.425367</td>\n",
       "      <td>0.469370</td>\n",
       "      <td>0.414141</td>\n",
       "    </tr>\n",
       "  </tbody>\n",
       "</table>\n",
       "</div>"
      ],
      "text/plain": [
       "        Nome            Algoritmo   ROC_AUC       AUC  ACURACIA\n",
       "0  Modelo_v1  Logistic Regression  0.511001  0.596635  0.464646\n",
       "1  Modelo_v2        Random Forest  0.497412  0.572476  0.515152\n",
       "2  Modelo_v3                  SVV  0.425367  0.469370  0.414141"
      ]
     },
     "execution_count": 737,
     "metadata": {},
     "output_type": "execute_result"
    }
   ],
   "source": [
    "# metricas\n",
    "metricas"
   ]
  },
  {
   "cell_type": "markdown",
   "metadata": {
    "id": "cZFrSBSlomtu"
   },
   "source": [
    "## Seguindo...\n",
    "\n",
    "\n",
    "Os algoritmos treinados não chegaram na precisão requerida para o projeto. Contudo, há espaço para otimização, que seria a próxima fase deste projeto. Conforme observado acima, as suposições estatísticas não foram validadas (tendo em vista o objetivo deste projeto)."
   ]
  },
  {
   "cell_type": "code",
   "execution_count": null,
   "metadata": {
    "id": "z9Kl8ENfoom2"
   },
   "outputs": [],
   "source": []
  }
 ],
 "metadata": {
  "colab": {
   "provenance": [],
   "toc_visible": true
  },
  "kernelspec": {
   "display_name": "Python 3 (ipykernel)",
   "language": "python",
   "name": "python3"
  },
  "language_info": {
   "codemirror_mode": {
    "name": "ipython",
    "version": 3
   },
   "file_extension": ".py",
   "mimetype": "text/x-python",
   "name": "python",
   "nbconvert_exporter": "python",
   "pygments_lexer": "ipython3",
   "version": "3.11.4"
  }
 },
 "nbformat": 4,
 "nbformat_minor": 1
}
