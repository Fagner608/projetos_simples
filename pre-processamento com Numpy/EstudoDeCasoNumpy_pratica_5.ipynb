{
 "cells": [
  {
   "cell_type": "markdown",
   "id": "454663b0",
   "metadata": {},
   "source": [
    "# Intrudução"
   ]
  },
  {
   "cell_type": "markdown",
   "id": "428528f5",
   "metadata": {},
   "source": [
    "## Pré-processamento de dados com Numpy\n",
    "\n",
    "- O pré-processamento é uma das estapas premilimares à Análise Exploratória ou Machine Learning, e, é condizida diferentemente para cada um destes objetivos.\n",
    "\n",
    "Neste trabalho, o pré-processamento será realizado até a codificação dos dados. Para que possa ser submetido à um algoritmo de ML, ainda seria necessário, dentro da etapa de pré-processamento, a normalização ou padronização dos dados. E, depois, as etapdas seguintes, como a própria análise exploratória (em busca de padrões), feature selection, etc."
   ]
  },
  {
   "cell_type": "markdown",
   "id": "d3fc6ad8",
   "metadata": {},
   "source": [
    "### Fonte dos dados:\n",
    "\n",
    "Fonte: https://www.openintro.org/data/index.php?data=loans_full_schema\n",
    "\n",
    "Descrição: \n",
    "\n",
    "Esse conjunto de dados representa milhares de empréstimos feitos por meio da plataforma Lending Club, que é uma plataforma que permite que indivíduos emprestem a outros indivíduos. Claro, nem todos os empréstimos são criados iguais. Alguém que é essencialmente uma aposta certa para pagar um empréstimo terá mais facilidade em obter um empréstimo com uma taxa de juros baixa do que alguém que parece ser mais arriscado. \n",
    "\n",
    "E para pessoas que são muito arriscadas? Eles podem nem receber uma oferta de empréstimo ou podem não ter aceitado a oferta de empréstimo devido a uma alta taxa de juros. É importante ter em mente essa última parte, pois esse conjunto de dados representa apenas os empréstimos realmente feitos, ou seja, não confunda esses dados com pedidos de empréstimo!"
   ]
  },
  {
   "cell_type": "markdown",
   "id": "da40c114",
   "metadata": {},
   "source": [
    "### Preparação do ambiente."
   ]
  },
  {
   "cell_type": "code",
   "execution_count": 1,
   "id": "9c40d966",
   "metadata": {},
   "outputs": [],
   "source": [
    "# imports\n",
    "import numpy as np\n",
    "import os\n",
    "import warnings\n",
    "from random import randint"
   ]
  },
  {
   "cell_type": "code",
   "execution_count": 2,
   "id": "40069a3b",
   "metadata": {},
   "outputs": [],
   "source": [
    "# Configurações\n",
    "warnings.filterwarnings('ignore')\n",
    "np.set_printoptions(suppress=True,\n",
    "                   precision = 2,\n",
    "                   linewidth=200)"
   ]
  },
  {
   "cell_type": "code",
   "execution_count": 3,
   "id": "f16cdbb8",
   "metadata": {},
   "outputs": [],
   "source": [
    "# Função para explorar o diretório\n",
    "def listFiles():\n",
    "    diretorio = os.getcwd()\n",
    "    if os.path.isdir(diretorio):\n",
    "        arquivo = [arquivo for arquivo in os.listdir(diretorio) if os.path.isfile(os.path.join(diretorio, arquivo))]\n",
    "        for i in arquivo:\n",
    "            print(i)"
   ]
  },
  {
   "cell_type": "code",
   "execution_count": 4,
   "id": "6c51e1f6",
   "metadata": {},
   "outputs": [],
   "source": [
    "# função para checkPoint dos dados\n",
    "def checkPoint(filename, checkPointHeader, checkPointData):\n",
    "    np.savez(file=filename, header = checkPointHeader, data = checkPointData)\n",
    "    variables = np.load(filename + '.npz')\n",
    "    return(variables)"
   ]
  },
  {
   "cell_type": "markdown",
   "id": "df9f2862",
   "metadata": {},
   "source": [
    "### Carga dos dados\n",
    "\n"
   ]
  },
  {
   "cell_type": "code",
   "execution_count": 5,
   "id": "40824e87",
   "metadata": {},
   "outputs": [
    {
     "name": "stdout",
     "output_type": "stream",
     "text": [
      ".npz\n",
      "catDataCheckPointFinal.npz\n",
      "catDataCheckPoint_1.npz\n",
      "categoricos.npz\n",
      "charData.npz\n",
      "DataMunging com Numpy.ipynb\n",
      "dataset1.csv\n",
      "dataset2.csv\n",
      "dataSetProcessado.csv\n",
      "EstudoCasoNumpy_pratica.ipynb\n",
      "EstudoDeCasoNumpy_pratica1.ipynb\n",
      "EstudoDeCasoNumpy_pratica2.ipynb\n",
      "EstudoDeCasoNumpy_pratica3.ipynb\n",
      "EstudoDeCasoNumpy_pratica_4.ipynb\n",
      "EstudoDeCasoNumpy_pratica_5.ipynb\n",
      "firstCheckPoint.npz\n",
      "numDataCheckPoint.npz\n",
      "numDataCheckPointFinal.npz\n",
      "numDataCheckPoint_1.npz\n",
      "numericData.npz\n",
      "outFile.npz\n",
      "stringDataFinal.npz\n"
     ]
    }
   ],
   "source": [
    "# Listando arquivos do diretório\n",
    "listFiles()"
   ]
  },
  {
   "cell_type": "code",
   "execution_count": 6,
   "id": "181badd4",
   "metadata": {},
   "outputs": [],
   "source": [
    "# Carga\n",
    "dados = np.genfromtxt(fname='dataset1.csv',\n",
    "                      encoding='cp1252',\n",
    "                      delimiter=\";\",\n",
    "                      autostrip=True,\n",
    "                      skip_header=1\n",
    "                      )"
   ]
  },
  {
   "cell_type": "code",
   "execution_count": 7,
   "id": "d5a35307",
   "metadata": {},
   "outputs": [
    {
     "data": {
      "text/plain": [
       "array([[48010226.  ,         nan,    35000.  , ...,         nan,         nan,     9452.96],\n",
       "       [57693261.  ,         nan,    30000.  , ...,         nan,         nan,     4679.7 ],\n",
       "       [59432726.  ,         nan,    15000.  , ...,         nan,         nan,     1969.83],\n",
       "       ...,\n",
       "       [50415990.  ,         nan,    10000.  , ...,         nan,         nan,     2185.64],\n",
       "       [46154151.  ,         nan,         nan, ...,         nan,         nan,     3199.4 ],\n",
       "       [66055249.  ,         nan,    10000.  , ...,         nan,         nan,      301.9 ]])"
      ]
     },
     "execution_count": 7,
     "metadata": {},
     "output_type": "execute_result"
    }
   ],
   "source": [
    "# Visualizando\n",
    "dados.view()"
   ]
  },
  {
   "cell_type": "markdown",
   "id": "e3bd094f",
   "metadata": {},
   "source": [
    "Existem colunas com valorea nan. Para facilitar o tratamento, faremos o split da base em dados numéricos e categóricos."
   ]
  },
  {
   "cell_type": "markdown",
   "id": "edd6e358",
   "metadata": {},
   "source": [
    "#### Tratamento de dados categóricos"
   ]
  },
  {
   "cell_type": "markdown",
   "id": "15b4b459",
   "metadata": {},
   "source": [
    "Identificação das variáveis numéricas e categóricas"
   ]
  },
  {
   "cell_type": "code",
   "execution_count": 8,
   "id": "6f765b81",
   "metadata": {},
   "outputs": [
    {
     "data": {
      "text/plain": [
       "array([54015809.19,         nan,    15273.46,         nan,    15311.04,         nan,       16.62,      440.92,         nan,         nan,         nan,         nan,         nan,     3143.85])"
      ]
     },
     "execution_count": 8,
     "metadata": {},
     "output_type": "execute_result"
    }
   ],
   "source": [
    "# Buscando indices\n",
    "index = np.nanmean(dados, axis=0)\n",
    "index"
   ]
  },
  {
   "cell_type": "code",
   "execution_count": 9,
   "id": "372f4a39",
   "metadata": {},
   "outputs": [
    {
     "data": {
      "text/plain": [
       "array([ 1,  3,  5,  8,  9, 10, 11, 12], dtype=int64)"
      ]
     },
     "execution_count": 9,
     "metadata": {},
     "output_type": "execute_result"
    }
   ],
   "source": [
    "# Identificando indices de variáveis categóricas\n",
    "\n",
    "catIndex = np.argwhere(np.isnan(index)).squeeze()\n",
    "catIndex"
   ]
  },
  {
   "cell_type": "markdown",
   "id": "40cd6efa",
   "metadata": {},
   "source": [
    "Carga dos dados categóricos e labels das variáveis"
   ]
  },
  {
   "cell_type": "code",
   "execution_count": 10,
   "id": "aab85d76",
   "metadata": {},
   "outputs": [
    {
     "data": {
      "text/plain": [
       "array([['May-15', 'Current', '36 months', ..., 'Verified', 'https://www.lendingclub.com/browse/loanDetail.action?loan_id=48010226', 'CA'],\n",
       "       ['', 'Current', '36 months', ..., 'Source Verified', 'https://www.lendingclub.com/browse/loanDetail.action?loan_id=57693261', 'NY'],\n",
       "       ['Sep-15', 'Current', '36 months', ..., 'Verified', 'https://www.lendingclub.com/browse/loanDetail.action?loan_id=59432726', 'PA'],\n",
       "       ...,\n",
       "       ['Jun-15', 'Current', '36 months', ..., 'Source Verified', 'https://www.lendingclub.com/browse/loanDetail.action?loan_id=50415990', 'CA'],\n",
       "       ['Apr-15', 'Current', '36 months', ..., 'Source Verified', 'https://www.lendingclub.com/browse/loanDetail.action?loan_id=46154151', 'OH'],\n",
       "       ['Dec-15', 'Current', '36 months', ..., '', 'https://www.lendingclub.com/browse/loanDetail.action?loan_id=66055249', 'IL']], dtype='<U69')"
      ]
     },
     "execution_count": 10,
     "metadata": {},
     "output_type": "execute_result"
    }
   ],
   "source": [
    "# Carregando dados\n",
    "catData = np.genfromtxt(fname='dataset1.csv',\n",
    "                       encoding='cp1252',\n",
    "                       delimiter=';',\n",
    "                       skip_header=1,\n",
    "                       autostrip=True,\n",
    "                       usecols=catIndex,\n",
    "                       dtype=str)\n",
    "catData.view()"
   ]
  },
  {
   "cell_type": "code",
   "execution_count": 11,
   "id": "d0a9b9d4",
   "metadata": {},
   "outputs": [
    {
     "data": {
      "text/plain": [
       "array(['issue_d', 'loan_status', 'term', 'grade', 'sub_grade', 'verification_status', 'url', 'addr_state'], dtype='<U19')"
      ]
     },
     "execution_count": 11,
     "metadata": {},
     "output_type": "execute_result"
    }
   ],
   "source": [
    "# Carregando labels\n",
    "catDataLabels = np.genfromtxt(fname='dataset1.csv',\n",
    "                       encoding='cp1252',\n",
    "                       delimiter=';',\n",
    "                       skip_footer= dados.shape[0],\n",
    "                       autostrip=True,\n",
    "                       usecols=catIndex,\n",
    "                       dtype=str)\n",
    "catDataLabels.view()"
   ]
  },
  {
   "cell_type": "code",
   "execution_count": 12,
   "id": "d807a018",
   "metadata": {},
   "outputs": [],
   "source": [
    "# Checkpoit dos dados numéricos\n",
    "catDataCheckPoint = checkPoint(filename='catDataCheckPoint_1', checkPointHeader= catDataLabels, checkPointData=catData)"
   ]
  },
  {
   "cell_type": "markdown",
   "id": "d03b2985",
   "metadata": {},
   "source": [
    "**Iniciando tratamento da variáveil de índice = 0**"
   ]
  },
  {
   "cell_type": "code",
   "execution_count": 13,
   "id": "1269fb60",
   "metadata": {},
   "outputs": [
    {
     "data": {
      "text/plain": [
       "'issue_d'"
      ]
     },
     "execution_count": 13,
     "metadata": {},
     "output_type": "execute_result"
    }
   ],
   "source": [
    "# Visualizando\n",
    "catDataLabels[0]"
   ]
  },
  {
   "cell_type": "code",
   "execution_count": 14,
   "id": "91119afb",
   "metadata": {},
   "outputs": [
    {
     "data": {
      "text/plain": [
       "False"
      ]
     },
     "execution_count": 14,
     "metadata": {},
     "output_type": "execute_result"
    }
   ],
   "source": [
    "# Editando\n",
    "catDataLabels[0] == \"issue_date\""
   ]
  },
  {
   "cell_type": "code",
   "execution_count": 15,
   "id": "6d9f96c0",
   "metadata": {},
   "outputs": [
    {
     "data": {
      "text/plain": [
       "array(['May-15', '', 'Sep-15', ..., 'Jun-15', 'Apr-15', 'Dec-15'], dtype='<U69')"
      ]
     },
     "execution_count": 15,
     "metadata": {},
     "output_type": "execute_result"
    }
   ],
   "source": [
    "# Visualizando dados únicos\n",
    "catData[:, 0]"
   ]
  },
  {
   "cell_type": "markdown",
   "id": "ed030d1d",
   "metadata": {},
   "source": [
    "Representam datas com mês e dia. Ficaremos somente com os meses."
   ]
  },
  {
   "cell_type": "code",
   "execution_count": 16,
   "id": "a5012b97",
   "metadata": {},
   "outputs": [
    {
     "data": {
      "text/plain": [
       "array(['', 'Apr', 'Aug', 'Dec', 'Feb', 'Jan', 'Jul', 'Jun', 'Mar', 'May', 'Nov', 'Oct', 'Sep'], dtype='<U69')"
      ]
     },
     "execution_count": 16,
     "metadata": {},
     "output_type": "execute_result"
    }
   ],
   "source": [
    "# Strip dos elementos numéricos\n",
    "catData[:, 0] = np.chararray.strip(catData[:, 0], '-15')\n",
    "\n",
    "#Visualizando\n",
    "np.unique(catData[:, 0])"
   ]
  },
  {
   "cell_type": "markdown",
   "id": "0bf052a6",
   "metadata": {},
   "source": [
    "**Codificação**"
   ]
  },
  {
   "cell_type": "code",
   "execution_count": 17,
   "id": "19b75288",
   "metadata": {},
   "outputs": [],
   "source": [
    "#OBS: as intâncias com valor faltante serão identificadas com = 0\n",
    "\n",
    "# Referência\n",
    "meses = np.array(['', 'Apr', 'Aug', 'Dec', 'Feb', 'Jan', 'Jul', 'Jun', 'Mar', 'May', 'Nov', 'Oct', 'Sep'])\n",
    "\n",
    "#Loop\n",
    "for i in range(0, len(meses)):\n",
    "    \n",
    "    catData[:, 0] = np.where(catData[:, 0] == meses[i], i, catData[:, 0])"
   ]
  },
  {
   "cell_type": "code",
   "execution_count": 18,
   "id": "95886a1d",
   "metadata": {},
   "outputs": [
    {
     "data": {
      "text/plain": [
       "array(['0', '1', '10', '11', '12', '2', '3', '4', '5', '6', '7', '8', '9'], dtype='<U69')"
      ]
     },
     "execution_count": 18,
     "metadata": {},
     "output_type": "execute_result"
    }
   ],
   "source": [
    "# Visualização\n",
    "np.unique(catData[:, 0])"
   ]
  },
  {
   "cell_type": "markdown",
   "id": "6775f7fb",
   "metadata": {},
   "source": [
    "**Iniciando tratamento da variáveil de índice = 1**"
   ]
  },
  {
   "cell_type": "code",
   "execution_count": 19,
   "id": "1211c4f4",
   "metadata": {},
   "outputs": [
    {
     "data": {
      "text/plain": [
       "'loan_status'"
      ]
     },
     "execution_count": 19,
     "metadata": {},
     "output_type": "execute_result"
    }
   ],
   "source": [
    "# Visualização\n",
    "catDataLabels[1]"
   ]
  },
  {
   "cell_type": "code",
   "execution_count": 20,
   "id": "0437bc8c",
   "metadata": {},
   "outputs": [
    {
     "data": {
      "text/plain": [
       "array(['', 'Charged Off', 'Current', 'Default', 'Fully Paid', 'In Grace Period', 'Issued', 'Late (16-30 days)', 'Late (31-120 days)'], dtype='<U69')"
      ]
     },
     "execution_count": 20,
     "metadata": {},
     "output_type": "execute_result"
    }
   ],
   "source": [
    "# Visualização dos dados\n",
    "np.unique(catData[:, 1])"
   ]
  },
  {
   "cell_type": "markdown",
   "id": "777797ff",
   "metadata": {},
   "source": [
    "**Codificação**"
   ]
  },
  {
   "cell_type": "code",
   "execution_count": 21,
   "id": "70b58607",
   "metadata": {},
   "outputs": [],
   "source": [
    "# Empréstimo bom/ruim\n",
    "\n",
    "badLoan = np.array([\" \", \"Charged Off\", \"Default\", \"Late (31-120 days)\"])\n",
    "\n",
    "catData[:, 1] = np.where(np.isin(catData[:, 1], badLoan), 0, 1)"
   ]
  },
  {
   "cell_type": "code",
   "execution_count": 22,
   "id": "cafe84f2",
   "metadata": {},
   "outputs": [
    {
     "data": {
      "text/plain": [
       "array(['0', '1'], dtype='<U69')"
      ]
     },
     "execution_count": 22,
     "metadata": {},
     "output_type": "execute_result"
    }
   ],
   "source": [
    "# Visualização\n",
    "np.unique(catData[:, 1])"
   ]
  },
  {
   "cell_type": "markdown",
   "id": "6a66c7e5",
   "metadata": {},
   "source": [
    "**Iniciando tratamento da variáveil de índice = 2**"
   ]
  },
  {
   "cell_type": "code",
   "execution_count": 23,
   "id": "7976379c",
   "metadata": {},
   "outputs": [
    {
     "data": {
      "text/plain": [
       "'term'"
      ]
     },
     "execution_count": 23,
     "metadata": {},
     "output_type": "execute_result"
    }
   ],
   "source": [
    "#Visualização\n",
    "catDataLabels[2]"
   ]
  },
  {
   "cell_type": "code",
   "execution_count": 24,
   "id": "2be075a4",
   "metadata": {},
   "outputs": [
    {
     "data": {
      "text/plain": [
       "array(['', '36 months', '60 months'], dtype='<U69')"
      ]
     },
     "execution_count": 24,
     "metadata": {},
     "output_type": "execute_result"
    }
   ],
   "source": [
    "# Visualizção dos dados\n",
    "np.unique(catData[:, 2])"
   ]
  },
  {
   "cell_type": "code",
   "execution_count": 25,
   "id": "ad808dee",
   "metadata": {},
   "outputs": [
    {
     "data": {
      "text/plain": [
       "array(['', '36', '60'], dtype='<U69')"
      ]
     },
     "execution_count": 25,
     "metadata": {},
     "output_type": "execute_result"
    }
   ],
   "source": [
    "# Striop dos caracteres\n",
    "catData[:, 2] = np.chararray.strip(catData[:,2], \" months\")\n",
    "\n",
    "#Visualização\n",
    "np.unique(catData[:, 2])"
   ]
  },
  {
   "cell_type": "markdown",
   "id": "3d20e87b",
   "metadata": {},
   "source": [
    "**Codificação**\n",
    "\n",
    "- Neste caso, será necessário somente o preenchimento do valor faltante"
   ]
  },
  {
   "cell_type": "code",
   "execution_count": 26,
   "id": "bc76a7b5",
   "metadata": {},
   "outputs": [
    {
     "data": {
      "text/plain": [
       "array(['36', '60'], dtype='<U69')"
      ]
     },
     "execution_count": 26,
     "metadata": {},
     "output_type": "execute_result"
    }
   ],
   "source": [
    "# Aplicação\n",
    "\n",
    "catData[:, 2] = np.where(catData[:, 2] == \"\", 60, catData[:, 2])\n",
    "\n",
    "#Visualização\n",
    "np.unique(catData[:, 2])"
   ]
  },
  {
   "cell_type": "markdown",
   "id": "2421a037",
   "metadata": {},
   "source": [
    "**Iniciando tratamento das variáveis dos índices = 3 e 4**"
   ]
  },
  {
   "cell_type": "code",
   "execution_count": 27,
   "id": "0abda551",
   "metadata": {},
   "outputs": [
    {
     "name": "stdout",
     "output_type": "stream",
     "text": [
      "grade\n",
      "sub_grade\n"
     ]
    }
   ],
   "source": [
    "# Visualização\n",
    "print(catDataLabels[3])\n",
    "print(catDataLabels[4])"
   ]
  },
  {
   "cell_type": "markdown",
   "id": "468cd010",
   "metadata": {},
   "source": [
    "Na leitura dos dados, antes do carregamento, constatou-se tratar da mesma informação, mas, dispostas de formas diferentes."
   ]
  },
  {
   "cell_type": "code",
   "execution_count": 28,
   "id": "e306016a",
   "metadata": {},
   "outputs": [
    {
     "name": "stdout",
     "output_type": "stream",
     "text": [
      "['' 'A' 'B' 'C' 'D' 'E' 'F' 'G']\n",
      "____________\n",
      "\n",
      "\n",
      "['' 'A1' 'A2' 'A3' 'A4' 'A5' 'B1' 'B2' 'B3' 'B4' 'B5' 'C1' 'C2' 'C3' 'C4' 'C5' 'D1' 'D2' 'D3' 'D4' 'D5' 'E1' 'E2' 'E3' 'E4' 'E5' 'F1' 'F2' 'F3' 'F4' 'F5' 'G1' 'G2' 'G3' 'G4' 'G5']\n"
     ]
    }
   ],
   "source": [
    "print(np.unique(catData[:, 3]))\n",
    "print(\"____________\")\n",
    "print(\"\\n\")\n",
    "print(np.unique(catData[:, 4]))"
   ]
  },
  {
   "cell_type": "markdown",
   "id": "02bf0ce2",
   "metadata": {},
   "source": [
    "Por representar informação mais detalhada, ficaremos com a subgrade.\n",
    "\n",
    "- Vamos preencher o valor faltante da subgrade, criando um numeral = 10, concatenando com a letra correspondente."
   ]
  },
  {
   "cell_type": "code",
   "execution_count": 29,
   "id": "85fa4549",
   "metadata": {},
   "outputs": [],
   "source": [
    "# Preenchimento\n",
    "\n",
    "for i in np.unique(catData[:, 3])[1:]:\n",
    "    \n",
    "    catData[:, 4] = np.where((catData[:, 4] == \"\") & (catData[:, 3] == i), i + \"10\", catData[:, 4])"
   ]
  },
  {
   "cell_type": "code",
   "execution_count": 30,
   "id": "295a4bcf",
   "metadata": {},
   "outputs": [
    {
     "data": {
      "text/plain": [
       "array(['', 'A1', 'A10', 'A2', 'A3', 'A4', 'A5', 'B1', 'B10', 'B2', 'B3', 'B4', 'B5', 'C1', 'C10', 'C2', 'C3', 'C4', 'C5', 'D1', 'D10', 'D2', 'D3', 'D4', 'D5', 'E1', 'E10', 'E2', 'E3', 'E4', 'E5',\n",
       "       'F1', 'F10', 'F2', 'F3', 'F4', 'F5', 'G1', 'G10', 'G2', 'G3', 'G4', 'G5'], dtype='<U69')"
      ]
     },
     "execution_count": 30,
     "metadata": {},
     "output_type": "execute_result"
    }
   ],
   "source": [
    "# Visualização\n",
    "\n",
    "np.unique(catData[:, 4])"
   ]
  },
  {
   "cell_type": "code",
   "execution_count": 31,
   "id": "b7f6de8f",
   "metadata": {},
   "outputs": [
    {
     "data": {
      "text/plain": [
       "array(['A1', 'A10', 'A2', 'A3', 'A4', 'A5', 'B1', 'B10', 'B2', 'B3', 'B4', 'B5', 'C1', 'C10', 'C2', 'C3', 'C4', 'C5', 'D1', 'D10', 'D2', 'D3', 'D4', 'D5', 'E1', 'E10', 'E2', 'E3', 'E4', 'E5', 'F1',\n",
       "       'F10', 'F2', 'F3', 'F4', 'F5', 'G1', 'G10', 'G2', 'G3', 'G4', 'G5', 'H10'], dtype='<U69')"
      ]
     },
     "execution_count": 31,
     "metadata": {},
     "output_type": "execute_result"
    }
   ],
   "source": [
    "# Preenchendo o valor faltante com \"H10\"\n",
    "\n",
    "catData[:, 4] = np.where(catData[:, 4] == \"\", \"H10\", catData[:, 4])\n",
    "\n",
    "# Visualização\n",
    "\n",
    "np.unique(catData[:, 4])"
   ]
  },
  {
   "cell_type": "markdown",
   "id": "a2777cb6",
   "metadata": {},
   "source": [
    "Remoção do array 3 co conjunto de dados e do array de labels"
   ]
  },
  {
   "cell_type": "code",
   "execution_count": 32,
   "id": "96f0a5fd",
   "metadata": {},
   "outputs": [],
   "source": [
    "# Remoção do conjunto de dados\n",
    "catData = np.delete(catData, 3, axis=1)"
   ]
  },
  {
   "cell_type": "code",
   "execution_count": 33,
   "id": "d36d6f77",
   "metadata": {},
   "outputs": [],
   "source": [
    "# Remoção do conjunto de labels\n",
    "catDataLabels = np.delete(catDataLabels, 3)"
   ]
  },
  {
   "cell_type": "markdown",
   "id": "cc268b8b",
   "metadata": {},
   "source": [
    "OBS: agora, a variável sub_grade é a de índice 3."
   ]
  },
  {
   "cell_type": "markdown",
   "id": "0738904f",
   "metadata": {},
   "source": [
    "**Codificação**"
   ]
  },
  {
   "cell_type": "code",
   "execution_count": 34,
   "id": "b702d643",
   "metadata": {},
   "outputs": [
    {
     "data": {
      "text/plain": [
       "{'A1': 1,\n",
       " 'A10': 2,\n",
       " 'A2': 3,\n",
       " 'A3': 4,\n",
       " 'A4': 5,\n",
       " 'A5': 6,\n",
       " 'B1': 7,\n",
       " 'B10': 8,\n",
       " 'B2': 9,\n",
       " 'B3': 10,\n",
       " 'B4': 11,\n",
       " 'B5': 12,\n",
       " 'C1': 13,\n",
       " 'C10': 14,\n",
       " 'C2': 15,\n",
       " 'C3': 16,\n",
       " 'C4': 17,\n",
       " 'C5': 18,\n",
       " 'D1': 19,\n",
       " 'D10': 20,\n",
       " 'D2': 21,\n",
       " 'D3': 22,\n",
       " 'D4': 23,\n",
       " 'D5': 24,\n",
       " 'E1': 25,\n",
       " 'E10': 26,\n",
       " 'E2': 27,\n",
       " 'E3': 28,\n",
       " 'E4': 29,\n",
       " 'E5': 30,\n",
       " 'F1': 31,\n",
       " 'F10': 32,\n",
       " 'F2': 33,\n",
       " 'F3': 34,\n",
       " 'F4': 35,\n",
       " 'F5': 36,\n",
       " 'G1': 37,\n",
       " 'G10': 38,\n",
       " 'G2': 39,\n",
       " 'G3': 40,\n",
       " 'G4': 41,\n",
       " 'G5': 42,\n",
       " 'H10': 43}"
      ]
     },
     "execution_count": 34,
     "metadata": {},
     "output_type": "execute_result"
    }
   ],
   "source": [
    "# Criando dicionário com elementos\n",
    "\n",
    "key = list(np.unique(catData[:, 3]))\n",
    "\n",
    "value = list(range(1, len(np.unique(catData[:, 3]))+1))\n",
    "\n",
    "#Dicionário \n",
    "dictSub_grade = dict(zip(key, value))\n",
    "\n",
    "#Visualização\n",
    "dictSub_grade"
   ]
  },
  {
   "cell_type": "code",
   "execution_count": 35,
   "id": "5e5ffa0b",
   "metadata": {},
   "outputs": [],
   "source": [
    "# Aplicando \n",
    "for i in np.unique(catData[:, 3]):\n",
    "    \n",
    "    catData[:, 3] = np.where(catData[:, 3] == i, dictSub_grade[i], catData[:, 3])"
   ]
  },
  {
   "cell_type": "code",
   "execution_count": 36,
   "id": "51e0438d",
   "metadata": {},
   "outputs": [
    {
     "data": {
      "text/plain": [
       "array(['1', '10', '11', '12', '13', '14', '15', '16', '17', '18', '19', '2', '20', '21', '22', '23', '24', '25', '26', '27', '28', '29', '3', '30', '31', '32', '33', '34', '35', '36', '37', '38',\n",
       "       '39', '4', '40', '41', '42', '43', '5', '6', '7', '8', '9'], dtype='<U69')"
      ]
     },
     "execution_count": 36,
     "metadata": {},
     "output_type": "execute_result"
    }
   ],
   "source": [
    "# Visualização\n",
    "\n",
    "np.unique(catData[:, 3])"
   ]
  },
  {
   "cell_type": "markdown",
   "id": "54103f07",
   "metadata": {},
   "source": [
    "**Iniciando tratamento da variávei do índice = 4**"
   ]
  },
  {
   "cell_type": "code",
   "execution_count": 37,
   "id": "e1858c55",
   "metadata": {},
   "outputs": [
    {
     "data": {
      "text/plain": [
       "'verification_status'"
      ]
     },
     "execution_count": 37,
     "metadata": {},
     "output_type": "execute_result"
    }
   ],
   "source": [
    "# Visualização\n",
    "catDataLabels[4]"
   ]
  },
  {
   "cell_type": "code",
   "execution_count": 38,
   "id": "9a7b1fef",
   "metadata": {},
   "outputs": [
    {
     "data": {
      "text/plain": [
       "array(['', 'Not Verified', 'Source Verified', 'Verified'], dtype='<U69')"
      ]
     },
     "execution_count": 38,
     "metadata": {},
     "output_type": "execute_result"
    }
   ],
   "source": [
    "# Visualização de dados\n",
    "np.unique(catData[:, 4])"
   ]
  },
  {
   "cell_type": "markdown",
   "id": "f6498884",
   "metadata": {},
   "source": [
    "**Codificação**\n",
    "\n",
    "- Ao valor ausente, atribuiremos o status de não verificado = 0"
   ]
  },
  {
   "cell_type": "code",
   "execution_count": 39,
   "id": "ec257cfa",
   "metadata": {},
   "outputs": [],
   "source": [
    "# Aplicando\n",
    "\n",
    "notVerified = np.array(['', \"Not Verified\"])\n",
    "\n",
    "catData[:, 4] = np.where(np.isin(catData[:, 4], notVerified), 0, 1)"
   ]
  },
  {
   "cell_type": "code",
   "execution_count": 40,
   "id": "2fa8e13f",
   "metadata": {},
   "outputs": [
    {
     "data": {
      "text/plain": [
       "array(['0', '1'], dtype='<U69')"
      ]
     },
     "execution_count": 40,
     "metadata": {},
     "output_type": "execute_result"
    }
   ],
   "source": [
    "#Visualizando\n",
    "np.unique(catData[:, 4])"
   ]
  },
  {
   "cell_type": "markdown",
   "id": "7ed4218f",
   "metadata": {},
   "source": [
    "**Iniciando tratamento da variávei do índice = 5**"
   ]
  },
  {
   "cell_type": "code",
   "execution_count": 41,
   "id": "c993977a",
   "metadata": {},
   "outputs": [
    {
     "data": {
      "text/plain": [
       "'url'"
      ]
     },
     "execution_count": 41,
     "metadata": {},
     "output_type": "execute_result"
    }
   ],
   "source": [
    "# Visualizando\n",
    "catDataLabels[5]"
   ]
  },
  {
   "cell_type": "code",
   "execution_count": 42,
   "id": "bd165b64",
   "metadata": {},
   "outputs": [
    {
     "data": {
      "text/plain": [
       "array(['https://www.lendingclub.com/browse/loanDetail.action?loan_id=12606806', 'https://www.lendingclub.com/browse/loanDetail.action?loan_id=13026045',\n",
       "       'https://www.lendingclub.com/browse/loanDetail.action?loan_id=1312426', ..., 'https://www.lendingclub.com/browse/loanDetail.action?loan_id=8138291',\n",
       "       'https://www.lendingclub.com/browse/loanDetail.action?loan_id=8214572', 'https://www.lendingclub.com/browse/loanDetail.action?loan_id=849994'], dtype='<U69')"
      ]
     },
     "execution_count": 42,
     "metadata": {},
     "output_type": "execute_result"
    }
   ],
   "source": [
    "#Visualizando dados\n",
    "np.unique(catData[:, 5])"
   ]
  },
  {
   "cell_type": "code",
   "execution_count": 43,
   "id": "3340ace1",
   "metadata": {},
   "outputs": [
    {
     "data": {
      "text/plain": [
       "array(['12606806', '13026045', '1312426', ..., '8138291', '8214572', '849994'], dtype='<U69')"
      ]
     },
     "execution_count": 43,
     "metadata": {},
     "output_type": "execute_result"
    }
   ],
   "source": [
    "# Strip da url (extração do id=)\n",
    "catData[:, 5] = np.chararray.strip(catData[:, 5], \"https://www.lendingclub.com/browse/loanDetail.action?loan_id=\")\n",
    "\n",
    "# Visualizando\n",
    "np.unique(catData[:, 5])"
   ]
  },
  {
   "cell_type": "markdown",
   "id": "b8bf7f18",
   "metadata": {},
   "source": [
    "OBS: conforme leitura dos dados realizada antes da carga, esta variável parece retornar os mesmos dados que a variável \"id\", que ainda carregaremos na variável de dados numéricos.\n",
    "\n",
    "Por isso, verificamos, após carregar os dados numéricos, se esta variável ainda é necessária."
   ]
  },
  {
   "cell_type": "markdown",
   "id": "b8920fa5",
   "metadata": {},
   "source": [
    "**Iniciando tratamento da variávei do índice = 6**"
   ]
  },
  {
   "cell_type": "code",
   "execution_count": 44,
   "id": "25278b88",
   "metadata": {},
   "outputs": [
    {
     "data": {
      "text/plain": [
       "'addr_state'"
      ]
     },
     "execution_count": 44,
     "metadata": {},
     "output_type": "execute_result"
    }
   ],
   "source": [
    "# Visualização\n",
    "catDataLabels[6]"
   ]
  },
  {
   "cell_type": "code",
   "execution_count": 45,
   "id": "b310718c",
   "metadata": {},
   "outputs": [
    {
     "data": {
      "text/plain": [
       "array(['', 'AK', 'AL', 'AR', 'AZ', 'CA', 'CO', 'CT', 'DC', 'DE', 'FL', 'GA', 'HI', 'IL', 'IN', 'KS', 'KY', 'LA', 'MA', 'MD', 'ME', 'MI', 'MN', 'MO', 'MS', 'MT', 'NC', 'ND', 'NE', 'NH', 'NJ', 'NM',\n",
       "       'NV', 'NY', 'OH', 'OK', 'OR', 'PA', 'RI', 'SC', 'SD', 'TN', 'TX', 'UT', 'VA', 'VT', 'WA', 'WI', 'WV', 'WY'], dtype='<U69')"
      ]
     },
     "execution_count": 45,
     "metadata": {},
     "output_type": "execute_result"
    }
   ],
   "source": [
    "# Dados\n",
    "np.unique(catData[:, 6])"
   ]
  },
  {
   "cell_type": "code",
   "execution_count": 46,
   "id": "e774a7b3",
   "metadata": {},
   "outputs": [
    {
     "data": {
      "text/plain": [
       "array(['0', 'AK', 'AL', 'AR', 'AZ', 'CA', 'CO', 'CT', 'DC', 'DE', 'FL', 'GA', 'HI', 'IL', 'IN', 'KS', 'KY', 'LA', 'MA', 'MD', 'ME', 'MI', 'MN', 'MO', 'MS', 'MT', 'NC', 'ND', 'NE', 'NH', 'NJ', 'NM',\n",
       "       'NV', 'NY', 'OH', 'OK', 'OR', 'PA', 'RI', 'SC', 'SD', 'TN', 'TX', 'UT', 'VA', 'VT', 'WA', 'WI', 'WV', 'WY'], dtype='<U69')"
      ]
     },
     "execution_count": 46,
     "metadata": {},
     "output_type": "execute_result"
    }
   ],
   "source": [
    "# Preenchendo o valor faltante com 0\n",
    "catData[:, 6] = np.where(catData[:, 6] == \"\", 0, catData[:, 6])\n",
    "\n",
    "#  Visualizção\n",
    "np.unique(catData[:, 6])"
   ]
  },
  {
   "cell_type": "markdown",
   "id": "2fa5d8d6",
   "metadata": {},
   "source": [
    "**Codificação**\n",
    "\n",
    "- A codificação será feita de acordo com a região, e não por estado."
   ]
  },
  {
   "cell_type": "code",
   "execution_count": 47,
   "id": "da979522",
   "metadata": {},
   "outputs": [],
   "source": [
    "# Agrupamento estados e regiões\n",
    "\n",
    "states_west = np.array(['WA', 'OR','CA','NV','ID','MT', 'WY','UT','CO', 'AZ','NM','HI','AK'])\n",
    "states_south = np.array(['TX','OK','AR','LA','MS','AL','TN','KY','FL','GA','SC','NC','VA','WV','MD','DE','DC'])\n",
    "states_midwest = np.array(['ND','SD','NE','KS','MN','IA','MO','WI','IL','IN','MI','OH'])\n",
    "states_east = np.array(['PA','NY','NJ','CT','MA','VT','NH','ME','RI'])"
   ]
  },
  {
   "cell_type": "code",
   "execution_count": 48,
   "id": "776d75cd",
   "metadata": {},
   "outputs": [],
   "source": [
    "# Agrupando regiões\n",
    "\n",
    "regions = [states_west, states_south, states_midwest, states_east]"
   ]
  },
  {
   "cell_type": "code",
   "execution_count": 49,
   "id": "6b526b27",
   "metadata": {},
   "outputs": [],
   "source": [
    "# Aplicando loop\n",
    "\n",
    "for i, region in enumerate(regions):\n",
    "    \n",
    "    catData[:, 6] = np.where(np.isin(catData[:, 6], region), i, catData[:, 6])"
   ]
  },
  {
   "cell_type": "code",
   "execution_count": 50,
   "id": "e249d635",
   "metadata": {},
   "outputs": [
    {
     "data": {
      "text/plain": [
       "array(['0', '1', '2', '3'], dtype='<U69')"
      ]
     },
     "execution_count": 50,
     "metadata": {},
     "output_type": "execute_result"
    }
   ],
   "source": [
    "# Visualização\n",
    "np.unique(catData[:, 6])"
   ]
  },
  {
   "cell_type": "markdown",
   "id": "d46b0638",
   "metadata": {},
   "source": [
    "**A codificação dos dados categóricos foi finalizada**\n",
    "\n",
    "- Transformar o tipo dos dados\n",
    "- Fazer um checkPoint"
   ]
  },
  {
   "cell_type": "code",
   "execution_count": 51,
   "id": "76f32efc",
   "metadata": {},
   "outputs": [
    {
     "data": {
      "text/plain": [
       "array([['9', '1', '36', ..., '1', '48010226', '0'],\n",
       "       ['0', '1', '36', ..., '1', '57693261', '3'],\n",
       "       ['12', '1', '36', ..., '1', '59432726', '3'],\n",
       "       ...,\n",
       "       ['7', '1', '36', ..., '1', '50415990', '0'],\n",
       "       ['1', '1', '36', ..., '1', '46154151', '2'],\n",
       "       ['3', '1', '36', ..., '0', '66055249', '2']], dtype='<U69')"
      ]
     },
     "execution_count": 51,
     "metadata": {},
     "output_type": "execute_result"
    }
   ],
   "source": [
    "# Visualização\n",
    "catData.view()"
   ]
  },
  {
   "cell_type": "code",
   "execution_count": 52,
   "id": "a1f6319d",
   "metadata": {},
   "outputs": [
    {
     "data": {
      "text/plain": [
       "dtype('int64')"
      ]
     },
     "execution_count": 52,
     "metadata": {},
     "output_type": "execute_result"
    }
   ],
   "source": [
    "# Transfornmação\n",
    "\n",
    "catData = catData.astype(dtype = 'int64')\n",
    "\n",
    "# Visualização\n",
    "catData.dtype"
   ]
  },
  {
   "cell_type": "code",
   "execution_count": 53,
   "id": "1e996368",
   "metadata": {},
   "outputs": [],
   "source": [
    "# checkPOint\n",
    "\n",
    "catDataCheckPointFinal = checkPoint(filename='catDataCheckPointFinal', checkPointHeader=catDataLabels, checkPointData=catData)"
   ]
  },
  {
   "cell_type": "code",
   "execution_count": 54,
   "id": "fc2f5dc7",
   "metadata": {},
   "outputs": [
    {
     "data": {
      "text/plain": [
       "array([[       9,        1,       36, ...,        1, 48010226,        0],\n",
       "       [       0,        1,       36, ...,        1, 57693261,        3],\n",
       "       [      12,        1,       36, ...,        1, 59432726,        3],\n",
       "       ...,\n",
       "       [       7,        1,       36, ...,        1, 50415990,        0],\n",
       "       [       1,        1,       36, ...,        1, 46154151,        2],\n",
       "       [       3,        1,       36, ...,        0, 66055249,        2]], dtype=int64)"
      ]
     },
     "execution_count": 54,
     "metadata": {},
     "output_type": "execute_result"
    }
   ],
   "source": [
    "# visualizando checkPointData\n",
    "catDataCheckPointFinal['data']"
   ]
  },
  {
   "cell_type": "code",
   "execution_count": 55,
   "id": "8d416877",
   "metadata": {},
   "outputs": [
    {
     "data": {
      "text/plain": [
       "array(['issue_d', 'loan_status', 'term', 'sub_grade', 'verification_status', 'url', 'addr_state'], dtype='<U19')"
      ]
     },
     "execution_count": 55,
     "metadata": {},
     "output_type": "execute_result"
    }
   ],
   "source": [
    "# Visualizando headers\n",
    "catDataCheckPointFinal['header']"
   ]
  },
  {
   "cell_type": "markdown",
   "id": "16e1b884",
   "metadata": {},
   "source": [
    "#### Tratamento de dados numéricos"
   ]
  },
  {
   "cell_type": "code",
   "execution_count": 56,
   "id": "12bed0a3",
   "metadata": {},
   "outputs": [
    {
     "data": {
      "text/plain": [
       "array([ 0,  2,  4,  6,  7, 13], dtype=int64)"
      ]
     },
     "execution_count": 56,
     "metadata": {},
     "output_type": "execute_result"
    }
   ],
   "source": [
    "# Identificando indices de variáveis numéricas\n",
    "\n",
    "numIndex = np.argwhere(np.isnan(index) == False).squeeze()\n",
    "numIndex"
   ]
  },
  {
   "cell_type": "markdown",
   "id": "c6fa1a42",
   "metadata": {},
   "source": [
    "Carga dos dados e labels"
   ]
  },
  {
   "cell_type": "code",
   "execution_count": 57,
   "id": "0c755fa8",
   "metadata": {},
   "outputs": [
    {
     "data": {
      "text/plain": [
       "array([[48010226.  ,    35000.  ,    35000.  ,       13.33,     1184.86,     9452.96],\n",
       "       [57693261.  ,    30000.  ,    30000.  ,         nan,      938.57,     4679.7 ],\n",
       "       [59432726.  ,    15000.  ,    15000.  ,         nan,      494.86,     1969.83],\n",
       "       ...,\n",
       "       [50415990.  ,    10000.  ,    10000.  ,         nan,         nan,     2185.64],\n",
       "       [46154151.  ,         nan,    10000.  ,       16.55,      354.3 ,     3199.4 ],\n",
       "       [66055249.  ,    10000.  ,    10000.  ,         nan,      309.97,      301.9 ]])"
      ]
     },
     "execution_count": 57,
     "metadata": {},
     "output_type": "execute_result"
    }
   ],
   "source": [
    "# Carregando dados\n",
    "numData = np.genfromtxt(fname='dataset1.csv',\n",
    "                       encoding='cp1252',\n",
    "                       delimiter=';',\n",
    "                       skip_header=1,\n",
    "                       autostrip=True,\n",
    "                       usecols=numIndex)\n",
    "numData.view()"
   ]
  },
  {
   "cell_type": "markdown",
   "id": "e3cdd953",
   "metadata": {},
   "source": [
    "Os dados possuem nan. Para manter a estrutura, até a junção dos dados, atribuíremos um valor arbitrário aos nan's, e, depois, será tratados"
   ]
  },
  {
   "cell_type": "code",
   "execution_count": 58,
   "id": "387b4c12",
   "metadata": {},
   "outputs": [
    {
     "data": {
      "text/plain": [
       "137233038.0"
      ]
     },
     "execution_count": 58,
     "metadata": {},
     "output_type": "execute_result"
    }
   ],
   "source": [
    "# Obtendo valor arbitrário\n",
    "arbitrario = np.nanmax(dados) *2\n",
    "arbitrario"
   ]
  },
  {
   "cell_type": "code",
   "execution_count": 59,
   "id": "ba7797d5",
   "metadata": {},
   "outputs": [
    {
     "data": {
      "text/plain": [
       "array([[4.80e+07, 3.50e+04, 3.50e+04, 1.33e+01, 1.18e+03, 9.45e+03],\n",
       "       [5.77e+07, 3.00e+04, 3.00e+04, 1.37e+08, 9.39e+02, 4.68e+03],\n",
       "       [5.94e+07, 1.50e+04, 1.50e+04, 1.37e+08, 4.95e+02, 1.97e+03],\n",
       "       ...,\n",
       "       [5.04e+07, 1.00e+04, 1.00e+04, 1.37e+08, 1.37e+08, 2.19e+03],\n",
       "       [4.62e+07, 1.37e+08, 1.00e+04, 1.66e+01, 3.54e+02, 3.20e+03],\n",
       "       [6.61e+07, 1.00e+04, 1.00e+04, 1.37e+08, 3.10e+02, 3.02e+02]])"
      ]
     },
     "execution_count": 59,
     "metadata": {},
     "output_type": "execute_result"
    }
   ],
   "source": [
    "# Recarga dos dados, com preenchimento de valores\n",
    "\n",
    "numData = np.genfromtxt(fname='dataset1.csv',\n",
    "                       encoding='cp1252',\n",
    "                       delimiter=';',\n",
    "                       skip_header=1,\n",
    "                       autostrip=True,\n",
    "                       usecols=numIndex,\n",
    "                       filling_values=arbitrario)\n",
    "\n",
    "#Visualização\n",
    "numData.view()"
   ]
  },
  {
   "cell_type": "code",
   "execution_count": 60,
   "id": "8ddb9b20",
   "metadata": {},
   "outputs": [
    {
     "data": {
      "text/plain": [
       "0"
      ]
     },
     "execution_count": 60,
     "metadata": {},
     "output_type": "execute_result"
    }
   ],
   "source": [
    "# Conferindo\n",
    "np.isnan(numData).sum()"
   ]
  },
  {
   "cell_type": "code",
   "execution_count": 61,
   "id": "f6fde75d",
   "metadata": {},
   "outputs": [
    {
     "data": {
      "text/plain": [
       "0"
      ]
     },
     "execution_count": 61,
     "metadata": {},
     "output_type": "execute_result"
    }
   ],
   "source": [
    "# Conferindo se o id foi preenchido com valor arbitrário\n",
    "\n",
    "np.isin(numData[:, 0], arbitrario).sum()"
   ]
  },
  {
   "cell_type": "markdown",
   "id": "5b1aed2a",
   "metadata": {},
   "source": [
    "Carregando labels dos dados numéricos"
   ]
  },
  {
   "cell_type": "code",
   "execution_count": 62,
   "id": "ec2479e6",
   "metadata": {},
   "outputs": [
    {
     "data": {
      "text/plain": [
       "array(['id', 'loan_amnt', 'funded_amnt', 'int_rate', 'installment', 'total_pymnt'], dtype='<U11')"
      ]
     },
     "execution_count": 62,
     "metadata": {},
     "output_type": "execute_result"
    }
   ],
   "source": [
    "# Carregando labels\n",
    "numDataLabels = np.genfromtxt(fname='dataset1.csv',\n",
    "                       encoding='cp1252',\n",
    "                       delimiter=';',\n",
    "                       skip_footer= dados.shape[0],\n",
    "                       autostrip=True,\n",
    "                       usecols=numIndex,\n",
    "                       dtype=str)\n",
    "numDataLabels.view()"
   ]
  },
  {
   "cell_type": "code",
   "execution_count": 63,
   "id": "c4fbc434",
   "metadata": {},
   "outputs": [],
   "source": [
    "# CheckPoint\n",
    "\n",
    "numDataCheckPoint = checkPoint(filename=\"numDataCheckPoint\", checkPointHeader=numDataLabels, checkPointData= numData)"
   ]
  },
  {
   "cell_type": "markdown",
   "id": "3ad78fef",
   "metadata": {},
   "source": [
    "**Iniciando tratamento do valor arbitrário**"
   ]
  },
  {
   "cell_type": "code",
   "execution_count": 64,
   "id": "185a9271",
   "metadata": {},
   "outputs": [
    {
     "data": {
      "text/plain": [
       "array([[68616519.  ,         nan,    35000.  ,         nan,    35000.  ,         nan,       28.99,     1372.97,         nan,         nan,         nan,         nan,         nan,    41913.62],\n",
       "       [54015809.19,         nan,    15273.46,         nan,    15311.04,         nan,       16.62,      440.92,         nan,         nan,         nan,         nan,         nan,     3143.85],\n",
       "       [  373332.  ,         nan,     1000.  ,         nan,     1000.  ,         nan,        6.  ,       31.42,         nan,         nan,         nan,         nan,         nan,        0.  ]])"
      ]
     },
     "execution_count": 64,
     "metadata": {},
     "output_type": "execute_result"
    }
   ],
   "source": [
    "# Calculando estatísticas\n",
    "\n",
    "estatisticas = np.array([np.nanmax(dados, axis = 0), index, np.nanmin(dados, axis= 0)])\n",
    "\n",
    "#Visualizando\n",
    "estatisticas"
   ]
  },
  {
   "cell_type": "code",
   "execution_count": 65,
   "id": "8e94db8c",
   "metadata": {},
   "outputs": [
    {
     "data": {
      "text/plain": [
       "array([[68616519.  ,    35000.  ,    35000.  ,       28.99,     1372.97,    41913.62],\n",
       "       [54015809.19,    15273.46,    15311.04,       16.62,      440.92,     3143.85],\n",
       "       [  373332.  ,     1000.  ,     1000.  ,        6.  ,       31.42,        0.  ]])"
      ]
     },
     "execution_count": 65,
     "metadata": {},
     "output_type": "execute_result"
    }
   ],
   "source": [
    "# Filtrando - variáveis numéricas\n",
    "estatisticas = estatisticas[:, numIndex]\n",
    "\n",
    "#Visualização - retirando o id\n",
    "estatisticas"
   ]
  },
  {
   "cell_type": "code",
   "execution_count": 66,
   "id": "eede7d3b",
   "metadata": {},
   "outputs": [
    {
     "data": {
      "text/plain": [
       "(3, 6)"
      ]
     },
     "execution_count": 66,
     "metadata": {},
     "output_type": "execute_result"
    }
   ],
   "source": [
    "estatisticas.shape"
   ]
  },
  {
   "cell_type": "markdown",
   "id": "db841c3b",
   "metadata": {},
   "source": [
    "**Substituição do valor arbitrário**"
   ]
  },
  {
   "cell_type": "code",
   "execution_count": 67,
   "id": "5ae6c7da",
   "metadata": {},
   "outputs": [],
   "source": [
    "for i in [1,2,3,4, 5]:\n",
    "    \n",
    "    numData[:, i] = np.where(numData[:, i] == arbitrario,\n",
    "                            estatisticas[randint(0,2),[i]],\n",
    "                            numData[:, i])"
   ]
  },
  {
   "cell_type": "code",
   "execution_count": 68,
   "id": "0e5e803a",
   "metadata": {},
   "outputs": [
    {
     "data": {
      "text/plain": [
       "array([[48010226.  ,    35000.  ,    35000.  ,       13.33,     1184.86,     9452.96],\n",
       "       [57693261.  ,    30000.  ,    30000.  ,       28.99,      938.57,     4679.7 ],\n",
       "       [59432726.  ,    15000.  ,    15000.  ,       28.99,      494.86,     1969.83],\n",
       "       ...,\n",
       "       [50415990.  ,    10000.  ,    10000.  ,       28.99,      440.92,     2185.64],\n",
       "       [46154151.  ,    35000.  ,    10000.  ,       16.55,      354.3 ,     3199.4 ],\n",
       "       [66055249.  ,    10000.  ,    10000.  ,       28.99,      309.97,      301.9 ]])"
      ]
     },
     "execution_count": 68,
     "metadata": {},
     "output_type": "execute_result"
    }
   ],
   "source": [
    "# Visualização\n",
    "numData.view()"
   ]
  },
  {
   "cell_type": "code",
   "execution_count": 69,
   "id": "690ae7c9",
   "metadata": {},
   "outputs": [
    {
     "data": {
      "text/plain": [
       "array([0, 0, 0, 0, 0, 0])"
      ]
     },
     "execution_count": 69,
     "metadata": {},
     "output_type": "execute_result"
    }
   ],
   "source": [
    "np.isin(numData, arbitrario).sum(axis = 0)"
   ]
  },
  {
   "cell_type": "markdown",
   "id": "560a340b",
   "metadata": {},
   "source": [
    "**O tratamento das variáveis numéricas terminou**\n",
    "\n",
    "- formato dos dados\n",
    "- checkPoint dos dados"
   ]
  },
  {
   "cell_type": "code",
   "execution_count": 70,
   "id": "caf062d3",
   "metadata": {},
   "outputs": [],
   "source": [
    "# checkPoint\n",
    "numDataCheckPointFinal = checkPoint(filename='numDataCheckPointFinal', checkPointHeader=numDataLabels, checkPointData=numData)"
   ]
  },
  {
   "cell_type": "code",
   "execution_count": 71,
   "id": "58288fcf",
   "metadata": {},
   "outputs": [
    {
     "name": "stdout",
     "output_type": "stream",
     "text": [
      "[[48010226.      35000.      35000.         13.33     1184.86     9452.96]\n",
      " [57693261.      30000.      30000.         28.99      938.57     4679.7 ]\n",
      " [59432726.      15000.      15000.         28.99      494.86     1969.83]\n",
      " ...\n",
      " [50415990.      10000.      10000.         28.99      440.92     2185.64]\n",
      " [46154151.      35000.      10000.         16.55      354.3      3199.4 ]\n",
      " [66055249.      10000.      10000.         28.99      309.97      301.9 ]]\n",
      "________\n",
      "\n",
      "['id' 'loan_amnt' 'funded_amnt' 'int_rate' 'installment' 'total_pymnt']\n"
     ]
    }
   ],
   "source": [
    "# Conferindo\n",
    "\n",
    "print(numDataCheckPointFinal['data'])\n",
    "print(\"________\\n\")\n",
    "print(numDataCheckPointFinal['header'])"
   ]
  },
  {
   "cell_type": "markdown",
   "id": "bb9973b4",
   "metadata": {},
   "source": [
    "### Preparação do dataset final\n",
    "\n"
   ]
  },
  {
   "cell_type": "code",
   "execution_count": 72,
   "id": "16f581a6",
   "metadata": {},
   "outputs": [
    {
     "data": {
      "text/plain": [
       "True"
      ]
     },
     "execution_count": 72,
     "metadata": {},
     "output_type": "execute_result"
    }
   ],
   "source": [
    "# Conferindo variáveis duplicadas\n",
    "\n",
    "np.all(np.equal(catDataCheckPointFinal['data'][:, 5].astype(float), numDataCheckPointFinal['data'][:, 0]))"
   ]
  },
  {
   "cell_type": "markdown",
   "id": "ab92ed80",
   "metadata": {},
   "source": [
    "A comparação retornou que os arrays são identicos, portanto, eliminaremos o array de indice 5 do array de categorias."
   ]
  },
  {
   "cell_type": "code",
   "execution_count": 73,
   "id": "65423d1e",
   "metadata": {},
   "outputs": [
    {
     "data": {
      "text/plain": [
       "array([[ 9,  1, 36, 16,  1,  0],\n",
       "       [ 0,  1, 36,  6,  1,  3],\n",
       "       [12,  1, 36, 12,  1,  3],\n",
       "       ...,\n",
       "       [ 7,  1, 36,  6,  1,  0],\n",
       "       [ 1,  1, 36, 21,  1,  2],\n",
       "       [ 3,  1, 36,  5,  0,  2]], dtype=int64)"
      ]
     },
     "execution_count": 73,
     "metadata": {},
     "output_type": "execute_result"
    }
   ],
   "source": [
    "# Deletando direto no checkPoint - dados\n",
    "catDataFinal = np.delete(catDataCheckPointFinal['data'], 5, axis = 1)\n",
    "\n",
    "# Visualização\n",
    "catDataFinal.view()"
   ]
  },
  {
   "cell_type": "code",
   "execution_count": 74,
   "id": "f42d0b44",
   "metadata": {},
   "outputs": [
    {
     "data": {
      "text/plain": [
       "array(['issue_d', 'loan_status', 'term', 'sub_grade', 'verification_status', 'addr_state'], dtype='<U19')"
      ]
     },
     "execution_count": 74,
     "metadata": {},
     "output_type": "execute_result"
    }
   ],
   "source": [
    "# Deletando direto no checkPoint - header\n",
    "catDataLabelsFinal = np.delete(catDataCheckPointFinal['header'], 5)\n",
    "\n",
    "#Visualização\n",
    "catDataLabelsFinal"
   ]
  },
  {
   "cell_type": "code",
   "execution_count": 75,
   "id": "42d2e13d",
   "metadata": {},
   "outputs": [],
   "source": [
    "# Arrays numéricos\n",
    "numDataFinal = numDataCheckPointFinal['data']\n",
    "numDataLabelsFinal = numDataCheckPointFinal['header']"
   ]
  },
  {
   "cell_type": "code",
   "execution_count": 76,
   "id": "8617bd23",
   "metadata": {},
   "outputs": [
    {
     "data": {
      "text/plain": [
       "(6,)"
      ]
     },
     "execution_count": 76,
     "metadata": {},
     "output_type": "execute_result"
    }
   ],
   "source": [
    "catDataLabelsFinal.shape"
   ]
  },
  {
   "cell_type": "code",
   "execution_count": 77,
   "id": "c053d52e",
   "metadata": {},
   "outputs": [
    {
     "data": {
      "text/plain": [
       "array(['id', 'loan_amnt', 'funded_amnt', 'int_rate', 'installment', 'total_pymnt'], dtype='<U11')"
      ]
     },
     "execution_count": 77,
     "metadata": {},
     "output_type": "execute_result"
    }
   ],
   "source": [
    "numDataLabelsFinal"
   ]
  },
  {
   "cell_type": "markdown",
   "id": "5f4ba68c",
   "metadata": {},
   "source": [
    "**Iniciando união dos datasets**"
   ]
  },
  {
   "cell_type": "code",
   "execution_count": 78,
   "id": "2984d153",
   "metadata": {},
   "outputs": [
    {
     "name": "stdout",
     "output_type": "stream",
     "text": [
      "Arrays numéricos: \n",
      "\n",
      "(10000, 6)\n",
      "Arrays categorias: \n",
      "\n",
      "(10000, 6)\n"
     ]
    }
   ],
   "source": [
    "# Condefindo dimensões\n",
    "print(\"Arrays numéricos: \\n\")\n",
    "print(numDataFinal.shape)\n",
    "print(\"Arrays categorias: \\n\")\n",
    "print(catDataFinal.shape)"
   ]
  },
  {
   "cell_type": "code",
   "execution_count": 79,
   "id": "12ed30fd",
   "metadata": {},
   "outputs": [
    {
     "data": {
      "text/plain": [
       "array([[48010226.,    35000.,    35000., ...,       16.,        1.,        0.],\n",
       "       [57693261.,    30000.,    30000., ...,        6.,        1.,        3.],\n",
       "       [59432726.,    15000.,    15000., ...,       12.,        1.,        3.],\n",
       "       ...,\n",
       "       [50415990.,    10000.,    10000., ...,        6.,        1.,        0.],\n",
       "       [46154151.,    35000.,    10000., ...,       21.,        1.,        2.],\n",
       "       [66055249.,    10000.,    10000., ...,        5.,        0.,        2.]])"
      ]
     },
     "execution_count": 79,
     "metadata": {},
     "output_type": "execute_result"
    }
   ],
   "source": [
    "#Aplicando\n",
    "datasetFinal = np.hstack((numDataFinal, catDataFinal))\n",
    "\n",
    "#Visualizando\n",
    "datasetFinal.view()"
   ]
  },
  {
   "cell_type": "code",
   "execution_count": 80,
   "id": "839c01da",
   "metadata": {},
   "outputs": [
    {
     "data": {
      "text/plain": [
       "array(['id', 'loan_amnt', 'funded_amnt', 'int_rate', 'installment', 'total_pymnt', 'issue_d', 'loan_status', 'term', 'sub_grade', 'verification_status', 'addr_state'], dtype='<U19')"
      ]
     },
     "execution_count": 80,
     "metadata": {},
     "output_type": "execute_result"
    }
   ],
   "source": [
    "# Concatenando headers\n",
    "dataLabelsFinal = np.concatenate((numDataLabelsFinal, catDataLabelsFinal))\n",
    "\n",
    "#Visualização\n",
    "dataLabelsFinal"
   ]
  },
  {
   "cell_type": "code",
   "execution_count": 81,
   "id": "b9fd70d6",
   "metadata": {},
   "outputs": [],
   "source": [
    "# Ordenando dataset pelo id\n",
    "datasetFinal = datasetFinal[np.argsort(datasetFinal[:, 0])]"
   ]
  },
  {
   "cell_type": "code",
   "execution_count": 82,
   "id": "264151fe",
   "metadata": {},
   "outputs": [
    {
     "data": {
      "text/plain": [
       "(10000, 12)"
      ]
     },
     "execution_count": 82,
     "metadata": {},
     "output_type": "execute_result"
    }
   ],
   "source": [
    "datasetFinal.shape"
   ]
  },
  {
   "cell_type": "code",
   "execution_count": 83,
   "id": "11267485",
   "metadata": {},
   "outputs": [
    {
     "data": {
      "text/plain": [
       "(12,)"
      ]
     },
     "execution_count": 83,
     "metadata": {},
     "output_type": "execute_result"
    }
   ],
   "source": [
    "dataLabelsFinal.shape"
   ]
  },
  {
   "cell_type": "code",
   "execution_count": 84,
   "id": "de15a034",
   "metadata": {},
   "outputs": [],
   "source": [
    "# concatennando labels com dados\n",
    "datasetFinal = np.vstack((dataLabelsFinal, datasetFinal))"
   ]
  },
  {
   "cell_type": "markdown",
   "id": "af44f257",
   "metadata": {},
   "source": [
    "## Persistindo dados"
   ]
  },
  {
   "cell_type": "code",
   "execution_count": 86,
   "id": "3f2389a6",
   "metadata": {},
   "outputs": [],
   "source": [
    "# em formato .csv\n",
    "\n",
    "np.savetxt(\"datasetFinal.csv\",\n",
    "          datasetFinal,\n",
    "          delimiter=\",\",\n",
    "          fmt=\"%s\")"
   ]
  },
  {
   "cell_type": "code",
   "execution_count": null,
   "id": "be48a6a6",
   "metadata": {},
   "outputs": [],
   "source": []
  }
 ],
 "metadata": {
  "kernelspec": {
   "display_name": "Python 3 (ipykernel)",
   "language": "python",
   "name": "python3"
  },
  "language_info": {
   "codemirror_mode": {
    "name": "ipython",
    "version": 3
   },
   "file_extension": ".py",
   "mimetype": "text/x-python",
   "name": "python",
   "nbconvert_exporter": "python",
   "pygments_lexer": "ipython3",
   "version": "3.11.3"
  }
 },
 "nbformat": 4,
 "nbformat_minor": 5
}
