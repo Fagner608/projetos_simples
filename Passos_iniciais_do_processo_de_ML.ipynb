{
  "nbformat": 4,
  "nbformat_minor": 0,
  "metadata": {
    "colab": {
      "provenance": [],
      "authorship_tag": "ABX9TyMe1wR07bawKcFHtTeqQuxd",
      "include_colab_link": true
    },
    "kernelspec": {
      "name": "python3",
      "display_name": "Python 3"
    },
    "language_info": {
      "name": "python"
    }
  },
  "cells": [
    {
      "cell_type": "markdown",
      "metadata": {
        "id": "view-in-github",
        "colab_type": "text"
      },
      "source": [
        "<a href=\"https://colab.research.google.com/github/Fagner608/projetos_simples/blob/main/Passos_iniciais_do_processo_de_ML.ipynb\" target=\"_parent\"><img src=\"https://colab.research.google.com/assets/colab-badge.svg\" alt=\"Open In Colab\"/></a>"
      ]
    },
    {
      "cell_type": "markdown",
      "source": [
        "## Passos iniciais do processo de ML"
      ],
      "metadata": {
        "id": "HIJNRh1liQd4"
      }
    },
    {
      "cell_type": "markdown",
      "source": [
        "### 1. Definição do problema\n",
        "\n",
        "Definição precisa do problema, ou problemas, a serem respondidos."
      ],
      "metadata": {
        "id": "G3F1xq19iZLx"
      }
    },
    {
      "cell_type": "markdown",
      "source": [
        "### 2. Verificação dos dados\n",
        "\n",
        "É preciso saber se há dados disponíveis."
      ],
      "metadata": {
        "id": "eFQ-7JwomhWB"
      }
    },
    {
      "cell_type": "markdown",
      "source": [
        "### 3. Análise dos dados\n",
        "\n",
        "Uma rápida observada, a fim de verificar se os dados podem responder às questões levantadas na definição do problema."
      ],
      "metadata": {
        "id": "29Dl9FFMiZQ4"
      }
    },
    {
      "cell_type": "markdown",
      "source": [
        "### 4. Modelagem\n",
        "\n",
        "Observar os algoritmos disponíveis, e seus parâmetros para o treinamento."
      ],
      "metadata": {
        "id": "jRq-27MIiZTR"
      }
    },
    {
      "cell_type": "markdown",
      "source": [
        "### 5. Avaliação\n",
        "\n",
        "Definir as métricas. Este processo é iterativo com a modelagem."
      ],
      "metadata": {
        "id": "6IR4clnQiZVg"
      }
    },
    {
      "cell_type": "markdown",
      "source": [
        "### 6. Deploy\n",
        "\n",
        "Representação do resultado."
      ],
      "metadata": {
        "id": "B8aD71TxiZYA"
      }
    },
    {
      "cell_type": "markdown",
      "source": [],
      "metadata": {
        "id": "TBiDi6iviZao"
      }
    }
  ]
}