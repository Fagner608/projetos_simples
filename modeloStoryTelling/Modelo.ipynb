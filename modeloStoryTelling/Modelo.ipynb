{
  "nbformat": 4,
  "nbformat_minor": 0,
  "metadata": {
    "colab": {
      "provenance": [],
      "toc_visible": true
    },
    "kernelspec": {
      "name": "python3",
      "display_name": "Python 3"
    },
    "language_info": {
      "name": "python"
    }
  },
  "cells": [
    {
      "cell_type": "markdown",
      "source": [
        "# Título do projeto:"
      ],
      "metadata": {
        "id": "VyEkoSDTLXFd"
      }
    },
    {
      "cell_type": "markdown",
      "source": [
        "# Introdução"
      ],
      "metadata": {
        "id": "u6KSlOpXLjLG"
      }
    },
    {
      "cell_type": "markdown",
      "source": [
        "## Sobre o cojunto de dados."
      ],
      "metadata": {
        "id": "VKviWkPgLnaW"
      }
    },
    {
      "cell_type": "markdown",
      "source": [
        "- Fonte:\n",
        "\n",
        "\n",
        "- Descrição:"
      ],
      "metadata": {
        "id": "10gJPyISLtz8"
      }
    },
    {
      "cell_type": "markdown",
      "source": [
        "## Motivação"
      ],
      "metadata": {
        "id": "ajuathqkLx21"
      }
    },
    {
      "cell_type": "markdown",
      "source": [
        "## Dicionário de dados"
      ],
      "metadata": {
        "id": "ARkjsPsPL7um"
      }
    },
    {
      "cell_type": "markdown",
      "source": [
        "# Projeto"
      ],
      "metadata": {
        "id": "bZi-GPlKL-et"
      }
    },
    {
      "cell_type": "markdown",
      "source": [
        "## **Definição do problema**"
      ],
      "metadata": {
        "id": "uiAotlyRMW6V"
      }
    },
    {
      "cell_type": "markdown",
      "source": [
        "- Qual é a varidade de dados disponíveis: DW, ETL's internos, DB. Como podem ser acessados? Qual é o time frame disponível?\n",
        "\n",
        "- Quais dados não estão disponíveis: endereço, CPF, idade, etc.\n",
        "\n",
        "- Quais dados não serão necessários"
      ],
      "metadata": {
        "id": "FKT7GkilMcOG"
      }
    },
    {
      "cell_type": "markdown",
      "source": [
        "## Bibliotecas"
      ],
      "metadata": {
        "id": "AeenwxYCMDiG"
      }
    },
    {
      "cell_type": "code",
      "execution_count": null,
      "metadata": {
        "id": "ZnmUfnUmLTMa"
      },
      "outputs": [],
      "source": []
    },
    {
      "cell_type": "markdown",
      "source": [
        "## Funções"
      ],
      "metadata": {
        "id": "Pj_F3nE9MFgE"
      }
    },
    {
      "cell_type": "code",
      "source": [],
      "metadata": {
        "id": "F3R-3PK4MGsO"
      },
      "execution_count": null,
      "outputs": []
    },
    {
      "cell_type": "markdown",
      "source": [
        "## Dicionário de funções"
      ],
      "metadata": {
        "id": "b2tiD3J_MG_H"
      }
    },
    {
      "cell_type": "markdown",
      "source": [],
      "metadata": {
        "id": "bdhPToYxMOFl"
      }
    },
    {
      "cell_type": "markdown",
      "source": [
        "## Carga dos dados\n",
        "\n",
        "- Conferência: carga no formato correto, possibilidade de conversão para dataframe."
      ],
      "metadata": {
        "id": "1Zn-PPo8MPGm"
      }
    },
    {
      "cell_type": "code",
      "source": [],
      "metadata": {
        "id": "nUBf0evnMSHm"
      },
      "execution_count": null,
      "outputs": []
    },
    {
      "cell_type": "markdown",
      "source": [
        "## Data Wrangling"
      ],
      "metadata": {
        "id": "hlxUTRhyWF3k"
      }
    },
    {
      "cell_type": "markdown",
      "source": [
        "### Análise exploratória"
      ],
      "metadata": {
        "id": "xXXCrCdTWKEL"
      }
    },
    {
      "cell_type": "markdown",
      "source": [
        "#### Bussiness Inteligence"
      ],
      "metadata": {
        "id": "cy1rzGlaWfKA"
      }
    },
    {
      "cell_type": "code",
      "source": [],
      "metadata": {
        "id": "m4l5lrUtWc74"
      },
      "execution_count": null,
      "outputs": []
    },
    {
      "cell_type": "markdown",
      "source": [
        "#### Estatística"
      ],
      "metadata": {
        "id": "CUkcIs4ZWKBi"
      }
    },
    {
      "cell_type": "markdown",
      "source": [
        "##### Dados numéricos"
      ],
      "metadata": {
        "id": "WkCqhaZWcKb8"
      }
    },
    {
      "cell_type": "markdown",
      "source": [
        "###### Análise univariada (estatísticas)"
      ],
      "metadata": {
        "id": "JMR-8I_CcKRU"
      }
    },
    {
      "cell_type": "markdown",
      "source": [
        "- Medidas de tendência central"
      ],
      "metadata": {
        "id": "WxLcMxoccJ1t"
      }
    },
    {
      "cell_type": "code",
      "source": [],
      "metadata": {
        "id": "iyd4KOMPWHZE"
      },
      "execution_count": null,
      "outputs": []
    },
    {
      "cell_type": "markdown",
      "source": [
        "- Medidas de dispersão"
      ],
      "metadata": {
        "id": "PbeA8Rzueefp"
      }
    },
    {
      "cell_type": "code",
      "source": [],
      "metadata": {
        "id": "4SA9ciV1egq_"
      },
      "execution_count": null,
      "outputs": []
    },
    {
      "cell_type": "markdown",
      "source": [
        "###### Análise uniivariada (gráficos)"
      ],
      "metadata": {
        "id": "A_uGj2z8enfm"
      }
    },
    {
      "cell_type": "code",
      "source": [],
      "metadata": {
        "id": "WYjfwXLIelMQ"
      },
      "execution_count": 1,
      "outputs": []
    },
    {
      "cell_type": "markdown",
      "source": [
        "- Distribuição"
      ],
      "metadata": {
        "id": "wEB1gt1DeraW"
      }
    },
    {
      "cell_type": "code",
      "source": [
        "# Histograma"
      ],
      "metadata": {
        "id": "lxnAqaS2emqw"
      },
      "execution_count": 2,
      "outputs": []
    },
    {
      "cell_type": "code",
      "source": [
        "# Boxplot"
      ],
      "metadata": {
        "id": "PAzNeocZewRB"
      },
      "execution_count": 3,
      "outputs": []
    },
    {
      "cell_type": "code",
      "source": [
        "# ViolinPlot (não uso)"
      ],
      "metadata": {
        "id": "61m-OHdZew5X"
      },
      "execution_count": null,
      "outputs": []
    },
    {
      "cell_type": "markdown",
      "source": [
        "###### Análise bivariada (estatísticas)"
      ],
      "metadata": {
        "id": "8U3RajpOfAEH"
      }
    },
    {
      "cell_type": "markdown",
      "source": [
        "- Correlação"
      ],
      "metadata": {
        "id": "7btjQmqGfLdP"
      }
    },
    {
      "cell_type": "code",
      "source": [],
      "metadata": {
        "id": "MiAj_J9YfM5Y"
      },
      "execution_count": null,
      "outputs": []
    },
    {
      "cell_type": "markdown",
      "source": [
        "- Testes de hipóteses"
      ],
      "metadata": {
        "id": "HOrkELCSfNV3"
      }
    },
    {
      "cell_type": "code",
      "source": [
        "# Teste-T"
      ],
      "metadata": {
        "id": "ZzVB5AS4fPhP"
      },
      "execution_count": 4,
      "outputs": []
    },
    {
      "cell_type": "code",
      "source": [
        "# ANOVA"
      ],
      "metadata": {
        "id": "cQRh-58OfQSK"
      },
      "execution_count": 5,
      "outputs": []
    },
    {
      "cell_type": "markdown",
      "source": [
        "###### Análise bivariada (gráficos)"
      ],
      "metadata": {
        "id": "bIuXqNT5fWlP"
      }
    },
    {
      "cell_type": "markdown",
      "source": [
        "- Correlação"
      ],
      "metadata": {
        "id": "fAFyM2p3fY6L"
      }
    },
    {
      "cell_type": "code",
      "source": [
        "# HeatMap (correlação)"
      ],
      "metadata": {
        "id": "9HkziBVgfUB5"
      },
      "execution_count": 6,
      "outputs": []
    },
    {
      "cell_type": "code",
      "source": [
        "# ScatterPlots"
      ],
      "metadata": {
        "id": "GbS7Xa9HffBJ"
      },
      "execution_count": 7,
      "outputs": []
    },
    {
      "cell_type": "code",
      "source": [],
      "metadata": {
        "id": "TFj_XVqzfgoR"
      },
      "execution_count": null,
      "outputs": []
    },
    {
      "cell_type": "markdown",
      "source": [
        "##### Dados categóricos"
      ],
      "metadata": {
        "id": "in44bAGcf7qp"
      }
    },
    {
      "cell_type": "markdown",
      "source": [
        "###### Análise univariada (estatísticas)"
      ],
      "metadata": {
        "id": "euhS14bygBqd"
      }
    },
    {
      "cell_type": "markdown",
      "source": [
        "- Frequência"
      ],
      "metadata": {
        "id": "EHX9lVzsgEML"
      }
    },
    {
      "cell_type": "code",
      "source": [
        "# Tabela de frequência absoluta e relativa"
      ],
      "metadata": {
        "id": "fFg-ZZGYf-KN"
      },
      "execution_count": 8,
      "outputs": []
    },
    {
      "cell_type": "code",
      "source": [
        "# Moda"
      ],
      "metadata": {
        "id": "o1vLEPRKgWpC"
      },
      "execution_count": 9,
      "outputs": []
    },
    {
      "cell_type": "markdown",
      "source": [
        "###### Análise uniivariada (gráficos)"
      ],
      "metadata": {
        "id": "HEUfu-q1gEij"
      }
    },
    {
      "cell_type": "markdown",
      "source": [
        "- Frequência"
      ],
      "metadata": {
        "id": "pPHpc8iSgGwj"
      }
    },
    {
      "cell_type": "code",
      "source": [
        "# Barplot"
      ],
      "metadata": {
        "id": "opLXq8dKgG9k"
      },
      "execution_count": 10,
      "outputs": []
    },
    {
      "cell_type": "code",
      "source": [
        "# StackedPlot"
      ],
      "metadata": {
        "id": "40s7h5kBghZp"
      },
      "execution_count": 11,
      "outputs": []
    },
    {
      "cell_type": "code",
      "source": [
        "# CountPLot"
      ],
      "metadata": {
        "id": "qIbqr4B6ghUD"
      },
      "execution_count": null,
      "outputs": []
    },
    {
      "cell_type": "markdown",
      "source": [
        "- Distribuição"
      ],
      "metadata": {
        "id": "BzR7Eb_LgmBy"
      }
    },
    {
      "cell_type": "code",
      "source": [
        "# PieChart"
      ],
      "metadata": {
        "id": "QAwHLdRcghNJ"
      },
      "execution_count": 12,
      "outputs": []
    },
    {
      "cell_type": "markdown",
      "source": [
        "###### Análise bivariada (estatísticas)"
      ],
      "metadata": {
        "id": "ytoq_RTIgHHk"
      }
    },
    {
      "cell_type": "markdown",
      "source": [
        "- Frequência"
      ],
      "metadata": {
        "id": "Pk9ZWYqZgJns"
      }
    },
    {
      "cell_type": "code",
      "source": [
        "# Tabela de frequência cruzada"
      ],
      "metadata": {
        "id": "MgN9bHn0gJ7m"
      },
      "execution_count": null,
      "outputs": []
    },
    {
      "cell_type": "markdown",
      "source": [
        "- Testes de Hipóteses"
      ],
      "metadata": {
        "id": "Y0Pq_5Yxg1gE"
      }
    },
    {
      "cell_type": "code",
      "source": [
        "# Qui-Quadrado"
      ],
      "metadata": {
        "id": "r6UXRRssg19l"
      },
      "execution_count": 13,
      "outputs": []
    },
    {
      "cell_type": "code",
      "source": [
        "# Coeficiente de Cramér"
      ],
      "metadata": {
        "id": "QBmkwxzSg2Ol"
      },
      "execution_count": 14,
      "outputs": []
    },
    {
      "cell_type": "markdown",
      "source": [
        "###### Análise bivariada (gráficos)"
      ],
      "metadata": {
        "id": "YzBAnC6ogKdT"
      }
    },
    {
      "cell_type": "markdown",
      "source": [
        "- Frequência"
      ],
      "metadata": {
        "id": "uOTqPO1WgNNA"
      }
    },
    {
      "cell_type": "code",
      "source": [
        "# Barplot"
      ],
      "metadata": {
        "id": "lvMWMlrfgNdx"
      },
      "execution_count": 15,
      "outputs": []
    },
    {
      "cell_type": "code",
      "source": [
        "# StackdPlot"
      ],
      "metadata": {
        "id": "qgSgjdqahB-r"
      },
      "execution_count": null,
      "outputs": []
    },
    {
      "cell_type": "markdown",
      "source": [
        "- Comparação"
      ],
      "metadata": {
        "id": "mU54gZJThDwV"
      }
    },
    {
      "cell_type": "code",
      "source": [
        "# MosaicPlot"
      ],
      "metadata": {
        "id": "-oHOH2dnhFYU"
      },
      "execution_count": 16,
      "outputs": []
    },
    {
      "cell_type": "markdown",
      "source": [
        "## Feature Engineer (como etapa)"
      ],
      "metadata": {
        "id": "AkaJPkUthYji"
      }
    },
    {
      "cell_type": "markdown",
      "source": [
        "- Remoção de variáveis que não representam informações relevantes (ex: IDs)"
      ],
      "metadata": {
        "id": "WR2nbsb9h9hd"
      }
    },
    {
      "cell_type": "code",
      "source": [],
      "metadata": {
        "id": "kPVB1sfZhHUr"
      },
      "execution_count": null,
      "outputs": []
    },
    {
      "cell_type": "markdown",
      "source": [
        "- Remoção da variável target para evitar vazamento de informações."
      ],
      "metadata": {
        "id": "eWUzwMLCiEoL"
      }
    },
    {
      "cell_type": "code",
      "source": [],
      "metadata": {
        "id": "sGGo8Ys7iIYU"
      },
      "execution_count": null,
      "outputs": []
    },
    {
      "cell_type": "markdown",
      "source": [
        "- Agrupamento de variáveis numéricas com muitos valores únicos em faixas (classes) para simplificação."
      ],
      "metadata": {
        "id": "7jLLNvG4iKOT"
      }
    },
    {
      "cell_type": "code",
      "source": [],
      "metadata": {
        "id": "6RwzheOziKsd"
      },
      "execution_count": null,
      "outputs": []
    },
    {
      "cell_type": "markdown",
      "source": [
        "- Derivação de atributos (criação de novas variáveis calculadas a partir de outras)."
      ],
      "metadata": {
        "id": "-gVg5q6ziLFN"
      }
    },
    {
      "cell_type": "code",
      "source": [],
      "metadata": {
        "id": "k_3LoXroiLUb"
      },
      "execution_count": null,
      "outputs": []
    },
    {
      "cell_type": "markdown",
      "source": [
        "- Inclusão de novas variáveis derivadas do tratamento (como categorizações)"
      ],
      "metadata": {
        "id": "zqvP3F3piLrO"
      }
    },
    {
      "cell_type": "code",
      "source": [],
      "metadata": {
        "id": "sOe9aFMyiL8D"
      },
      "execution_count": null,
      "outputs": []
    },
    {
      "cell_type": "markdown",
      "source": [
        "- Tratamento de outliers"
      ],
      "metadata": {
        "id": "UHL3hLB6iYFc"
      }
    },
    {
      "cell_type": "code",
      "source": [],
      "metadata": {
        "id": "36FY2JlEiYWD"
      },
      "execution_count": null,
      "outputs": []
    },
    {
      "cell_type": "markdown",
      "source": [
        "- Balanceamento de classes, se necessário."
      ],
      "metadata": {
        "id": "M-xwdaa6iYwQ"
      }
    },
    {
      "cell_type": "markdown",
      "source": [
        "### Feature Selection"
      ],
      "metadata": {
        "id": "UVbinQoeiyJE"
      }
    },
    {
      "cell_type": "markdown",
      "source": [
        "#### Feature Extraction"
      ],
      "metadata": {
        "id": "BRUvIhKAjBht"
      }
    },
    {
      "cell_type": "markdown",
      "source": [
        "### Feature Engineering"
      ],
      "metadata": {
        "id": "76ZWPKaJi03V"
      }
    },
    {
      "cell_type": "code",
      "source": [],
      "metadata": {
        "id": "PfBz-YJAizy2"
      },
      "execution_count": null,
      "outputs": []
    },
    {
      "cell_type": "markdown",
      "source": [
        "## Pré-processamento\n",
        "\n",
        "- Pode ser feito antes, durante ou depois do Data Wrangling"
      ],
      "metadata": {
        "id": "uCedS1_TjH3k"
      }
    },
    {
      "cell_type": "markdown",
      "source": [
        "### Formatação"
      ],
      "metadata": {
        "id": "PYD-EsqyjQXE"
      }
    },
    {
      "cell_type": "markdown",
      "source": [
        "Codificação das variáveis"
      ],
      "metadata": {
        "id": "K6ZP5-UNjVh3"
      }
    },
    {
      "cell_type": "code",
      "source": [],
      "metadata": {
        "id": "0d0c6NjjjMSW"
      },
      "execution_count": null,
      "outputs": []
    },
    {
      "cell_type": "markdown",
      "source": [
        "### Limpeza"
      ],
      "metadata": {
        "id": "fP-bUK8kjXyc"
      }
    },
    {
      "cell_type": "markdown",
      "source": [
        "- Dados ausentes (espaços em braco, caracteres especiais, etc)"
      ],
      "metadata": {
        "id": "SDzjwfDem_iK"
      }
    },
    {
      "cell_type": "code",
      "source": [],
      "metadata": {
        "id": "JwmVwJYdjZeH"
      },
      "execution_count": null,
      "outputs": []
    },
    {
      "cell_type": "markdown",
      "source": [
        "- NA's"
      ],
      "metadata": {
        "id": "aT-rf0BHjZ3m"
      }
    },
    {
      "cell_type": "code",
      "source": [],
      "metadata": {
        "id": "GOwe1sqajaFu"
      },
      "execution_count": null,
      "outputs": []
    },
    {
      "cell_type": "markdown",
      "source": [
        "- Duplicados"
      ],
      "metadata": {
        "id": "Mfdsb8ikjaU1"
      }
    },
    {
      "cell_type": "code",
      "source": [],
      "metadata": {
        "id": "qHMKqvfEja4O"
      },
      "execution_count": null,
      "outputs": []
    },
    {
      "cell_type": "markdown",
      "source": [
        "### Amostragem\n",
        "\n",
        " - Amostra para análise, ainda não é o split em treinamento e teste: colher uma amostra representativa para seguir, não é necessário seguir com a base toda."
      ],
      "metadata": {
        "id": "X9HYIJorjbnV"
      }
    },
    {
      "cell_type": "code",
      "source": [],
      "metadata": {
        "id": "fxqV6RpIjftf"
      },
      "execution_count": null,
      "outputs": []
    },
    {
      "cell_type": "markdown",
      "source": [
        "## Transformação"
      ],
      "metadata": {
        "id": "vgOPdEVooB1R"
      }
    },
    {
      "cell_type": "markdown",
      "source": [
        "- Agregação de variáveis."
      ],
      "metadata": {
        "id": "GSsEHRBloH2S"
      }
    },
    {
      "cell_type": "code",
      "source": [],
      "metadata": {
        "id": "Q70DSlgkoIJQ"
      },
      "execution_count": null,
      "outputs": []
    },
    {
      "cell_type": "markdown",
      "source": [
        "- Decomposição de variáveis."
      ],
      "metadata": {
        "id": "PvLL34SYoIf5"
      }
    },
    {
      "cell_type": "code",
      "source": [],
      "metadata": {
        "id": "-rNW1z9hoIrp"
      },
      "execution_count": null,
      "outputs": []
    },
    {
      "cell_type": "markdown",
      "source": [
        "- Escalonamento."
      ],
      "metadata": {
        "id": "lsV8pRFqoJIh"
      }
    },
    {
      "cell_type": "code",
      "source": [],
      "metadata": {
        "id": "5A7YcIoMoJYJ"
      },
      "execution_count": null,
      "outputs": []
    },
    {
      "cell_type": "markdown",
      "source": [
        "## Split da base"
      ],
      "metadata": {
        "id": "lX7IUOj6odDM"
      }
    },
    {
      "cell_type": "code",
      "source": [],
      "metadata": {
        "id": "Kw0NVXSZofCM"
      },
      "execution_count": null,
      "outputs": []
    },
    {
      "cell_type": "markdown",
      "source": [
        "## Escolha do algoritmo"
      ],
      "metadata": {
        "id": "ZQrWs1KAofqE"
      }
    },
    {
      "cell_type": "code",
      "source": [],
      "metadata": {
        "id": "sfvNxIWCoha1"
      },
      "execution_count": null,
      "outputs": []
    },
    {
      "cell_type": "markdown",
      "source": [
        "## Treinamento"
      ],
      "metadata": {
        "id": "gY-4psNWoiZO"
      }
    },
    {
      "cell_type": "code",
      "source": [],
      "metadata": {
        "id": "s9P9L9gCohx5"
      },
      "execution_count": null,
      "outputs": []
    },
    {
      "cell_type": "markdown",
      "source": [
        "## Avaliação"
      ],
      "metadata": {
        "id": "A-PjB6ifolCU"
      }
    },
    {
      "cell_type": "code",
      "source": [],
      "metadata": {
        "id": "mD1qZJ02omQe"
      },
      "execution_count": null,
      "outputs": []
    },
    {
      "cell_type": "markdown",
      "source": [
        "## Otimização"
      ],
      "metadata": {
        "id": "cZFrSBSlomtu"
      }
    },
    {
      "cell_type": "code",
      "source": [],
      "metadata": {
        "id": "z9Kl8ENfoom2"
      },
      "execution_count": null,
      "outputs": []
    },
    {
      "cell_type": "markdown",
      "source": [
        "## Conclusão e documentação"
      ],
      "metadata": {
        "id": "7yTOloA1o9Y1"
      }
    },
    {
      "cell_type": "code",
      "source": [],
      "metadata": {
        "id": "rTGo_zQIpAje"
      },
      "execution_count": null,
      "outputs": []
    },
    {
      "cell_type": "markdown",
      "source": [
        "## Apresentação"
      ],
      "metadata": {
        "id": "ZJqMcxu_pBXX"
      }
    },
    {
      "cell_type": "code",
      "source": [],
      "metadata": {
        "id": "1NgEyGnjpE2u"
      },
      "execution_count": null,
      "outputs": []
    },
    {
      "cell_type": "markdown",
      "source": [
        "## Deploy"
      ],
      "metadata": {
        "id": "0PI5qaElpFTN"
      }
    },
    {
      "cell_type": "code",
      "source": [],
      "metadata": {
        "id": "Y1zKLe0bpGJm"
      },
      "execution_count": null,
      "outputs": []
    }
  ]
}